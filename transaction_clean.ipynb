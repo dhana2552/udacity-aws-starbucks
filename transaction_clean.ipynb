{
 "cells": [
  {
   "cell_type": "markdown",
   "metadata": {},
   "source": [
    "## Pre-processing Transaction data for test dataset\n",
    "In this notebook, the whole dataset merged from profile and transcript is used. The main purpose is to assign offer ids to transacted data and then use them in the lambda function to predict if the given offer will be **successful** for the new customers.\n",
    "\n",
    "The flow of the notebook is as follows:\n",
    "* Carefully assign null values in the order of **reward -> event -> offer_id** in ***profile_transcript.csv*** dataset\n",
    "* Merge the dataset with **portfolio** dataset\n",
    "* Clean the dataset and perform feature engineering\n",
    "* Split the dataset into train and test, then evaluate with Random Forest\n",
    "* Export to csv and use in lambda function "
   ]
  },
  {
   "cell_type": "code",
   "execution_count": 1,
   "metadata": {},
   "outputs": [],
   "source": [
    "import pandas as pd\n",
    "import numpy as np\n",
    "import matplotlib.pyplot as plt\n",
    "import seaborn as sns\n",
    "import warnings\n",
    "import sagemaker\n",
    "warnings.filterwarnings('ignore')\n",
    "import json\n",
    "import boto3"
   ]
  },
  {
   "cell_type": "code",
   "execution_count": 2,
   "metadata": {},
   "outputs": [],
   "source": [
    "s3 = boto3.client('s3')\n",
    "# session and role\n",
    "sagemaker_session = sagemaker.Session()\n",
    "\n",
    "# create an S3 bucket\n",
    "bucket = sagemaker_session.default_bucket()\n",
    "key = 'input_data/profile_transcript.csv'\n",
    "data_location = 's3://{}/{}'.format(bucket,key)\n",
    "df = pd.read_csv(data_location)"
   ]
  },
  {
   "cell_type": "code",
   "execution_count": 3,
   "metadata": {},
   "outputs": [],
   "source": [
    "portfolio = pd.read_json('portfolio.json', orient='records', lines=True)"
   ]
  },
  {
   "cell_type": "code",
   "execution_count": 4,
   "metadata": {},
   "outputs": [
    {
     "name": "stdout",
     "output_type": "stream",
     "text": [
      "<class 'pandas.core.frame.DataFrame'>\n",
      "RangeIndex: 272388 entries, 0 to 272387\n",
      "Data columns (total 11 columns):\n",
      " #   Column            Non-Null Count   Dtype  \n",
      "---  ------            --------------   -----  \n",
      " 0   gender            272388 non-null  object \n",
      " 1   age               272388 non-null  int64  \n",
      " 2   member_id         272388 non-null  int64  \n",
      " 3   became_member_on  272388 non-null  object \n",
      " 4   income            272388 non-null  float64\n",
      " 5   membership_days   272388 non-null  int64  \n",
      " 6   event             272388 non-null  object \n",
      " 7   time              272388 non-null  int64  \n",
      " 8   amount            123957 non-null  float64\n",
      " 9   reward            32070 non-null   float64\n",
      " 10  offer_id          148431 non-null  float64\n",
      "dtypes: float64(4), int64(4), object(3)\n",
      "memory usage: 22.9+ MB\n"
     ]
    }
   ],
   "source": [
    "df.info()"
   ]
  },
  {
   "cell_type": "code",
   "execution_count": 5,
   "metadata": {},
   "outputs": [],
   "source": [
    "#Converting gender dtype to int\n",
    "gender_list = {'M':0, 'F':1, 'O':2}\n",
    "df.gender = df.gender.map(gender_list)\n",
    "#became_member_on - as it is replaced as membership_days. Also, dropping amount for not in use\n",
    "df1 = df.drop(['became_member_on', 'amount'], axis=1)"
   ]
  },
  {
   "cell_type": "code",
   "execution_count": 6,
   "metadata": {},
   "outputs": [
    {
     "data": {
      "text/plain": [
       "gender                  0\n",
       "age                     0\n",
       "member_id               0\n",
       "income                  0\n",
       "membership_days         0\n",
       "event                   0\n",
       "time                    0\n",
       "reward             240318\n",
       "offer_id           123957\n",
       "dtype: int64"
      ]
     },
     "execution_count": 6,
     "metadata": {},
     "output_type": "execute_result"
    }
   ],
   "source": [
    "df1.isnull().sum()"
   ]
  },
  {
   "cell_type": "code",
   "execution_count": 7,
   "metadata": {},
   "outputs": [
    {
     "data": {
      "text/plain": [
       "0"
      ]
     },
     "execution_count": 7,
     "metadata": {},
     "output_type": "execute_result"
    }
   ],
   "source": [
    "df1.duplicated().sum()"
   ]
  },
  {
   "cell_type": "code",
   "execution_count": 8,
   "metadata": {},
   "outputs": [
    {
     "name": "stdout",
     "output_type": "stream",
     "text": [
      "<class 'pandas.core.frame.DataFrame'>\n",
      "RangeIndex: 272388 entries, 0 to 272387\n",
      "Data columns (total 9 columns):\n",
      " #   Column           Non-Null Count   Dtype  \n",
      "---  ------           --------------   -----  \n",
      " 0   gender           272388 non-null  int64  \n",
      " 1   age              272388 non-null  int64  \n",
      " 2   member_id        272388 non-null  int64  \n",
      " 3   income           272388 non-null  float64\n",
      " 4   membership_days  272388 non-null  int64  \n",
      " 5   event            272388 non-null  object \n",
      " 6   time             272388 non-null  int64  \n",
      " 7   reward           32070 non-null   float64\n",
      " 8   offer_id         148431 non-null  float64\n",
      "dtypes: float64(3), int64(5), object(1)\n",
      "memory usage: 18.7+ MB\n"
     ]
    }
   ],
   "source": [
    "df1.info()"
   ]
  },
  {
   "cell_type": "code",
   "execution_count": 9,
   "metadata": {},
   "outputs": [
    {
     "data": {
      "text/html": [
       "<div>\n",
       "<style scoped>\n",
       "    .dataframe tbody tr th:only-of-type {\n",
       "        vertical-align: middle;\n",
       "    }\n",
       "\n",
       "    .dataframe tbody tr th {\n",
       "        vertical-align: top;\n",
       "    }\n",
       "\n",
       "    .dataframe thead th {\n",
       "        text-align: right;\n",
       "    }\n",
       "</style>\n",
       "<table border=\"1\" class=\"dataframe\">\n",
       "  <thead>\n",
       "    <tr style=\"text-align: right;\">\n",
       "      <th></th>\n",
       "      <th>gender</th>\n",
       "      <th>age</th>\n",
       "      <th>member_id</th>\n",
       "      <th>income</th>\n",
       "      <th>membership_days</th>\n",
       "      <th>event</th>\n",
       "      <th>time</th>\n",
       "      <th>reward</th>\n",
       "      <th>offer_id</th>\n",
       "    </tr>\n",
       "  </thead>\n",
       "  <tbody>\n",
       "    <tr>\n",
       "      <th>0</th>\n",
       "      <td>1</td>\n",
       "      <td>55</td>\n",
       "      <td>7577</td>\n",
       "      <td>112000.0</td>\n",
       "      <td>1653</td>\n",
       "      <td>transaction</td>\n",
       "      <td>18</td>\n",
       "      <td>NaN</td>\n",
       "      <td>NaN</td>\n",
       "    </tr>\n",
       "    <tr>\n",
       "      <th>1</th>\n",
       "      <td>1</td>\n",
       "      <td>55</td>\n",
       "      <td>7577</td>\n",
       "      <td>112000.0</td>\n",
       "      <td>1653</td>\n",
       "      <td>transaction</td>\n",
       "      <td>144</td>\n",
       "      <td>NaN</td>\n",
       "      <td>NaN</td>\n",
       "    </tr>\n",
       "    <tr>\n",
       "      <th>2</th>\n",
       "      <td>1</td>\n",
       "      <td>55</td>\n",
       "      <td>7577</td>\n",
       "      <td>112000.0</td>\n",
       "      <td>1653</td>\n",
       "      <td>offer received</td>\n",
       "      <td>408</td>\n",
       "      <td>NaN</td>\n",
       "      <td>4.0</td>\n",
       "    </tr>\n",
       "    <tr>\n",
       "      <th>3</th>\n",
       "      <td>1</td>\n",
       "      <td>55</td>\n",
       "      <td>7577</td>\n",
       "      <td>112000.0</td>\n",
       "      <td>1653</td>\n",
       "      <td>offer received</td>\n",
       "      <td>504</td>\n",
       "      <td>NaN</td>\n",
       "      <td>3.0</td>\n",
       "    </tr>\n",
       "    <tr>\n",
       "      <th>4</th>\n",
       "      <td>1</td>\n",
       "      <td>55</td>\n",
       "      <td>7577</td>\n",
       "      <td>112000.0</td>\n",
       "      <td>1653</td>\n",
       "      <td>transaction</td>\n",
       "      <td>528</td>\n",
       "      <td>NaN</td>\n",
       "      <td>NaN</td>\n",
       "    </tr>\n",
       "  </tbody>\n",
       "</table>\n",
       "</div>"
      ],
      "text/plain": [
       "   gender  age  member_id    income  membership_days           event  time  \\\n",
       "0       1   55       7577  112000.0             1653     transaction    18   \n",
       "1       1   55       7577  112000.0             1653     transaction   144   \n",
       "2       1   55       7577  112000.0             1653  offer received   408   \n",
       "3       1   55       7577  112000.0             1653  offer received   504   \n",
       "4       1   55       7577  112000.0             1653     transaction   528   \n",
       "\n",
       "   reward  offer_id  \n",
       "0     NaN       NaN  \n",
       "1     NaN       NaN  \n",
       "2     NaN       4.0  \n",
       "3     NaN       3.0  \n",
       "4     NaN       NaN  "
      ]
     },
     "execution_count": 9,
     "metadata": {},
     "output_type": "execute_result"
    }
   ],
   "source": [
    "df1.head()"
   ]
  },
  {
   "cell_type": "markdown",
   "metadata": {},
   "source": [
    "***Getting reward values***"
   ]
  },
  {
   "cell_type": "code",
   "execution_count": 10,
   "metadata": {},
   "outputs": [],
   "source": [
    "#Drop offer_id column for now\n",
    "df_reward = df1.drop(['offer_id'], axis=1)"
   ]
  },
  {
   "cell_type": "code",
   "execution_count": 11,
   "metadata": {},
   "outputs": [],
   "source": [
    "#Creating a new df for evaluating records with rewards\n",
    "with_reward = df_reward[df_reward.event != 'transaction']"
   ]
  },
  {
   "cell_type": "code",
   "execution_count": 12,
   "metadata": {},
   "outputs": [
    {
     "data": {
      "text/plain": [
       "array(['offer received', 'offer viewed'], dtype=object)"
      ]
     },
     "execution_count": 12,
     "metadata": {},
     "output_type": "execute_result"
    }
   ],
   "source": [
    "with_reward[with_reward.reward.isnull()].event.unique()"
   ]
  },
  {
   "cell_type": "code",
   "execution_count": 13,
   "metadata": {},
   "outputs": [],
   "source": [
    "##Filling null values in reward column to 0 as those records had event values of either 'offer received' or 'offer viewed'. As per the dataset, the reward will be given only if the event is 'offer completed'\n",
    "with_reward.reward.fillna(0, inplace=True)"
   ]
  },
  {
   "cell_type": "code",
   "execution_count": 14,
   "metadata": {},
   "outputs": [],
   "source": [
    "#Dropping the event column for analysis\n",
    "with_reward.drop(['event'], axis=1, inplace=True)"
   ]
  },
  {
   "cell_type": "code",
   "execution_count": 15,
   "metadata": {},
   "outputs": [
    {
     "data": {
      "text/plain": [
       "gender             0\n",
       "age                0\n",
       "member_id          0\n",
       "income             0\n",
       "membership_days    0\n",
       "time               0\n",
       "reward             0\n",
       "dtype: int64"
      ]
     },
     "execution_count": 15,
     "metadata": {},
     "output_type": "execute_result"
    }
   ],
   "source": [
    "with_reward.isnull().sum()"
   ]
  },
  {
   "cell_type": "code",
   "execution_count": 16,
   "metadata": {},
   "outputs": [
    {
     "data": {
      "text/plain": [
       "array([ 0.,  5., 10.,  2.,  3.])"
      ]
     },
     "execution_count": 16,
     "metadata": {},
     "output_type": "execute_result"
    }
   ],
   "source": [
    "with_reward.reward.unique()"
   ]
  },
  {
   "cell_type": "code",
   "execution_count": 17,
   "metadata": {},
   "outputs": [
    {
     "data": {
      "text/plain": [
       "11263"
      ]
     },
     "execution_count": 17,
     "metadata": {},
     "output_type": "execute_result"
    }
   ],
   "source": [
    "with_reward.duplicated().sum()"
   ]
  },
  {
   "cell_type": "code",
   "execution_count": 18,
   "metadata": {},
   "outputs": [],
   "source": [
    "#Removing duplicates and evaluating the records\n",
    "with_reward1 = with_reward.drop_duplicates(keep='first')\n",
    "X_reward = with_reward1.drop(['reward'], axis=1)\n",
    "y_reward = with_reward1.reward"
   ]
  },
  {
   "cell_type": "code",
   "execution_count": 19,
   "metadata": {},
   "outputs": [
    {
     "data": {
      "text/plain": [
       "0.7086097543194576"
      ]
     },
     "execution_count": 19,
     "metadata": {},
     "output_type": "execute_result"
    }
   ],
   "source": [
    "from sklearn.model_selection import train_test_split\n",
    "from sklearn.ensemble import RandomForestClassifier\n",
    "from sklearn.metrics import accuracy_score\n",
    "X_train, X_test, y_train, y_test = train_test_split(X_reward, y_reward, test_size=0.2, random_state=42)\n",
    "rfc_reward = RandomForestClassifier(n_estimators=100, random_state=0)\n",
    "rfc_reward.fit(X_train, y_train)\n",
    "accuracy_score(y_test, rfc_reward.predict(X_test))"
   ]
  },
  {
   "cell_type": "code",
   "execution_count": 20,
   "metadata": {},
   "outputs": [
    {
     "data": {
      "text/html": [
       "<div>\n",
       "<style scoped>\n",
       "    .dataframe tbody tr th:only-of-type {\n",
       "        vertical-align: middle;\n",
       "    }\n",
       "\n",
       "    .dataframe tbody tr th {\n",
       "        vertical-align: top;\n",
       "    }\n",
       "\n",
       "    .dataframe thead th {\n",
       "        text-align: right;\n",
       "    }\n",
       "</style>\n",
       "<table border=\"1\" class=\"dataframe\">\n",
       "  <thead>\n",
       "    <tr style=\"text-align: right;\">\n",
       "      <th></th>\n",
       "      <th>gender</th>\n",
       "      <th>age</th>\n",
       "      <th>member_id</th>\n",
       "      <th>income</th>\n",
       "      <th>membership_days</th>\n",
       "      <th>event</th>\n",
       "      <th>time</th>\n",
       "      <th>reward</th>\n",
       "    </tr>\n",
       "  </thead>\n",
       "  <tbody>\n",
       "    <tr>\n",
       "      <th>0</th>\n",
       "      <td>1</td>\n",
       "      <td>55</td>\n",
       "      <td>7577</td>\n",
       "      <td>112000.0</td>\n",
       "      <td>1653</td>\n",
       "      <td>transaction</td>\n",
       "      <td>18</td>\n",
       "      <td>NaN</td>\n",
       "    </tr>\n",
       "    <tr>\n",
       "      <th>1</th>\n",
       "      <td>1</td>\n",
       "      <td>55</td>\n",
       "      <td>7577</td>\n",
       "      <td>112000.0</td>\n",
       "      <td>1653</td>\n",
       "      <td>transaction</td>\n",
       "      <td>144</td>\n",
       "      <td>NaN</td>\n",
       "    </tr>\n",
       "    <tr>\n",
       "      <th>2</th>\n",
       "      <td>1</td>\n",
       "      <td>55</td>\n",
       "      <td>7577</td>\n",
       "      <td>112000.0</td>\n",
       "      <td>1653</td>\n",
       "      <td>offer received</td>\n",
       "      <td>408</td>\n",
       "      <td>NaN</td>\n",
       "    </tr>\n",
       "    <tr>\n",
       "      <th>3</th>\n",
       "      <td>1</td>\n",
       "      <td>55</td>\n",
       "      <td>7577</td>\n",
       "      <td>112000.0</td>\n",
       "      <td>1653</td>\n",
       "      <td>offer received</td>\n",
       "      <td>504</td>\n",
       "      <td>NaN</td>\n",
       "    </tr>\n",
       "    <tr>\n",
       "      <th>4</th>\n",
       "      <td>1</td>\n",
       "      <td>55</td>\n",
       "      <td>7577</td>\n",
       "      <td>112000.0</td>\n",
       "      <td>1653</td>\n",
       "      <td>transaction</td>\n",
       "      <td>528</td>\n",
       "      <td>NaN</td>\n",
       "    </tr>\n",
       "  </tbody>\n",
       "</table>\n",
       "</div>"
      ],
      "text/plain": [
       "   gender  age  member_id    income  membership_days           event  time  \\\n",
       "0       1   55       7577  112000.0             1653     transaction    18   \n",
       "1       1   55       7577  112000.0             1653     transaction   144   \n",
       "2       1   55       7577  112000.0             1653  offer received   408   \n",
       "3       1   55       7577  112000.0             1653  offer received   504   \n",
       "4       1   55       7577  112000.0             1653     transaction   528   \n",
       "\n",
       "   reward  \n",
       "0     NaN  \n",
       "1     NaN  \n",
       "2     NaN  \n",
       "3     NaN  \n",
       "4     NaN  "
      ]
     },
     "execution_count": 20,
     "metadata": {},
     "output_type": "execute_result"
    }
   ],
   "source": [
    "df_reward.head()"
   ]
  },
  {
   "cell_type": "code",
   "execution_count": 21,
   "metadata": {},
   "outputs": [],
   "source": [
    "#Lets assign rewards to the records with event values of 'transaction'\n",
    "without_reward = df_reward[df_reward.event == 'transaction']"
   ]
  },
  {
   "cell_type": "code",
   "execution_count": 22,
   "metadata": {},
   "outputs": [
    {
     "data": {
      "text/plain": [
       "RandomForestClassifier(random_state=0)"
      ]
     },
     "execution_count": 22,
     "metadata": {},
     "output_type": "execute_result"
    }
   ],
   "source": [
    "rfc = RandomForestClassifier(n_estimators=100, random_state=0)\n",
    "rfc.fit(X_reward, y_reward)"
   ]
  },
  {
   "cell_type": "code",
   "execution_count": 23,
   "metadata": {},
   "outputs": [],
   "source": [
    "#Drop reward column and assign the values with predictions. Event is dropped as well as the classifier excepts no event column\n",
    "without_reward.drop(['reward','event'], axis=1, inplace=True)\n",
    "without_reward['reward'] = rfc.predict(without_reward)"
   ]
  },
  {
   "cell_type": "code",
   "execution_count": 24,
   "metadata": {},
   "outputs": [
    {
     "data": {
      "text/html": [
       "<div>\n",
       "<style scoped>\n",
       "    .dataframe tbody tr th:only-of-type {\n",
       "        vertical-align: middle;\n",
       "    }\n",
       "\n",
       "    .dataframe tbody tr th {\n",
       "        vertical-align: top;\n",
       "    }\n",
       "\n",
       "    .dataframe thead th {\n",
       "        text-align: right;\n",
       "    }\n",
       "</style>\n",
       "<table border=\"1\" class=\"dataframe\">\n",
       "  <thead>\n",
       "    <tr style=\"text-align: right;\">\n",
       "      <th></th>\n",
       "      <th>gender</th>\n",
       "      <th>age</th>\n",
       "      <th>member_id</th>\n",
       "      <th>income</th>\n",
       "      <th>membership_days</th>\n",
       "      <th>time</th>\n",
       "      <th>reward</th>\n",
       "    </tr>\n",
       "  </thead>\n",
       "  <tbody>\n",
       "    <tr>\n",
       "      <th>0</th>\n",
       "      <td>1</td>\n",
       "      <td>55</td>\n",
       "      <td>7577</td>\n",
       "      <td>112000.0</td>\n",
       "      <td>1653</td>\n",
       "      <td>18</td>\n",
       "      <td>0.0</td>\n",
       "    </tr>\n",
       "    <tr>\n",
       "      <th>1</th>\n",
       "      <td>1</td>\n",
       "      <td>55</td>\n",
       "      <td>7577</td>\n",
       "      <td>112000.0</td>\n",
       "      <td>1653</td>\n",
       "      <td>144</td>\n",
       "      <td>0.0</td>\n",
       "    </tr>\n",
       "    <tr>\n",
       "      <th>4</th>\n",
       "      <td>1</td>\n",
       "      <td>55</td>\n",
       "      <td>7577</td>\n",
       "      <td>112000.0</td>\n",
       "      <td>1653</td>\n",
       "      <td>528</td>\n",
       "      <td>5.0</td>\n",
       "    </tr>\n",
       "    <tr>\n",
       "      <th>8</th>\n",
       "      <td>1</td>\n",
       "      <td>75</td>\n",
       "      <td>14394</td>\n",
       "      <td>100000.0</td>\n",
       "      <td>1720</td>\n",
       "      <td>132</td>\n",
       "      <td>5.0</td>\n",
       "    </tr>\n",
       "    <tr>\n",
       "      <th>10</th>\n",
       "      <td>1</td>\n",
       "      <td>75</td>\n",
       "      <td>14394</td>\n",
       "      <td>100000.0</td>\n",
       "      <td>1720</td>\n",
       "      <td>144</td>\n",
       "      <td>5.0</td>\n",
       "    </tr>\n",
       "  </tbody>\n",
       "</table>\n",
       "</div>"
      ],
      "text/plain": [
       "    gender  age  member_id    income  membership_days  time  reward\n",
       "0        1   55       7577  112000.0             1653    18     0.0\n",
       "1        1   55       7577  112000.0             1653   144     0.0\n",
       "4        1   55       7577  112000.0             1653   528     5.0\n",
       "8        1   75      14394  100000.0             1720   132     5.0\n",
       "10       1   75      14394  100000.0             1720   144     5.0"
      ]
     },
     "execution_count": 24,
     "metadata": {},
     "output_type": "execute_result"
    }
   ],
   "source": [
    "without_reward.head()"
   ]
  },
  {
   "cell_type": "code",
   "execution_count": 25,
   "metadata": {},
   "outputs": [
    {
     "name": "stdout",
     "output_type": "stream",
     "text": [
      "df_reward shape:  (272388, 8)\n",
      "with_reward shape:  (148431, 7)\n",
      "without_reward shape:  (123957, 7)\n"
     ]
    }
   ],
   "source": [
    "print(\"df_reward shape: \", df_reward.shape)\n",
    "print(\"with_reward shape: \", with_reward.shape)\n",
    "print(\"without_reward shape: \", without_reward.shape)"
   ]
  },
  {
   "cell_type": "code",
   "execution_count": 26,
   "metadata": {},
   "outputs": [
    {
     "data": {
      "text/plain": [
       "(272388, 7)"
      ]
     },
     "execution_count": 26,
     "metadata": {},
     "output_type": "execute_result"
    }
   ],
   "source": [
    "#Creating a new df\n",
    "df_reward_cleaned = with_reward.append(without_reward)\n",
    "df_reward_cleaned.shape"
   ]
  },
  {
   "cell_type": "code",
   "execution_count": 27,
   "metadata": {},
   "outputs": [
    {
     "data": {
      "text/html": [
       "<div>\n",
       "<style scoped>\n",
       "    .dataframe tbody tr th:only-of-type {\n",
       "        vertical-align: middle;\n",
       "    }\n",
       "\n",
       "    .dataframe tbody tr th {\n",
       "        vertical-align: top;\n",
       "    }\n",
       "\n",
       "    .dataframe thead th {\n",
       "        text-align: right;\n",
       "    }\n",
       "</style>\n",
       "<table border=\"1\" class=\"dataframe\">\n",
       "  <thead>\n",
       "    <tr style=\"text-align: right;\">\n",
       "      <th></th>\n",
       "      <th>gender</th>\n",
       "      <th>age</th>\n",
       "      <th>member_id</th>\n",
       "      <th>income</th>\n",
       "      <th>membership_days</th>\n",
       "      <th>event</th>\n",
       "      <th>time</th>\n",
       "      <th>reward</th>\n",
       "    </tr>\n",
       "  </thead>\n",
       "  <tbody>\n",
       "    <tr>\n",
       "      <th>0</th>\n",
       "      <td>1</td>\n",
       "      <td>55</td>\n",
       "      <td>7577</td>\n",
       "      <td>112000.0</td>\n",
       "      <td>1653</td>\n",
       "      <td>transaction</td>\n",
       "      <td>18</td>\n",
       "      <td>NaN</td>\n",
       "    </tr>\n",
       "    <tr>\n",
       "      <th>1</th>\n",
       "      <td>1</td>\n",
       "      <td>55</td>\n",
       "      <td>7577</td>\n",
       "      <td>112000.0</td>\n",
       "      <td>1653</td>\n",
       "      <td>transaction</td>\n",
       "      <td>144</td>\n",
       "      <td>NaN</td>\n",
       "    </tr>\n",
       "    <tr>\n",
       "      <th>2</th>\n",
       "      <td>1</td>\n",
       "      <td>55</td>\n",
       "      <td>7577</td>\n",
       "      <td>112000.0</td>\n",
       "      <td>1653</td>\n",
       "      <td>offer received</td>\n",
       "      <td>408</td>\n",
       "      <td>NaN</td>\n",
       "    </tr>\n",
       "    <tr>\n",
       "      <th>3</th>\n",
       "      <td>1</td>\n",
       "      <td>55</td>\n",
       "      <td>7577</td>\n",
       "      <td>112000.0</td>\n",
       "      <td>1653</td>\n",
       "      <td>offer received</td>\n",
       "      <td>504</td>\n",
       "      <td>NaN</td>\n",
       "    </tr>\n",
       "    <tr>\n",
       "      <th>4</th>\n",
       "      <td>1</td>\n",
       "      <td>55</td>\n",
       "      <td>7577</td>\n",
       "      <td>112000.0</td>\n",
       "      <td>1653</td>\n",
       "      <td>transaction</td>\n",
       "      <td>528</td>\n",
       "      <td>NaN</td>\n",
       "    </tr>\n",
       "  </tbody>\n",
       "</table>\n",
       "</div>"
      ],
      "text/plain": [
       "   gender  age  member_id    income  membership_days           event  time  \\\n",
       "0       1   55       7577  112000.0             1653     transaction    18   \n",
       "1       1   55       7577  112000.0             1653     transaction   144   \n",
       "2       1   55       7577  112000.0             1653  offer received   408   \n",
       "3       1   55       7577  112000.0             1653  offer received   504   \n",
       "4       1   55       7577  112000.0             1653     transaction   528   \n",
       "\n",
       "   reward  \n",
       "0     NaN  \n",
       "1     NaN  \n",
       "2     NaN  \n",
       "3     NaN  \n",
       "4     NaN  "
      ]
     },
     "execution_count": 27,
     "metadata": {},
     "output_type": "execute_result"
    }
   ],
   "source": [
    "df_reward.head()"
   ]
  },
  {
   "cell_type": "code",
   "execution_count": 28,
   "metadata": {},
   "outputs": [
    {
     "data": {
      "text/html": [
       "<div>\n",
       "<style scoped>\n",
       "    .dataframe tbody tr th:only-of-type {\n",
       "        vertical-align: middle;\n",
       "    }\n",
       "\n",
       "    .dataframe tbody tr th {\n",
       "        vertical-align: top;\n",
       "    }\n",
       "\n",
       "    .dataframe thead th {\n",
       "        text-align: right;\n",
       "    }\n",
       "</style>\n",
       "<table border=\"1\" class=\"dataframe\">\n",
       "  <thead>\n",
       "    <tr style=\"text-align: right;\">\n",
       "      <th></th>\n",
       "      <th>gender</th>\n",
       "      <th>age</th>\n",
       "      <th>member_id</th>\n",
       "      <th>income</th>\n",
       "      <th>membership_days</th>\n",
       "      <th>time</th>\n",
       "      <th>reward</th>\n",
       "    </tr>\n",
       "  </thead>\n",
       "  <tbody>\n",
       "    <tr>\n",
       "      <th>2</th>\n",
       "      <td>1</td>\n",
       "      <td>55</td>\n",
       "      <td>7577</td>\n",
       "      <td>112000.0</td>\n",
       "      <td>1653</td>\n",
       "      <td>408</td>\n",
       "      <td>0.0</td>\n",
       "    </tr>\n",
       "    <tr>\n",
       "      <th>3</th>\n",
       "      <td>1</td>\n",
       "      <td>55</td>\n",
       "      <td>7577</td>\n",
       "      <td>112000.0</td>\n",
       "      <td>1653</td>\n",
       "      <td>504</td>\n",
       "      <td>0.0</td>\n",
       "    </tr>\n",
       "    <tr>\n",
       "      <th>5</th>\n",
       "      <td>1</td>\n",
       "      <td>55</td>\n",
       "      <td>7577</td>\n",
       "      <td>112000.0</td>\n",
       "      <td>1653</td>\n",
       "      <td>528</td>\n",
       "      <td>5.0</td>\n",
       "    </tr>\n",
       "    <tr>\n",
       "      <th>6</th>\n",
       "      <td>1</td>\n",
       "      <td>75</td>\n",
       "      <td>14394</td>\n",
       "      <td>100000.0</td>\n",
       "      <td>1720</td>\n",
       "      <td>0</td>\n",
       "      <td>0.0</td>\n",
       "    </tr>\n",
       "    <tr>\n",
       "      <th>7</th>\n",
       "      <td>1</td>\n",
       "      <td>75</td>\n",
       "      <td>14394</td>\n",
       "      <td>100000.0</td>\n",
       "      <td>1720</td>\n",
       "      <td>6</td>\n",
       "      <td>0.0</td>\n",
       "    </tr>\n",
       "  </tbody>\n",
       "</table>\n",
       "</div>"
      ],
      "text/plain": [
       "   gender  age  member_id    income  membership_days  time  reward\n",
       "2       1   55       7577  112000.0             1653   408     0.0\n",
       "3       1   55       7577  112000.0             1653   504     0.0\n",
       "5       1   55       7577  112000.0             1653   528     5.0\n",
       "6       1   75      14394  100000.0             1720     0     0.0\n",
       "7       1   75      14394  100000.0             1720     6     0.0"
      ]
     },
     "execution_count": 28,
     "metadata": {},
     "output_type": "execute_result"
    }
   ],
   "source": [
    "df_reward_cleaned.head()"
   ]
  },
  {
   "cell_type": "code",
   "execution_count": 29,
   "metadata": {},
   "outputs": [
    {
     "data": {
      "text/plain": [
       "(272388, 8)"
      ]
     },
     "execution_count": 29,
     "metadata": {},
     "output_type": "execute_result"
    }
   ],
   "source": [
    "df_reward.shape"
   ]
  },
  {
   "cell_type": "code",
   "execution_count": 30,
   "metadata": {},
   "outputs": [],
   "source": [
    "#Sorting the cleaned df to match the events\n",
    "df_reward_cleaned.sort_index(inplace=True)"
   ]
  },
  {
   "cell_type": "code",
   "execution_count": 31,
   "metadata": {},
   "outputs": [
    {
     "data": {
      "text/html": [
       "<div>\n",
       "<style scoped>\n",
       "    .dataframe tbody tr th:only-of-type {\n",
       "        vertical-align: middle;\n",
       "    }\n",
       "\n",
       "    .dataframe tbody tr th {\n",
       "        vertical-align: top;\n",
       "    }\n",
       "\n",
       "    .dataframe thead th {\n",
       "        text-align: right;\n",
       "    }\n",
       "</style>\n",
       "<table border=\"1\" class=\"dataframe\">\n",
       "  <thead>\n",
       "    <tr style=\"text-align: right;\">\n",
       "      <th></th>\n",
       "      <th>gender</th>\n",
       "      <th>age</th>\n",
       "      <th>member_id</th>\n",
       "      <th>income</th>\n",
       "      <th>membership_days</th>\n",
       "      <th>time</th>\n",
       "      <th>reward</th>\n",
       "      <th>event</th>\n",
       "    </tr>\n",
       "  </thead>\n",
       "  <tbody>\n",
       "    <tr>\n",
       "      <th>0</th>\n",
       "      <td>1</td>\n",
       "      <td>55</td>\n",
       "      <td>7577</td>\n",
       "      <td>112000.0</td>\n",
       "      <td>1653</td>\n",
       "      <td>18</td>\n",
       "      <td>0.0</td>\n",
       "      <td>transaction</td>\n",
       "    </tr>\n",
       "    <tr>\n",
       "      <th>1</th>\n",
       "      <td>1</td>\n",
       "      <td>55</td>\n",
       "      <td>7577</td>\n",
       "      <td>112000.0</td>\n",
       "      <td>1653</td>\n",
       "      <td>144</td>\n",
       "      <td>0.0</td>\n",
       "      <td>transaction</td>\n",
       "    </tr>\n",
       "    <tr>\n",
       "      <th>2</th>\n",
       "      <td>1</td>\n",
       "      <td>55</td>\n",
       "      <td>7577</td>\n",
       "      <td>112000.0</td>\n",
       "      <td>1653</td>\n",
       "      <td>408</td>\n",
       "      <td>0.0</td>\n",
       "      <td>offer received</td>\n",
       "    </tr>\n",
       "    <tr>\n",
       "      <th>3</th>\n",
       "      <td>1</td>\n",
       "      <td>55</td>\n",
       "      <td>7577</td>\n",
       "      <td>112000.0</td>\n",
       "      <td>1653</td>\n",
       "      <td>504</td>\n",
       "      <td>0.0</td>\n",
       "      <td>offer received</td>\n",
       "    </tr>\n",
       "    <tr>\n",
       "      <th>4</th>\n",
       "      <td>1</td>\n",
       "      <td>55</td>\n",
       "      <td>7577</td>\n",
       "      <td>112000.0</td>\n",
       "      <td>1653</td>\n",
       "      <td>528</td>\n",
       "      <td>5.0</td>\n",
       "      <td>transaction</td>\n",
       "    </tr>\n",
       "  </tbody>\n",
       "</table>\n",
       "</div>"
      ],
      "text/plain": [
       "   gender  age  member_id    income  membership_days  time  reward  \\\n",
       "0       1   55       7577  112000.0             1653    18     0.0   \n",
       "1       1   55       7577  112000.0             1653   144     0.0   \n",
       "2       1   55       7577  112000.0             1653   408     0.0   \n",
       "3       1   55       7577  112000.0             1653   504     0.0   \n",
       "4       1   55       7577  112000.0             1653   528     5.0   \n",
       "\n",
       "            event  \n",
       "0     transaction  \n",
       "1     transaction  \n",
       "2  offer received  \n",
       "3  offer received  \n",
       "4     transaction  "
      ]
     },
     "execution_count": 31,
     "metadata": {},
     "output_type": "execute_result"
    }
   ],
   "source": [
    "df_reward_cleaned['event'] = df_reward['event']\n",
    "df_reward_cleaned.head()"
   ]
  },
  {
   "cell_type": "code",
   "execution_count": 32,
   "metadata": {},
   "outputs": [],
   "source": [
    "#Converting reward dtype to int\n",
    "df_reward_cleaned.reward = df_reward_cleaned.reward.astype(int)"
   ]
  },
  {
   "cell_type": "markdown",
   "metadata": {},
   "source": [
    "**Getting Event Values**\n",
    "* The transaction data is given a dummy event with proper evaluations."
   ]
  },
  {
   "cell_type": "code",
   "execution_count": 33,
   "metadata": {},
   "outputs": [],
   "source": [
    "df_event1 = df_reward_cleaned.copy()\n",
    "for i in df_event1.index:\n",
    "    if df_event1.loc[i, 'event'] == 'transaction':\n",
    "        if df_event1['reward'][i] != 0:\n",
    "            df_event1.loc[i, 'event'] = 'offer completed'\n",
    "        else:\n",
    "            df_event1.loc[i, 'event'] = 'offer viewed'"
   ]
  },
  {
   "cell_type": "code",
   "execution_count": 34,
   "metadata": {},
   "outputs": [
    {
     "data": {
      "text/plain": [
       "array(['offer viewed', 'offer received', 'offer completed'], dtype=object)"
      ]
     },
     "execution_count": 34,
     "metadata": {},
     "output_type": "execute_result"
    }
   ],
   "source": [
    "df_event1.event.unique()"
   ]
  },
  {
   "cell_type": "code",
   "execution_count": 35,
   "metadata": {},
   "outputs": [
    {
     "data": {
      "text/html": [
       "<div>\n",
       "<style scoped>\n",
       "    .dataframe tbody tr th:only-of-type {\n",
       "        vertical-align: middle;\n",
       "    }\n",
       "\n",
       "    .dataframe tbody tr th {\n",
       "        vertical-align: top;\n",
       "    }\n",
       "\n",
       "    .dataframe thead th {\n",
       "        text-align: right;\n",
       "    }\n",
       "</style>\n",
       "<table border=\"1\" class=\"dataframe\">\n",
       "  <thead>\n",
       "    <tr style=\"text-align: right;\">\n",
       "      <th></th>\n",
       "      <th>gender</th>\n",
       "      <th>age</th>\n",
       "      <th>member_id</th>\n",
       "      <th>income</th>\n",
       "      <th>membership_days</th>\n",
       "      <th>time</th>\n",
       "      <th>reward</th>\n",
       "      <th>event</th>\n",
       "    </tr>\n",
       "  </thead>\n",
       "  <tbody>\n",
       "    <tr>\n",
       "      <th>0</th>\n",
       "      <td>1</td>\n",
       "      <td>55</td>\n",
       "      <td>7577</td>\n",
       "      <td>112000.0</td>\n",
       "      <td>1653</td>\n",
       "      <td>18</td>\n",
       "      <td>0</td>\n",
       "      <td>offer viewed</td>\n",
       "    </tr>\n",
       "    <tr>\n",
       "      <th>1</th>\n",
       "      <td>1</td>\n",
       "      <td>55</td>\n",
       "      <td>7577</td>\n",
       "      <td>112000.0</td>\n",
       "      <td>1653</td>\n",
       "      <td>144</td>\n",
       "      <td>0</td>\n",
       "      <td>offer viewed</td>\n",
       "    </tr>\n",
       "    <tr>\n",
       "      <th>2</th>\n",
       "      <td>1</td>\n",
       "      <td>55</td>\n",
       "      <td>7577</td>\n",
       "      <td>112000.0</td>\n",
       "      <td>1653</td>\n",
       "      <td>408</td>\n",
       "      <td>0</td>\n",
       "      <td>offer received</td>\n",
       "    </tr>\n",
       "    <tr>\n",
       "      <th>3</th>\n",
       "      <td>1</td>\n",
       "      <td>55</td>\n",
       "      <td>7577</td>\n",
       "      <td>112000.0</td>\n",
       "      <td>1653</td>\n",
       "      <td>504</td>\n",
       "      <td>0</td>\n",
       "      <td>offer received</td>\n",
       "    </tr>\n",
       "    <tr>\n",
       "      <th>4</th>\n",
       "      <td>1</td>\n",
       "      <td>55</td>\n",
       "      <td>7577</td>\n",
       "      <td>112000.0</td>\n",
       "      <td>1653</td>\n",
       "      <td>528</td>\n",
       "      <td>5</td>\n",
       "      <td>offer completed</td>\n",
       "    </tr>\n",
       "  </tbody>\n",
       "</table>\n",
       "</div>"
      ],
      "text/plain": [
       "   gender  age  member_id    income  membership_days  time  reward  \\\n",
       "0       1   55       7577  112000.0             1653    18       0   \n",
       "1       1   55       7577  112000.0             1653   144       0   \n",
       "2       1   55       7577  112000.0             1653   408       0   \n",
       "3       1   55       7577  112000.0             1653   504       0   \n",
       "4       1   55       7577  112000.0             1653   528       5   \n",
       "\n",
       "             event  \n",
       "0     offer viewed  \n",
       "1     offer viewed  \n",
       "2   offer received  \n",
       "3   offer received  \n",
       "4  offer completed  "
      ]
     },
     "execution_count": 35,
     "metadata": {},
     "output_type": "execute_result"
    }
   ],
   "source": [
    "df_event1.head()"
   ]
  },
  {
   "cell_type": "code",
   "execution_count": 36,
   "metadata": {},
   "outputs": [
    {
     "data": {
      "text/plain": [
       "(272388, 8)"
      ]
     },
     "execution_count": 36,
     "metadata": {},
     "output_type": "execute_result"
    }
   ],
   "source": [
    "df_event1.shape"
   ]
  },
  {
   "cell_type": "code",
   "execution_count": 37,
   "metadata": {},
   "outputs": [
    {
     "data": {
      "text/html": [
       "<div>\n",
       "<style scoped>\n",
       "    .dataframe tbody tr th:only-of-type {\n",
       "        vertical-align: middle;\n",
       "    }\n",
       "\n",
       "    .dataframe tbody tr th {\n",
       "        vertical-align: top;\n",
       "    }\n",
       "\n",
       "    .dataframe thead th {\n",
       "        text-align: right;\n",
       "    }\n",
       "</style>\n",
       "<table border=\"1\" class=\"dataframe\">\n",
       "  <thead>\n",
       "    <tr style=\"text-align: right;\">\n",
       "      <th></th>\n",
       "      <th>gender</th>\n",
       "      <th>age</th>\n",
       "      <th>member_id</th>\n",
       "      <th>income</th>\n",
       "      <th>membership_days</th>\n",
       "      <th>event</th>\n",
       "      <th>time</th>\n",
       "      <th>reward</th>\n",
       "      <th>offer_id</th>\n",
       "    </tr>\n",
       "  </thead>\n",
       "  <tbody>\n",
       "    <tr>\n",
       "      <th>0</th>\n",
       "      <td>1</td>\n",
       "      <td>55</td>\n",
       "      <td>7577</td>\n",
       "      <td>112000.0</td>\n",
       "      <td>1653</td>\n",
       "      <td>transaction</td>\n",
       "      <td>18</td>\n",
       "      <td>NaN</td>\n",
       "      <td>NaN</td>\n",
       "    </tr>\n",
       "    <tr>\n",
       "      <th>1</th>\n",
       "      <td>1</td>\n",
       "      <td>55</td>\n",
       "      <td>7577</td>\n",
       "      <td>112000.0</td>\n",
       "      <td>1653</td>\n",
       "      <td>transaction</td>\n",
       "      <td>144</td>\n",
       "      <td>NaN</td>\n",
       "      <td>NaN</td>\n",
       "    </tr>\n",
       "    <tr>\n",
       "      <th>2</th>\n",
       "      <td>1</td>\n",
       "      <td>55</td>\n",
       "      <td>7577</td>\n",
       "      <td>112000.0</td>\n",
       "      <td>1653</td>\n",
       "      <td>offer received</td>\n",
       "      <td>408</td>\n",
       "      <td>NaN</td>\n",
       "      <td>4.0</td>\n",
       "    </tr>\n",
       "    <tr>\n",
       "      <th>3</th>\n",
       "      <td>1</td>\n",
       "      <td>55</td>\n",
       "      <td>7577</td>\n",
       "      <td>112000.0</td>\n",
       "      <td>1653</td>\n",
       "      <td>offer received</td>\n",
       "      <td>504</td>\n",
       "      <td>NaN</td>\n",
       "      <td>3.0</td>\n",
       "    </tr>\n",
       "    <tr>\n",
       "      <th>4</th>\n",
       "      <td>1</td>\n",
       "      <td>55</td>\n",
       "      <td>7577</td>\n",
       "      <td>112000.0</td>\n",
       "      <td>1653</td>\n",
       "      <td>transaction</td>\n",
       "      <td>528</td>\n",
       "      <td>NaN</td>\n",
       "      <td>NaN</td>\n",
       "    </tr>\n",
       "  </tbody>\n",
       "</table>\n",
       "</div>"
      ],
      "text/plain": [
       "   gender  age  member_id    income  membership_days           event  time  \\\n",
       "0       1   55       7577  112000.0             1653     transaction    18   \n",
       "1       1   55       7577  112000.0             1653     transaction   144   \n",
       "2       1   55       7577  112000.0             1653  offer received   408   \n",
       "3       1   55       7577  112000.0             1653  offer received   504   \n",
       "4       1   55       7577  112000.0             1653     transaction   528   \n",
       "\n",
       "   reward  offer_id  \n",
       "0     NaN       NaN  \n",
       "1     NaN       NaN  \n",
       "2     NaN       4.0  \n",
       "3     NaN       3.0  \n",
       "4     NaN       NaN  "
      ]
     },
     "execution_count": 37,
     "metadata": {},
     "output_type": "execute_result"
    }
   ],
   "source": [
    "df1.head()"
   ]
  },
  {
   "cell_type": "code",
   "execution_count": 38,
   "metadata": {},
   "outputs": [
    {
     "data": {
      "text/plain": [
       "(272388, 9)"
      ]
     },
     "execution_count": 38,
     "metadata": {},
     "output_type": "execute_result"
    }
   ],
   "source": [
    "df1.shape"
   ]
  },
  {
   "cell_type": "markdown",
   "metadata": {},
   "source": [
    "**Getting Offer Ids**"
   ]
  },
  {
   "cell_type": "code",
   "execution_count": 39,
   "metadata": {},
   "outputs": [],
   "source": [
    "df_offer_id = df_event1.copy()\n",
    "df_offer_id['offer_id'] = df1['offer_id']"
   ]
  },
  {
   "cell_type": "code",
   "execution_count": 40,
   "metadata": {},
   "outputs": [
    {
     "data": {
      "text/html": [
       "<div>\n",
       "<style scoped>\n",
       "    .dataframe tbody tr th:only-of-type {\n",
       "        vertical-align: middle;\n",
       "    }\n",
       "\n",
       "    .dataframe tbody tr th {\n",
       "        vertical-align: top;\n",
       "    }\n",
       "\n",
       "    .dataframe thead th {\n",
       "        text-align: right;\n",
       "    }\n",
       "</style>\n",
       "<table border=\"1\" class=\"dataframe\">\n",
       "  <thead>\n",
       "    <tr style=\"text-align: right;\">\n",
       "      <th></th>\n",
       "      <th>gender</th>\n",
       "      <th>age</th>\n",
       "      <th>member_id</th>\n",
       "      <th>income</th>\n",
       "      <th>membership_days</th>\n",
       "      <th>time</th>\n",
       "      <th>reward</th>\n",
       "      <th>event</th>\n",
       "      <th>offer_id</th>\n",
       "    </tr>\n",
       "  </thead>\n",
       "  <tbody>\n",
       "    <tr>\n",
       "      <th>0</th>\n",
       "      <td>1</td>\n",
       "      <td>55</td>\n",
       "      <td>7577</td>\n",
       "      <td>112000.0</td>\n",
       "      <td>1653</td>\n",
       "      <td>18</td>\n",
       "      <td>0</td>\n",
       "      <td>offer viewed</td>\n",
       "      <td>NaN</td>\n",
       "    </tr>\n",
       "    <tr>\n",
       "      <th>1</th>\n",
       "      <td>1</td>\n",
       "      <td>55</td>\n",
       "      <td>7577</td>\n",
       "      <td>112000.0</td>\n",
       "      <td>1653</td>\n",
       "      <td>144</td>\n",
       "      <td>0</td>\n",
       "      <td>offer viewed</td>\n",
       "      <td>NaN</td>\n",
       "    </tr>\n",
       "    <tr>\n",
       "      <th>2</th>\n",
       "      <td>1</td>\n",
       "      <td>55</td>\n",
       "      <td>7577</td>\n",
       "      <td>112000.0</td>\n",
       "      <td>1653</td>\n",
       "      <td>408</td>\n",
       "      <td>0</td>\n",
       "      <td>offer received</td>\n",
       "      <td>4.0</td>\n",
       "    </tr>\n",
       "    <tr>\n",
       "      <th>3</th>\n",
       "      <td>1</td>\n",
       "      <td>55</td>\n",
       "      <td>7577</td>\n",
       "      <td>112000.0</td>\n",
       "      <td>1653</td>\n",
       "      <td>504</td>\n",
       "      <td>0</td>\n",
       "      <td>offer received</td>\n",
       "      <td>3.0</td>\n",
       "    </tr>\n",
       "    <tr>\n",
       "      <th>4</th>\n",
       "      <td>1</td>\n",
       "      <td>55</td>\n",
       "      <td>7577</td>\n",
       "      <td>112000.0</td>\n",
       "      <td>1653</td>\n",
       "      <td>528</td>\n",
       "      <td>5</td>\n",
       "      <td>offer completed</td>\n",
       "      <td>NaN</td>\n",
       "    </tr>\n",
       "  </tbody>\n",
       "</table>\n",
       "</div>"
      ],
      "text/plain": [
       "   gender  age  member_id    income  membership_days  time  reward  \\\n",
       "0       1   55       7577  112000.0             1653    18       0   \n",
       "1       1   55       7577  112000.0             1653   144       0   \n",
       "2       1   55       7577  112000.0             1653   408       0   \n",
       "3       1   55       7577  112000.0             1653   504       0   \n",
       "4       1   55       7577  112000.0             1653   528       5   \n",
       "\n",
       "             event  offer_id  \n",
       "0     offer viewed       NaN  \n",
       "1     offer viewed       NaN  \n",
       "2   offer received       4.0  \n",
       "3   offer received       3.0  \n",
       "4  offer completed       NaN  "
      ]
     },
     "execution_count": 40,
     "metadata": {},
     "output_type": "execute_result"
    }
   ],
   "source": [
    "df_offer_id.head()"
   ]
  },
  {
   "cell_type": "code",
   "execution_count": 41,
   "metadata": {},
   "outputs": [
    {
     "data": {
      "text/plain": [
       "array([nan,  4.,  3.,  8.,  1.,  9., 10.,  7.,  6.,  5.,  2.])"
      ]
     },
     "execution_count": 41,
     "metadata": {},
     "output_type": "execute_result"
    }
   ],
   "source": [
    "df_offer_id.offer_id.unique()"
   ]
  },
  {
   "cell_type": "code",
   "execution_count": 42,
   "metadata": {},
   "outputs": [],
   "source": [
    "#assigning 0 to null values in offer_id column\n",
    "df_offer_id.offer_id.fillna(0, inplace=True)\n",
    "#converting offer_id dtype to int\n",
    "df_offer_id.offer_id = df_offer_id.offer_id.astype(int)"
   ]
  },
  {
   "cell_type": "code",
   "execution_count": 43,
   "metadata": {},
   "outputs": [
    {
     "data": {
      "text/plain": [
       "0"
      ]
     },
     "execution_count": 43,
     "metadata": {},
     "output_type": "execute_result"
    }
   ],
   "source": [
    "with_offer_id = df_offer_id[df_offer_id.offer_id != 0]\n",
    "with_offer_id.duplicated().sum()"
   ]
  },
  {
   "cell_type": "code",
   "execution_count": 44,
   "metadata": {},
   "outputs": [
    {
     "data": {
      "text/plain": [
       "(148431, 9)"
      ]
     },
     "execution_count": 44,
     "metadata": {},
     "output_type": "execute_result"
    }
   ],
   "source": [
    "with_offer_id.shape"
   ]
  },
  {
   "cell_type": "code",
   "execution_count": 45,
   "metadata": {},
   "outputs": [],
   "source": [
    "event_list = {'offer received':0, 'offer viewed':1, 'offer completed': 2}\n",
    "with_offer_id.event = with_offer_id.event.map(event_list)"
   ]
  },
  {
   "cell_type": "code",
   "execution_count": 46,
   "metadata": {},
   "outputs": [
    {
     "data": {
      "text/plain": [
       "1.0"
      ]
     },
     "execution_count": 46,
     "metadata": {},
     "output_type": "execute_result"
    }
   ],
   "source": [
    "#Evaluating the records with offer_id\n",
    "X_offer = with_offer_id.drop(['offer_id'], axis=1)\n",
    "y_offer = with_offer_id.event\n",
    "X_train, X_test, y_train, y_test = train_test_split(X_offer, y_offer, test_size=0.2, random_state=42)\n",
    "rfc_offer = RandomForestClassifier(n_estimators=100, random_state=0)\n",
    "rfc_offer.fit(X_train, y_train)\n",
    "accuracy_score(y_test, rfc_offer.predict(X_test))"
   ]
  },
  {
   "cell_type": "code",
   "execution_count": 47,
   "metadata": {},
   "outputs": [
    {
     "data": {
      "text/plain": [
       "RandomForestClassifier(random_state=0)"
      ]
     },
     "execution_count": 47,
     "metadata": {},
     "output_type": "execute_result"
    }
   ],
   "source": [
    "#Assigning offer ids\n",
    "rfc_offer_full = RandomForestClassifier(n_estimators=100, random_state=0)\n",
    "rfc_offer_full.fit(X_offer, y_offer)"
   ]
  },
  {
   "cell_type": "code",
   "execution_count": 48,
   "metadata": {},
   "outputs": [],
   "source": [
    "without_offer_id = df_offer_id[df_offer_id.offer_id == 0]\n",
    "without_offer_id.drop(['offer_id'], axis=1, inplace=True)\n",
    "event_list = {'offer received':0, 'offer viewed':1, 'offer completed': 2}\n",
    "without_offer_id.event = without_offer_id.event.map(event_list)\n",
    "without_offer_id['offer_id'] = rfc_offer_full.predict(without_offer_id)"
   ]
  },
  {
   "cell_type": "code",
   "execution_count": 49,
   "metadata": {},
   "outputs": [
    {
     "data": {
      "text/plain": [
       "(272388, 9)"
      ]
     },
     "execution_count": 49,
     "metadata": {},
     "output_type": "execute_result"
    }
   ],
   "source": [
    "#Merging the records with offer_id\n",
    "df_offer_id_cleaned = with_offer_id.append(without_offer_id)\n",
    "df_offer_id_cleaned.shape"
   ]
  },
  {
   "cell_type": "markdown",
   "metadata": {},
   "source": [
    "Checking if the assigned offer_id has correct rewards. If not, manually assigning them.\n",
    "* offer_id - 1, 2 reward - 10\n",
    "* offer_id - 3, 8 reward - 0\n",
    "* offer_id - 4, 5, 9 reward - 5\n",
    "* offer_id - 6 reward - 3\n",
    "* offer_id - 7, 10 reward - 2"
   ]
  },
  {
   "cell_type": "code",
   "execution_count": 50,
   "metadata": {},
   "outputs": [
    {
     "data": {
      "text/plain": [
       "(272388, 11)"
      ]
     },
     "execution_count": 50,
     "metadata": {},
     "output_type": "execute_result"
    }
   ],
   "source": [
    "df.shape"
   ]
  },
  {
   "cell_type": "code",
   "execution_count": 51,
   "metadata": {},
   "outputs": [
    {
     "data": {
      "text/plain": [
       "array([ 0, 10,  5,  2,  3])"
      ]
     },
     "execution_count": 51,
     "metadata": {},
     "output_type": "execute_result"
    }
   ],
   "source": [
    "df_offer_id_cleaned[df_offer_id_cleaned.offer_id == 2].reward.unique()"
   ]
  },
  {
   "cell_type": "code",
   "execution_count": 52,
   "metadata": {},
   "outputs": [],
   "source": [
    "#Assign reward 10 to completed (2) offer id (2)\n",
    "for i in df_offer_id_cleaned.index:\n",
    "    if df_offer_id_cleaned.loc[i, 'offer_id'] == 2:\n",
    "        if df_offer_id_cleaned['event'][i] == 2:\n",
    "            df_offer_id_cleaned.loc[i, 'reward'] = 10"
   ]
  },
  {
   "cell_type": "code",
   "execution_count": 53,
   "metadata": {},
   "outputs": [
    {
     "data": {
      "text/plain": [
       "array([ 0, 10])"
      ]
     },
     "execution_count": 53,
     "metadata": {},
     "output_type": "execute_result"
    }
   ],
   "source": [
    "#After cleaning the records\n",
    "df_offer_id_cleaned[df_offer_id_cleaned.offer_id == 2].reward.unique()"
   ]
  },
  {
   "cell_type": "code",
   "execution_count": 54,
   "metadata": {},
   "outputs": [
    {
     "data": {
      "text/html": [
       "<div>\n",
       "<style scoped>\n",
       "    .dataframe tbody tr th:only-of-type {\n",
       "        vertical-align: middle;\n",
       "    }\n",
       "\n",
       "    .dataframe tbody tr th {\n",
       "        vertical-align: top;\n",
       "    }\n",
       "\n",
       "    .dataframe thead th {\n",
       "        text-align: right;\n",
       "    }\n",
       "</style>\n",
       "<table border=\"1\" class=\"dataframe\">\n",
       "  <thead>\n",
       "    <tr style=\"text-align: right;\">\n",
       "      <th></th>\n",
       "      <th>gender</th>\n",
       "      <th>age</th>\n",
       "      <th>member_id</th>\n",
       "      <th>income</th>\n",
       "      <th>membership_days</th>\n",
       "      <th>time</th>\n",
       "      <th>reward</th>\n",
       "      <th>event</th>\n",
       "      <th>offer_id</th>\n",
       "      <th>event_original</th>\n",
       "    </tr>\n",
       "  </thead>\n",
       "  <tbody>\n",
       "    <tr>\n",
       "      <th>0</th>\n",
       "      <td>1</td>\n",
       "      <td>55</td>\n",
       "      <td>7577</td>\n",
       "      <td>112000.0</td>\n",
       "      <td>1653</td>\n",
       "      <td>18</td>\n",
       "      <td>0</td>\n",
       "      <td>1</td>\n",
       "      <td>1</td>\n",
       "      <td>transaction</td>\n",
       "    </tr>\n",
       "    <tr>\n",
       "      <th>1</th>\n",
       "      <td>1</td>\n",
       "      <td>55</td>\n",
       "      <td>7577</td>\n",
       "      <td>112000.0</td>\n",
       "      <td>1653</td>\n",
       "      <td>144</td>\n",
       "      <td>0</td>\n",
       "      <td>1</td>\n",
       "      <td>1</td>\n",
       "      <td>transaction</td>\n",
       "    </tr>\n",
       "    <tr>\n",
       "      <th>4</th>\n",
       "      <td>1</td>\n",
       "      <td>55</td>\n",
       "      <td>7577</td>\n",
       "      <td>112000.0</td>\n",
       "      <td>1653</td>\n",
       "      <td>528</td>\n",
       "      <td>10</td>\n",
       "      <td>2</td>\n",
       "      <td>2</td>\n",
       "      <td>transaction</td>\n",
       "    </tr>\n",
       "    <tr>\n",
       "      <th>8</th>\n",
       "      <td>1</td>\n",
       "      <td>75</td>\n",
       "      <td>14394</td>\n",
       "      <td>100000.0</td>\n",
       "      <td>1720</td>\n",
       "      <td>132</td>\n",
       "      <td>10</td>\n",
       "      <td>2</td>\n",
       "      <td>2</td>\n",
       "      <td>transaction</td>\n",
       "    </tr>\n",
       "    <tr>\n",
       "      <th>10</th>\n",
       "      <td>1</td>\n",
       "      <td>75</td>\n",
       "      <td>14394</td>\n",
       "      <td>100000.0</td>\n",
       "      <td>1720</td>\n",
       "      <td>144</td>\n",
       "      <td>10</td>\n",
       "      <td>2</td>\n",
       "      <td>2</td>\n",
       "      <td>transaction</td>\n",
       "    </tr>\n",
       "    <tr>\n",
       "      <th>...</th>\n",
       "      <td>...</td>\n",
       "      <td>...</td>\n",
       "      <td>...</td>\n",
       "      <td>...</td>\n",
       "      <td>...</td>\n",
       "      <td>...</td>\n",
       "      <td>...</td>\n",
       "      <td>...</td>\n",
       "      <td>...</td>\n",
       "      <td>...</td>\n",
       "    </tr>\n",
       "    <tr>\n",
       "      <th>272378</th>\n",
       "      <td>1</td>\n",
       "      <td>62</td>\n",
       "      <td>474</td>\n",
       "      <td>82000.0</td>\n",
       "      <td>1646</td>\n",
       "      <td>84</td>\n",
       "      <td>10</td>\n",
       "      <td>2</td>\n",
       "      <td>2</td>\n",
       "      <td>transaction</td>\n",
       "    </tr>\n",
       "    <tr>\n",
       "      <th>272379</th>\n",
       "      <td>1</td>\n",
       "      <td>62</td>\n",
       "      <td>474</td>\n",
       "      <td>82000.0</td>\n",
       "      <td>1646</td>\n",
       "      <td>96</td>\n",
       "      <td>10</td>\n",
       "      <td>2</td>\n",
       "      <td>2</td>\n",
       "      <td>transaction</td>\n",
       "    </tr>\n",
       "    <tr>\n",
       "      <th>272382</th>\n",
       "      <td>1</td>\n",
       "      <td>62</td>\n",
       "      <td>474</td>\n",
       "      <td>82000.0</td>\n",
       "      <td>1646</td>\n",
       "      <td>480</td>\n",
       "      <td>10</td>\n",
       "      <td>2</td>\n",
       "      <td>2</td>\n",
       "      <td>transaction</td>\n",
       "    </tr>\n",
       "    <tr>\n",
       "      <th>272384</th>\n",
       "      <td>1</td>\n",
       "      <td>62</td>\n",
       "      <td>474</td>\n",
       "      <td>82000.0</td>\n",
       "      <td>1646</td>\n",
       "      <td>486</td>\n",
       "      <td>10</td>\n",
       "      <td>2</td>\n",
       "      <td>2</td>\n",
       "      <td>transaction</td>\n",
       "    </tr>\n",
       "    <tr>\n",
       "      <th>272387</th>\n",
       "      <td>1</td>\n",
       "      <td>62</td>\n",
       "      <td>474</td>\n",
       "      <td>82000.0</td>\n",
       "      <td>1646</td>\n",
       "      <td>690</td>\n",
       "      <td>10</td>\n",
       "      <td>2</td>\n",
       "      <td>2</td>\n",
       "      <td>transaction</td>\n",
       "    </tr>\n",
       "  </tbody>\n",
       "</table>\n",
       "<p>123957 rows × 10 columns</p>\n",
       "</div>"
      ],
      "text/plain": [
       "        gender  age  member_id    income  membership_days  time  reward  \\\n",
       "0            1   55       7577  112000.0             1653    18       0   \n",
       "1            1   55       7577  112000.0             1653   144       0   \n",
       "4            1   55       7577  112000.0             1653   528      10   \n",
       "8            1   75      14394  100000.0             1720   132      10   \n",
       "10           1   75      14394  100000.0             1720   144      10   \n",
       "...        ...  ...        ...       ...              ...   ...     ...   \n",
       "272378       1   62        474   82000.0             1646    84      10   \n",
       "272379       1   62        474   82000.0             1646    96      10   \n",
       "272382       1   62        474   82000.0             1646   480      10   \n",
       "272384       1   62        474   82000.0             1646   486      10   \n",
       "272387       1   62        474   82000.0             1646   690      10   \n",
       "\n",
       "        event  offer_id event_original  \n",
       "0           1         1    transaction  \n",
       "1           1         1    transaction  \n",
       "4           2         2    transaction  \n",
       "8           2         2    transaction  \n",
       "10          2         2    transaction  \n",
       "...       ...       ...            ...  \n",
       "272378      2         2    transaction  \n",
       "272379      2         2    transaction  \n",
       "272382      2         2    transaction  \n",
       "272384      2         2    transaction  \n",
       "272387      2         2    transaction  \n",
       "\n",
       "[123957 rows x 10 columns]"
      ]
     },
     "execution_count": 54,
     "metadata": {},
     "output_type": "execute_result"
    }
   ],
   "source": [
    "#To know the original event values\n",
    "df_offer_id_cleaned['event_original'] = df['event']\n",
    "df_offer_id_cleaned[df_offer_id_cleaned['event_original'] == 'transaction']"
   ]
  },
  {
   "cell_type": "markdown",
   "metadata": {},
   "source": [
    "**Merging the transformed dataframe with portfolio dataframe**"
   ]
  },
  {
   "cell_type": "code",
   "execution_count": 55,
   "metadata": {},
   "outputs": [],
   "source": [
    "df_portfolio = portfolio.copy()"
   ]
  },
  {
   "cell_type": "code",
   "execution_count": 56,
   "metadata": {},
   "outputs": [
    {
     "data": {
      "text/plain": [
       "array(['email', 'mobile', 'social', 'web'], dtype=object)"
      ]
     },
     "execution_count": 56,
     "metadata": {},
     "output_type": "execute_result"
    }
   ],
   "source": [
    "channels = df_portfolio.channels.explode().unique()\n",
    "channels"
   ]
  },
  {
   "cell_type": "code",
   "execution_count": 57,
   "metadata": {},
   "outputs": [],
   "source": [
    "# Create separate column for each channel\n",
    "for channel in channels:\n",
    "    df_portfolio.loc[:, channel] = df_portfolio.loc[:, \"channels\"].apply(lambda x: channel in x).astype(int)"
   ]
  },
  {
   "cell_type": "code",
   "execution_count": 58,
   "metadata": {},
   "outputs": [],
   "source": [
    "offer_id_list = {\n",
    "    'ae264e3637204a6fb9bb56bc8210ddfd': 1,\n",
    "    '4d5c57ea9a6940dd891ad53e9dbe8da0': 2,\n",
    "    '3f207df678b143eea3cee63160fa8bed': 3,\n",
    "    '9b98b8c7a33c4b65b9aebfe6a799e6d9': 4,\n",
    "    '0b1e1539f2cc45b7b9fa7c272da2e1d7': 5,\n",
    "    '2298d6c36e964ae4a3e7e9706d1fb8c2': 6,\n",
    "    'fafdcd668e3743c1bb461111dcafc2a4': 7,\n",
    "    '5a8bc65990b245e5a138643cd4eb9837': 8,\n",
    "    'f19421c1d4aa40978ebb69ca19b0e20d': 9,\n",
    "    '2906b810c7d4411798c6938adc9daaa5': 10,\n",
    "}"
   ]
  },
  {
   "cell_type": "code",
   "execution_count": 59,
   "metadata": {},
   "outputs": [],
   "source": [
    "#Drop the channels column\n",
    "df_portfolio.drop(columns=['channels'], inplace=True)\n",
    "#Rename the id column to offer_id\n",
    "df_portfolio.rename(columns={'id':'offer_id'}, inplace=True)\n",
    "#Convert offer_id to integers\n",
    "df_portfolio.loc[:,'offer_id'] = df_portfolio.loc[:,'offer_id'].map(offer_id_list)"
   ]
  },
  {
   "cell_type": "code",
   "execution_count": 60,
   "metadata": {},
   "outputs": [
    {
     "name": "stdout",
     "output_type": "stream",
     "text": [
      "<class 'pandas.core.frame.DataFrame'>\n",
      "RangeIndex: 10 entries, 0 to 9\n",
      "Data columns (total 9 columns):\n",
      " #   Column      Non-Null Count  Dtype \n",
      "---  ------      --------------  ----- \n",
      " 0   reward      10 non-null     int64 \n",
      " 1   difficulty  10 non-null     int64 \n",
      " 2   duration    10 non-null     int64 \n",
      " 3   offer_type  10 non-null     object\n",
      " 4   offer_id    10 non-null     int64 \n",
      " 5   email       10 non-null     int64 \n",
      " 6   mobile      10 non-null     int64 \n",
      " 7   social      10 non-null     int64 \n",
      " 8   web         10 non-null     int64 \n",
      "dtypes: int64(8), object(1)\n",
      "memory usage: 848.0+ bytes\n"
     ]
    }
   ],
   "source": [
    "df_portfolio.info()"
   ]
  },
  {
   "cell_type": "code",
   "execution_count": 61,
   "metadata": {},
   "outputs": [
    {
     "data": {
      "text/plain": [
       "(10, 9)"
      ]
     },
     "execution_count": 61,
     "metadata": {},
     "output_type": "execute_result"
    }
   ],
   "source": [
    "df_portfolio.shape"
   ]
  },
  {
   "cell_type": "code",
   "execution_count": 62,
   "metadata": {},
   "outputs": [
    {
     "data": {
      "text/plain": [
       "(272388, 10)"
      ]
     },
     "execution_count": 62,
     "metadata": {},
     "output_type": "execute_result"
    }
   ],
   "source": [
    "df_offer_id_cleaned.shape"
   ]
  },
  {
   "cell_type": "code",
   "execution_count": 63,
   "metadata": {},
   "outputs": [],
   "source": [
    "df_merged = pd.merge(df_portfolio,df_offer_id_cleaned,on='offer_id', how='left')"
   ]
  },
  {
   "cell_type": "code",
   "execution_count": 64,
   "metadata": {},
   "outputs": [
    {
     "name": "stdout",
     "output_type": "stream",
     "text": [
      "<class 'pandas.core.frame.DataFrame'>\n",
      "Int64Index: 272388 entries, 0 to 272387\n",
      "Data columns (total 18 columns):\n",
      " #   Column           Non-Null Count   Dtype  \n",
      "---  ------           --------------   -----  \n",
      " 0   reward_x         272388 non-null  int64  \n",
      " 1   difficulty       272388 non-null  int64  \n",
      " 2   duration         272388 non-null  int64  \n",
      " 3   offer_type       272388 non-null  object \n",
      " 4   offer_id         272388 non-null  int64  \n",
      " 5   email            272388 non-null  int64  \n",
      " 6   mobile           272388 non-null  int64  \n",
      " 7   social           272388 non-null  int64  \n",
      " 8   web              272388 non-null  int64  \n",
      " 9   gender           272388 non-null  int64  \n",
      " 10  age              272388 non-null  int64  \n",
      " 11  member_id        272388 non-null  int64  \n",
      " 12  income           272388 non-null  float64\n",
      " 13  membership_days  272388 non-null  int64  \n",
      " 14  time             272388 non-null  int64  \n",
      " 15  reward_y         272388 non-null  int64  \n",
      " 16  event            272388 non-null  int64  \n",
      " 17  event_original   272388 non-null  object \n",
      "dtypes: float64(1), int64(15), object(2)\n",
      "memory usage: 39.5+ MB\n"
     ]
    }
   ],
   "source": [
    "df_merged.info()"
   ]
  },
  {
   "cell_type": "code",
   "execution_count": 65,
   "metadata": {},
   "outputs": [
    {
     "data": {
      "text/plain": [
       "0"
      ]
     },
     "execution_count": 65,
     "metadata": {},
     "output_type": "execute_result"
    }
   ],
   "source": [
    "df_merged.duplicated().sum()"
   ]
  },
  {
   "cell_type": "code",
   "execution_count": 66,
   "metadata": {},
   "outputs": [
    {
     "data": {
      "text/html": [
       "<div>\n",
       "<style scoped>\n",
       "    .dataframe tbody tr th:only-of-type {\n",
       "        vertical-align: middle;\n",
       "    }\n",
       "\n",
       "    .dataframe tbody tr th {\n",
       "        vertical-align: top;\n",
       "    }\n",
       "\n",
       "    .dataframe thead th {\n",
       "        text-align: right;\n",
       "    }\n",
       "</style>\n",
       "<table border=\"1\" class=\"dataframe\">\n",
       "  <thead>\n",
       "    <tr style=\"text-align: right;\">\n",
       "      <th></th>\n",
       "      <th>reward_x</th>\n",
       "      <th>difficulty</th>\n",
       "      <th>duration</th>\n",
       "      <th>offer_type</th>\n",
       "      <th>offer_id</th>\n",
       "      <th>email</th>\n",
       "      <th>mobile</th>\n",
       "      <th>social</th>\n",
       "      <th>web</th>\n",
       "      <th>gender</th>\n",
       "      <th>age</th>\n",
       "      <th>member_id</th>\n",
       "      <th>income</th>\n",
       "      <th>membership_days</th>\n",
       "      <th>time</th>\n",
       "      <th>reward_y</th>\n",
       "      <th>event</th>\n",
       "      <th>event_original</th>\n",
       "    </tr>\n",
       "  </thead>\n",
       "  <tbody>\n",
       "    <tr>\n",
       "      <th>0</th>\n",
       "      <td>10</td>\n",
       "      <td>10</td>\n",
       "      <td>7</td>\n",
       "      <td>bogo</td>\n",
       "      <td>1</td>\n",
       "      <td>1</td>\n",
       "      <td>1</td>\n",
       "      <td>1</td>\n",
       "      <td>0</td>\n",
       "      <td>1</td>\n",
       "      <td>75</td>\n",
       "      <td>14394</td>\n",
       "      <td>100000.0</td>\n",
       "      <td>1720</td>\n",
       "      <td>408</td>\n",
       "      <td>0</td>\n",
       "      <td>0</td>\n",
       "      <td>offer received</td>\n",
       "    </tr>\n",
       "    <tr>\n",
       "      <th>1</th>\n",
       "      <td>10</td>\n",
       "      <td>10</td>\n",
       "      <td>7</td>\n",
       "      <td>bogo</td>\n",
       "      <td>1</td>\n",
       "      <td>1</td>\n",
       "      <td>1</td>\n",
       "      <td>1</td>\n",
       "      <td>0</td>\n",
       "      <td>1</td>\n",
       "      <td>75</td>\n",
       "      <td>14394</td>\n",
       "      <td>100000.0</td>\n",
       "      <td>1720</td>\n",
       "      <td>408</td>\n",
       "      <td>0</td>\n",
       "      <td>1</td>\n",
       "      <td>offer viewed</td>\n",
       "    </tr>\n",
       "    <tr>\n",
       "      <th>2</th>\n",
       "      <td>10</td>\n",
       "      <td>10</td>\n",
       "      <td>7</td>\n",
       "      <td>bogo</td>\n",
       "      <td>1</td>\n",
       "      <td>1</td>\n",
       "      <td>1</td>\n",
       "      <td>1</td>\n",
       "      <td>0</td>\n",
       "      <td>1</td>\n",
       "      <td>75</td>\n",
       "      <td>14394</td>\n",
       "      <td>100000.0</td>\n",
       "      <td>1720</td>\n",
       "      <td>510</td>\n",
       "      <td>10</td>\n",
       "      <td>2</td>\n",
       "      <td>offer completed</td>\n",
       "    </tr>\n",
       "    <tr>\n",
       "      <th>3</th>\n",
       "      <td>10</td>\n",
       "      <td>10</td>\n",
       "      <td>7</td>\n",
       "      <td>bogo</td>\n",
       "      <td>1</td>\n",
       "      <td>1</td>\n",
       "      <td>1</td>\n",
       "      <td>1</td>\n",
       "      <td>0</td>\n",
       "      <td>1</td>\n",
       "      <td>61</td>\n",
       "      <td>7478</td>\n",
       "      <td>57000.0</td>\n",
       "      <td>1595</td>\n",
       "      <td>408</td>\n",
       "      <td>0</td>\n",
       "      <td>0</td>\n",
       "      <td>offer received</td>\n",
       "    </tr>\n",
       "    <tr>\n",
       "      <th>4</th>\n",
       "      <td>10</td>\n",
       "      <td>10</td>\n",
       "      <td>7</td>\n",
       "      <td>bogo</td>\n",
       "      <td>1</td>\n",
       "      <td>1</td>\n",
       "      <td>1</td>\n",
       "      <td>1</td>\n",
       "      <td>0</td>\n",
       "      <td>1</td>\n",
       "      <td>61</td>\n",
       "      <td>7478</td>\n",
       "      <td>57000.0</td>\n",
       "      <td>1595</td>\n",
       "      <td>426</td>\n",
       "      <td>10</td>\n",
       "      <td>2</td>\n",
       "      <td>offer completed</td>\n",
       "    </tr>\n",
       "  </tbody>\n",
       "</table>\n",
       "</div>"
      ],
      "text/plain": [
       "   reward_x  difficulty  duration offer_type  offer_id  email  mobile  social  \\\n",
       "0        10          10         7       bogo         1      1       1       1   \n",
       "1        10          10         7       bogo         1      1       1       1   \n",
       "2        10          10         7       bogo         1      1       1       1   \n",
       "3        10          10         7       bogo         1      1       1       1   \n",
       "4        10          10         7       bogo         1      1       1       1   \n",
       "\n",
       "   web  gender  age  member_id    income  membership_days  time  reward_y  \\\n",
       "0    0       1   75      14394  100000.0             1720   408         0   \n",
       "1    0       1   75      14394  100000.0             1720   408         0   \n",
       "2    0       1   75      14394  100000.0             1720   510        10   \n",
       "3    0       1   61       7478   57000.0             1595   408         0   \n",
       "4    0       1   61       7478   57000.0             1595   426        10   \n",
       "\n",
       "   event   event_original  \n",
       "0      0   offer received  \n",
       "1      1     offer viewed  \n",
       "2      2  offer completed  \n",
       "3      0   offer received  \n",
       "4      2  offer completed  "
      ]
     },
     "execution_count": 66,
     "metadata": {},
     "output_type": "execute_result"
    }
   ],
   "source": [
    "df_merged.head()"
   ]
  },
  {
   "cell_type": "code",
   "execution_count": 67,
   "metadata": {},
   "outputs": [],
   "source": [
    "df_merged1 = df_merged.copy()\n",
    "# offer_type - nominal encoding (0 - BOGO, 1 - Discount, 2 - Informational)\n",
    "offer_types = {'bogo':0, 'discount':1, 'informational':2}\n",
    "df_merged1.offer_type = df_merged1.offer_type.map(offer_types)\n",
    "# Create a new column as 'offer_successful' and assign 1 for 'offer completed' and 0 for 'offer viewed' in event column\n",
    "df_merged1['offer_successful'] = df_merged1.event.apply(lambda x: 1 if x==2 else 0)"
   ]
  },
  {
   "cell_type": "markdown",
   "metadata": {},
   "source": [
    "**Drop below columns**\n",
    "1. email - removing this from the feature list as email is used for all the offers\n",
    "2. reward_x - as it is a general reward info from portfolio dataset. reward_y is the reward info for the offer.\n",
    "3. event column - processed as 'offer_successful' (target) column\n",
    "4. event_original column - Needed only for tracking the transactions. Not needed for the model"
   ]
  },
  {
   "cell_type": "code",
   "execution_count": 68,
   "metadata": {},
   "outputs": [],
   "source": [
    "df_merged1.drop(['email', 'reward_x', 'event', 'event_original'], axis=1, inplace=True)\n",
    "df_merged1.rename(columns={'reward_y':'reward'}, inplace=True)"
   ]
  },
  {
   "cell_type": "code",
   "execution_count": 69,
   "metadata": {},
   "outputs": [
    {
     "data": {
      "text/html": [
       "<div>\n",
       "<style scoped>\n",
       "    .dataframe tbody tr th:only-of-type {\n",
       "        vertical-align: middle;\n",
       "    }\n",
       "\n",
       "    .dataframe tbody tr th {\n",
       "        vertical-align: top;\n",
       "    }\n",
       "\n",
       "    .dataframe thead th {\n",
       "        text-align: right;\n",
       "    }\n",
       "</style>\n",
       "<table border=\"1\" class=\"dataframe\">\n",
       "  <thead>\n",
       "    <tr style=\"text-align: right;\">\n",
       "      <th></th>\n",
       "      <th>difficulty</th>\n",
       "      <th>duration</th>\n",
       "      <th>offer_type</th>\n",
       "      <th>offer_id</th>\n",
       "      <th>mobile</th>\n",
       "      <th>social</th>\n",
       "      <th>web</th>\n",
       "      <th>gender</th>\n",
       "      <th>age</th>\n",
       "      <th>member_id</th>\n",
       "      <th>income</th>\n",
       "      <th>membership_days</th>\n",
       "      <th>time</th>\n",
       "      <th>reward</th>\n",
       "      <th>offer_successful</th>\n",
       "    </tr>\n",
       "  </thead>\n",
       "  <tbody>\n",
       "    <tr>\n",
       "      <th>0</th>\n",
       "      <td>10</td>\n",
       "      <td>7</td>\n",
       "      <td>0</td>\n",
       "      <td>1</td>\n",
       "      <td>1</td>\n",
       "      <td>1</td>\n",
       "      <td>0</td>\n",
       "      <td>1</td>\n",
       "      <td>75</td>\n",
       "      <td>14394</td>\n",
       "      <td>100000.0</td>\n",
       "      <td>1720</td>\n",
       "      <td>408</td>\n",
       "      <td>0</td>\n",
       "      <td>0</td>\n",
       "    </tr>\n",
       "    <tr>\n",
       "      <th>1</th>\n",
       "      <td>10</td>\n",
       "      <td>7</td>\n",
       "      <td>0</td>\n",
       "      <td>1</td>\n",
       "      <td>1</td>\n",
       "      <td>1</td>\n",
       "      <td>0</td>\n",
       "      <td>1</td>\n",
       "      <td>75</td>\n",
       "      <td>14394</td>\n",
       "      <td>100000.0</td>\n",
       "      <td>1720</td>\n",
       "      <td>408</td>\n",
       "      <td>0</td>\n",
       "      <td>0</td>\n",
       "    </tr>\n",
       "    <tr>\n",
       "      <th>2</th>\n",
       "      <td>10</td>\n",
       "      <td>7</td>\n",
       "      <td>0</td>\n",
       "      <td>1</td>\n",
       "      <td>1</td>\n",
       "      <td>1</td>\n",
       "      <td>0</td>\n",
       "      <td>1</td>\n",
       "      <td>75</td>\n",
       "      <td>14394</td>\n",
       "      <td>100000.0</td>\n",
       "      <td>1720</td>\n",
       "      <td>510</td>\n",
       "      <td>10</td>\n",
       "      <td>1</td>\n",
       "    </tr>\n",
       "    <tr>\n",
       "      <th>3</th>\n",
       "      <td>10</td>\n",
       "      <td>7</td>\n",
       "      <td>0</td>\n",
       "      <td>1</td>\n",
       "      <td>1</td>\n",
       "      <td>1</td>\n",
       "      <td>0</td>\n",
       "      <td>1</td>\n",
       "      <td>61</td>\n",
       "      <td>7478</td>\n",
       "      <td>57000.0</td>\n",
       "      <td>1595</td>\n",
       "      <td>408</td>\n",
       "      <td>0</td>\n",
       "      <td>0</td>\n",
       "    </tr>\n",
       "    <tr>\n",
       "      <th>4</th>\n",
       "      <td>10</td>\n",
       "      <td>7</td>\n",
       "      <td>0</td>\n",
       "      <td>1</td>\n",
       "      <td>1</td>\n",
       "      <td>1</td>\n",
       "      <td>0</td>\n",
       "      <td>1</td>\n",
       "      <td>61</td>\n",
       "      <td>7478</td>\n",
       "      <td>57000.0</td>\n",
       "      <td>1595</td>\n",
       "      <td>426</td>\n",
       "      <td>10</td>\n",
       "      <td>1</td>\n",
       "    </tr>\n",
       "  </tbody>\n",
       "</table>\n",
       "</div>"
      ],
      "text/plain": [
       "   difficulty  duration  offer_type  offer_id  mobile  social  web  gender  \\\n",
       "0          10         7           0         1       1       1    0       1   \n",
       "1          10         7           0         1       1       1    0       1   \n",
       "2          10         7           0         1       1       1    0       1   \n",
       "3          10         7           0         1       1       1    0       1   \n",
       "4          10         7           0         1       1       1    0       1   \n",
       "\n",
       "   age  member_id    income  membership_days  time  reward  offer_successful  \n",
       "0   75      14394  100000.0             1720   408       0                 0  \n",
       "1   75      14394  100000.0             1720   408       0                 0  \n",
       "2   75      14394  100000.0             1720   510      10                 1  \n",
       "3   61       7478   57000.0             1595   408       0                 0  \n",
       "4   61       7478   57000.0             1595   426      10                 1  "
      ]
     },
     "execution_count": 69,
     "metadata": {},
     "output_type": "execute_result"
    }
   ],
   "source": [
    "df_merged1.head()"
   ]
  },
  {
   "cell_type": "code",
   "execution_count": 70,
   "metadata": {},
   "outputs": [
    {
     "name": "stdout",
     "output_type": "stream",
     "text": [
      "<class 'pandas.core.frame.DataFrame'>\n",
      "Int64Index: 272388 entries, 0 to 272387\n",
      "Data columns (total 15 columns):\n",
      " #   Column            Non-Null Count   Dtype  \n",
      "---  ------            --------------   -----  \n",
      " 0   difficulty        272388 non-null  int64  \n",
      " 1   duration          272388 non-null  int64  \n",
      " 2   offer_type        272388 non-null  int64  \n",
      " 3   offer_id          272388 non-null  int64  \n",
      " 4   mobile            272388 non-null  int64  \n",
      " 5   social            272388 non-null  int64  \n",
      " 6   web               272388 non-null  int64  \n",
      " 7   gender            272388 non-null  int64  \n",
      " 8   age               272388 non-null  int64  \n",
      " 9   member_id         272388 non-null  int64  \n",
      " 10  income            272388 non-null  float64\n",
      " 11  membership_days   272388 non-null  int64  \n",
      " 12  time              272388 non-null  int64  \n",
      " 13  reward            272388 non-null  int64  \n",
      " 14  offer_successful  272388 non-null  int64  \n",
      "dtypes: float64(1), int64(14)\n",
      "memory usage: 33.3 MB\n"
     ]
    }
   ],
   "source": [
    "df_merged1.info()"
   ]
  },
  {
   "cell_type": "code",
   "execution_count": 71,
   "metadata": {},
   "outputs": [],
   "source": [
    "X=df_merged1.drop(['offer_successful'], axis=1)\n",
    "y=df_merged1.offer_successful"
   ]
  },
  {
   "cell_type": "code",
   "execution_count": null,
   "metadata": {},
   "outputs": [],
   "source": [
    "from sklearn.model_selection import train_test_split\n",
    "X_train, X_test, y_train, y_test = train_test_split(X, y, test_size=0.2, random_state=42)"
   ]
  },
  {
   "cell_type": "code",
   "execution_count": null,
   "metadata": {},
   "outputs": [],
   "source": [
    "rfc = RandomForestClassifier(n_estimators=100, random_state=0)\n",
    "rfc.fit(X_train, y_train)\n",
    "rfc_pred = rfc.predict(X_test)\n",
    "print(\"Accuracy Score: \", accuracy_score(y_test, rfc_pred))"
   ]
  },
  {
   "cell_type": "code",
   "execution_count": null,
   "metadata": {},
   "outputs": [],
   "source": [
    "y_train.unique()"
   ]
  },
  {
   "cell_type": "code",
   "execution_count": null,
   "metadata": {},
   "outputs": [],
   "source": [
    "#Need transaction set for evaluating in lambda function\n",
    "df_whole = df_merged1.copy()\n",
    "df_whole['event_original'] = df_merged['event_original']"
   ]
  },
  {
   "cell_type": "code",
   "execution_count": null,
   "metadata": {},
   "outputs": [],
   "source": [
    "df_whole.duplicated().sum()"
   ]
  },
  {
   "cell_type": "code",
   "execution_count": null,
   "metadata": {},
   "outputs": [],
   "source": [
    "df_whole.head()"
   ]
  },
  {
   "cell_type": "code",
   "execution_count": null,
   "metadata": {},
   "outputs": [],
   "source": [
    "df_transact = df_whole[df_whole.event_original == 'transaction']\n",
    "df_transact.drop(['event_original','offer_successful'], axis=1, inplace=True)"
   ]
  },
  {
   "cell_type": "code",
   "execution_count": null,
   "metadata": {},
   "outputs": [],
   "source": [
    "from sklearn.preprocessing import StandardScaler\n",
    "scale = StandardScaler()\n",
    "df_transact_scaled = scale.fit_transform(df_transact)\n",
    "np.savetxt('test_data.csv', df_transact_scaled, delimiter=',')"
   ]
  },
  {
   "cell_type": "code",
   "execution_count": null,
   "metadata": {},
   "outputs": [],
   "source": [
    "# session and role\n",
    "sagemaker_session = sagemaker.Session()\n",
    "role = sagemaker.get_execution_role()\n",
    "\n",
    "# create an S3 bucket\n",
    "bucket = sagemaker_session.default_bucket()"
   ]
  },
  {
   "cell_type": "code",
   "execution_count": null,
   "metadata": {},
   "outputs": [],
   "source": [
    "#Uploading the scaled data to test_data folder in the s3 default bucket\n",
    "folder_name = \"test_data\"\n",
    "test_data_path = 's3://{}/{}'.format(bucket, folder_name)\n",
    "s3.upload_file('test_data.csv', bucket, folder_name+'/test_data.csv')"
   ]
  },
  {
   "cell_type": "code",
   "execution_count": null,
   "metadata": {},
   "outputs": [],
   "source": []
  }
 ],
 "metadata": {
  "interpreter": {
   "hash": "a12d46612f4cf99c28b15358448942db35e319fbec03e3ae1ce6d2d5040e9b28"
  },
  "kernelspec": {
   "display_name": "conda_python3",
   "language": "python",
   "name": "conda_python3"
  },
  "language_info": {
   "codemirror_mode": {
    "name": "ipython",
    "version": 3
   },
   "file_extension": ".py",
   "mimetype": "text/x-python",
   "name": "python",
   "nbconvert_exporter": "python",
   "pygments_lexer": "ipython3",
   "version": "3.6.13"
  }
 },
 "nbformat": 4,
 "nbformat_minor": 2
}
