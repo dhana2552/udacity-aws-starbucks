{
 "cells": [
  {
   "cell_type": "code",
   "execution_count": 1,
   "id": "a978f5dc",
   "metadata": {},
   "outputs": [],
   "source": [
    "import os\n",
    "import numpy as np\n",
    "import pandas as pd\n",
    "import boto3\n",
    "import sagemaker\n",
    "import matplotlib.pyplot as plt\n",
    "from sagemaker import LinearLearner"
   ]
  },
  {
   "cell_type": "code",
   "execution_count": 2,
   "id": "45b05567",
   "metadata": {},
   "outputs": [
    {
     "data": {
      "text/plain": [
       "{'ResponseMetadata': {'RequestId': '4711Y94N476PY2G8',\n",
       "  'HostId': 'ZMBREtgC4Fi1cGFvXWK8itjmZkOtTzWa7KSDoKkJ0vuRfnMoOTncWoGnWMMSSewc4N2/PJ8nS5w=',\n",
       "  'HTTPStatusCode': 200,\n",
       "  'HTTPHeaders': {'x-amz-id-2': 'ZMBREtgC4Fi1cGFvXWK8itjmZkOtTzWa7KSDoKkJ0vuRfnMoOTncWoGnWMMSSewc4N2/PJ8nS5w=',\n",
       "   'x-amz-request-id': '4711Y94N476PY2G8',\n",
       "   'date': 'Sun, 23 Jan 2022 16:14:19 GMT',\n",
       "   'etag': '\"d41d8cd98f00b204e9800998ecf8427e\"',\n",
       "   'server': 'AmazonS3',\n",
       "   'content-length': '0'},\n",
       "  'RetryAttempts': 0},\n",
       " 'ETag': '\"d41d8cd98f00b204e9800998ecf8427e\"'}"
      ]
     },
     "execution_count": 2,
     "metadata": {},
     "output_type": "execute_result"
    }
   ],
   "source": [
    "# session and role\n",
    "sagemaker_session = sagemaker.Session()\n",
    "role = sagemaker.get_execution_role()\n",
    "s3 = boto3.client('s3')\n",
    "\n",
    "# create an S3 bucket\n",
    "bucket = sagemaker_session.default_bucket()\n",
    "#create a folder for output\n",
    "output_folder = \"output\"\n",
    "s3.put_object(Bucket=bucket, Key=output_folder)"
   ]
  },
  {
   "cell_type": "code",
   "execution_count": 16,
   "id": "33f0bc96",
   "metadata": {},
   "outputs": [
    {
     "data": {
      "text/plain": [
       "'s3://sagemaker-us-east-1-456758360141/output'"
      ]
     },
     "execution_count": 16,
     "metadata": {},
     "output_type": "execute_result"
    }
   ],
   "source": [
    "output_path = 's3://{}/{}'.format(bucket, output_folder)\n",
    "output_path"
   ]
  },
  {
   "cell_type": "code",
   "execution_count": 35,
   "id": "9f498204",
   "metadata": {},
   "outputs": [],
   "source": [
    "key = 'cleaned_data/cleaned_data.csv'\n",
    "data_location = 's3://{}/{}'.format(bucket,key)\n",
    "df = pd.read_csv(data_location)"
   ]
  },
  {
   "cell_type": "code",
   "execution_count": 18,
   "id": "b8813d35",
   "metadata": {},
   "outputs": [],
   "source": [
    "X = df.drop(['offer_successful'], axis=1)\n",
    "y = df['offer_successful']"
   ]
  },
  {
   "cell_type": "code",
   "execution_count": 19,
   "id": "bbd9a193",
   "metadata": {},
   "outputs": [],
   "source": [
    "from sklearn.model_selection import train_test_split\n",
    "X_train, X_test, y_train, y_test = train_test_split(X, y, test_size=0.2, random_state=42)"
   ]
  },
  {
   "cell_type": "code",
   "execution_count": 20,
   "id": "4599735d",
   "metadata": {},
   "outputs": [],
   "source": [
    "#Scaling the data for some algorithms\n",
    "from sklearn.preprocessing import StandardScaler\n",
    "scale = StandardScaler()\n",
    "X_train_scaled = scale.fit_transform(X_train)\n",
    "X_test_scaled = scale.transform(X_test)"
   ]
  },
  {
   "cell_type": "code",
   "execution_count": 21,
   "id": "28e292be",
   "metadata": {},
   "outputs": [
    {
     "data": {
      "text/plain": [
       "array([0, 0, 0, ..., 0, 0, 0])"
      ]
     },
     "execution_count": 21,
     "metadata": {},
     "output_type": "execute_result"
    }
   ],
   "source": [
    "y_train_np = y_train.to_numpy()\n",
    "y_train_np"
   ]
  },
  {
   "cell_type": "code",
   "execution_count": 22,
   "id": "fac0e450",
   "metadata": {},
   "outputs": [
    {
     "data": {
      "text/plain": [
       "array([0, 1])"
      ]
     },
     "execution_count": 22,
     "metadata": {},
     "output_type": "execute_result"
    }
   ],
   "source": [
    "np.unique(y_train_np)"
   ]
  },
  {
   "cell_type": "code",
   "execution_count": 23,
   "id": "e5a34c1f",
   "metadata": {},
   "outputs": [
    {
     "data": {
      "text/plain": [
       "array([0, 0, 0, ..., 1, 0, 1])"
      ]
     },
     "execution_count": 23,
     "metadata": {},
     "output_type": "execute_result"
    }
   ],
   "source": [
    "y_test_np = y_test.to_numpy()\n",
    "y_test_np"
   ]
  },
  {
   "cell_type": "code",
   "execution_count": 24,
   "id": "becdf2dd",
   "metadata": {},
   "outputs": [],
   "source": [
    "X_train_scaled = X_train_scaled.astype('float32')\n",
    "X_test_scaled = X_test_scaled.astype('float32')\n",
    "y_train_np = y_train_np.astype('float32')\n",
    "y_test_np = y_test_np.astype('float32')"
   ]
  },
  {
   "cell_type": "code",
   "execution_count": 25,
   "id": "50c9f333",
   "metadata": {},
   "outputs": [
    {
     "name": "stderr",
     "output_type": "stream",
     "text": [
      "train_instance_count has been renamed in sagemaker>=2.\n",
      "See: https://sagemaker.readthedocs.io/en/stable/v2.html for details.\n",
      "train_instance_type has been renamed in sagemaker>=2.\n",
      "See: https://sagemaker.readthedocs.io/en/stable/v2.html for details.\n"
     ]
    }
   ],
   "source": [
    "linear = LinearLearner(role = role,\n",
    "                      train_instance_count = 1,\n",
    "                      train_instance_type='ml.c4.xlarge',\n",
    "                      predictor_type='binary_classifier',\n",
    "                      num_classes=2,\n",
    "                      output_path=output_path,\n",
    "                      sagemaker_session=sagemaker_session,\n",
    "                      epochs = 5)"
   ]
  },
  {
   "cell_type": "code",
   "execution_count": 26,
   "id": "1eae8bab",
   "metadata": {},
   "outputs": [],
   "source": [
    "train_data = linear.record_set(X_train_scaled, labels=y_train_np)"
   ]
  },
  {
   "cell_type": "code",
   "execution_count": 27,
   "id": "dea61900",
   "metadata": {},
   "outputs": [
    {
     "name": "stderr",
     "output_type": "stream",
     "text": [
      "Defaulting to the only supported framework/algorithm version: 1. Ignoring framework/algorithm version: 1.\n",
      "Defaulting to the only supported framework/algorithm version: 1. Ignoring framework/algorithm version: 1.\n"
     ]
    },
    {
     "name": "stdout",
     "output_type": "stream",
     "text": [
      "2022-01-23 16:19:09 Starting - Starting the training job...\n",
      "2022-01-23 16:19:33 Starting - Launching requested ML instancesProfilerReport-1642954749: InProgress\n",
      "......\n",
      "2022-01-23 16:20:33 Starting - Preparing the instances for training............\n",
      "2022-01-23 16:22:36 Downloading - Downloading input data...\n",
      "2022-01-23 16:23:09 Training - Training image download completed. Training in progress..\u001b[34mDocker entrypoint called with argument(s): train\u001b[0m\n",
      "\u001b[34mRunning default environment configuration script\u001b[0m\n",
      "\u001b[34m[01/23/2022 16:23:15 INFO 140540794976064] Reading default configuration from /opt/amazon/lib/python3.7/site-packages/algorithm/resources/default-input.json: {'mini_batch_size': '1000', 'epochs': '15', 'feature_dim': 'auto', 'use_bias': 'true', 'binary_classifier_model_selection_criteria': 'accuracy', 'f_beta': '1.0', 'target_recall': '0.8', 'target_precision': '0.8', 'num_models': 'auto', 'num_calibration_samples': '10000000', 'init_method': 'uniform', 'init_scale': '0.07', 'init_sigma': '0.01', 'init_bias': '0.0', 'optimizer': 'auto', 'loss': 'auto', 'margin': '1.0', 'quantile': '0.5', 'loss_insensitivity': '0.01', 'huber_delta': '1.0', 'num_classes': '1', 'accuracy_top_k': '3', 'wd': 'auto', 'l1': 'auto', 'momentum': 'auto', 'learning_rate': 'auto', 'beta_1': 'auto', 'beta_2': 'auto', 'bias_lr_mult': 'auto', 'bias_wd_mult': 'auto', 'use_lr_scheduler': 'true', 'lr_scheduler_step': 'auto', 'lr_scheduler_factor': 'auto', 'lr_scheduler_minimum_lr': 'auto', 'positive_example_weight_mult': '1.0', 'balance_multiclass_weights': 'false', 'normalize_data': 'true', 'normalize_label': 'auto', 'unbias_data': 'auto', 'unbias_label': 'auto', 'num_point_for_scaler': '10000', '_kvstore': 'auto', '_num_gpus': 'auto', '_num_kv_servers': 'auto', '_log_level': 'info', '_tuning_objective_metric': '', 'early_stopping_patience': '3', 'early_stopping_tolerance': '0.001', '_enable_profiler': 'false'}\u001b[0m\n",
      "\u001b[34m[01/23/2022 16:23:15 INFO 140540794976064] Merging with provided configuration from /opt/ml/input/config/hyperparameters.json: {'feature_dim': '14', 'num_classes': '2', 'predictor_type': 'binary_classifier', 'epochs': '5', 'mini_batch_size': '1000'}\u001b[0m\n",
      "\u001b[34m[01/23/2022 16:23:15 INFO 140540794976064] Final configuration: {'mini_batch_size': '1000', 'epochs': '5', 'feature_dim': '14', 'use_bias': 'true', 'binary_classifier_model_selection_criteria': 'accuracy', 'f_beta': '1.0', 'target_recall': '0.8', 'target_precision': '0.8', 'num_models': 'auto', 'num_calibration_samples': '10000000', 'init_method': 'uniform', 'init_scale': '0.07', 'init_sigma': '0.01', 'init_bias': '0.0', 'optimizer': 'auto', 'loss': 'auto', 'margin': '1.0', 'quantile': '0.5', 'loss_insensitivity': '0.01', 'huber_delta': '1.0', 'num_classes': '2', 'accuracy_top_k': '3', 'wd': 'auto', 'l1': 'auto', 'momentum': 'auto', 'learning_rate': 'auto', 'beta_1': 'auto', 'beta_2': 'auto', 'bias_lr_mult': 'auto', 'bias_wd_mult': 'auto', 'use_lr_scheduler': 'true', 'lr_scheduler_step': 'auto', 'lr_scheduler_factor': 'auto', 'lr_scheduler_minimum_lr': 'auto', 'positive_example_weight_mult': '1.0', 'balance_multiclass_weights': 'false', 'normalize_data': 'true', 'normalize_label': 'auto', 'unbias_data': 'auto', 'unbias_label': 'auto', 'num_point_for_scaler': '10000', '_kvstore': 'auto', '_num_gpus': 'auto', '_num_kv_servers': 'auto', '_log_level': 'info', '_tuning_objective_metric': '', 'early_stopping_patience': '3', 'early_stopping_tolerance': '0.001', '_enable_profiler': 'false', 'predictor_type': 'binary_classifier'}\u001b[0m\n",
      "\u001b[34m[01/23/2022 16:23:15 WARNING 140540794976064] Loggers have already been setup.\u001b[0m\n",
      "\u001b[34mProcess 1 is a worker.\u001b[0m\n",
      "\u001b[34m[01/23/2022 16:23:15 INFO 140540794976064] Using default worker.\u001b[0m\n",
      "\u001b[34m[01/23/2022 16:23:15 INFO 140540794976064] Checkpoint loading and saving are disabled.\u001b[0m\n",
      "\u001b[34m[2022-01-23 16:23:15.925] [tensorio] [info] epoch_stats={\"data_pipeline\": \"/opt/ml/input/data/train\", \"epoch\": 0, \"duration\": 23, \"num_examples\": 1, \"num_bytes\": 100000}\u001b[0m\n",
      "\u001b[34m[01/23/2022 16:23:15 WARNING 140540794976064] predictor_type is 'binary_classifier', and num_classes is 2.  num_classes is only needed when predictor_type='multiclass_classifier'.  Ignoring num_classes and proceeding with binary classification.\u001b[0m\n",
      "\u001b[34m[01/23/2022 16:23:15 INFO 140540794976064] Create Store: local\u001b[0m\n",
      "\u001b[34m[2022-01-23 16:23:16.017] [tensorio] [info] epoch_stats={\"data_pipeline\": \"/opt/ml/input/data/train\", \"epoch\": 1, \"duration\": 91, \"num_examples\": 11, \"num_bytes\": 1100000}\u001b[0m\n",
      "\u001b[34m[01/23/2022 16:23:16 INFO 140540794976064] Scaler algorithm parameters\n",
      " <algorithm.scaler.ScalerAlgorithmStable object at 0x7fd1d3a73510>\u001b[0m\n",
      "\u001b[34m[01/23/2022 16:23:16 INFO 140540794976064] Scaling model computed with parameters:\n",
      " {'stdev_label': None, 'stdev_weight': \u001b[0m\n",
      "\u001b[34m[0.9926797  0.99735826 1.0016361  0.99649394 0.9849712  0.99507934\n",
      " 1.0056571  1.002117   0.9989096  1.004947   1.0060408  1.0061945\n",
      " 0.9958294  1.006725  ]\u001b[0m\n",
      "\u001b[34m<NDArray 14 @cpu(0)>, 'mean_label': None, 'mean_weight': \u001b[0m\n",
      "\u001b[34m[-0.01190698 -0.01121606 -0.00081486  0.00351334  0.01016851  0.01560477\n",
      " -0.00729034  0.00868005 -0.02524195  0.01142514 -0.00252545  0.00329538\n",
      "  0.00426568  0.00687762]\u001b[0m\n",
      "\u001b[34m<NDArray 14 @cpu(0)>}\u001b[0m\n",
      "\u001b[34m[01/23/2022 16:23:16 INFO 140540794976064] nvidia-smi: took 0.056 seconds to run.\u001b[0m\n",
      "\u001b[34m[01/23/2022 16:23:16 INFO 140540794976064] nvidia-smi identified 0 GPUs.\u001b[0m\n",
      "\u001b[34m[01/23/2022 16:23:16 INFO 140540794976064] Number of GPUs being used: 0\u001b[0m\n",
      "\u001b[34m#metrics {\"StartTime\": 1642954996.166781, \"EndTime\": 1642954996.1668155, \"Dimensions\": {\"Algorithm\": \"Linear Learner\", \"Host\": \"algo-1\", \"Operation\": \"training\", \"Meta\": \"init_train_data_iter\"}, \"Metrics\": {\"Total Records Seen\": {\"sum\": 12000.0, \"count\": 1, \"min\": 12000, \"max\": 12000}, \"Total Batches Seen\": {\"sum\": 12.0, \"count\": 1, \"min\": 12, \"max\": 12}, \"Max Records Seen Between Resets\": {\"sum\": 11000.0, \"count\": 1, \"min\": 11000, \"max\": 11000}, \"Max Batches Seen Between Resets\": {\"sum\": 11.0, \"count\": 1, \"min\": 11, \"max\": 11}, \"Reset Count\": {\"sum\": 2.0, \"count\": 1, \"min\": 2, \"max\": 2}, \"Number of Records Since Last Reset\": {\"sum\": 0.0, \"count\": 1, \"min\": 0, \"max\": 0}, \"Number of Batches Since Last Reset\": {\"sum\": 0.0, \"count\": 1, \"min\": 0, \"max\": 0}}}\u001b[0m\n",
      "\u001b[34m[2022-01-23 16:23:19.708] [tensorio] [info] epoch_stats={\"data_pipeline\": \"/opt/ml/input/data/train\", \"epoch\": 3, \"duration\": 3541, \"num_examples\": 111, \"num_bytes\": 11014000}\u001b[0m\n",
      "\u001b[34m#metrics {\"StartTime\": 1642954999.7084773, \"EndTime\": 1642954999.7085757, \"Dimensions\": {\"Algorithm\": \"Linear Learner\", \"Host\": \"algo-1\", \"Operation\": \"training\", \"epoch\": 0, \"model\": 0}, \"Metrics\": {\"train_binary_classification_cross_entropy_objective\": {\"sum\": 0.4506583437832919, \"count\": 1, \"min\": 0.4506583437832919, \"max\": 0.4506583437832919}}}\u001b[0m\n",
      "\u001b[34m#metrics {\"StartTime\": 1642954999.7086427, \"EndTime\": 1642954999.7086575, \"Dimensions\": {\"Algorithm\": \"Linear Learner\", \"Host\": \"algo-1\", \"Operation\": \"training\", \"epoch\": 0, \"model\": 1}, \"Metrics\": {\"train_binary_classification_cross_entropy_objective\": {\"sum\": 0.43859494795365767, \"count\": 1, \"min\": 0.43859494795365767, \"max\": 0.43859494795365767}}}\u001b[0m\n",
      "\u001b[34m#metrics {\"StartTime\": 1642954999.708714, \"EndTime\": 1642954999.7087321, \"Dimensions\": {\"Algorithm\": \"Linear Learner\", \"Host\": \"algo-1\", \"Operation\": \"training\", \"epoch\": 0, \"model\": 2}, \"Metrics\": {\"train_binary_classification_cross_entropy_objective\": {\"sum\": 0.44887071311257104, \"count\": 1, \"min\": 0.44887071311257104, \"max\": 0.44887071311257104}}}\u001b[0m\n",
      "\u001b[34m#metrics {\"StartTime\": 1642954999.708788, \"EndTime\": 1642954999.7088044, \"Dimensions\": {\"Algorithm\": \"Linear Learner\", \"Host\": \"algo-1\", \"Operation\": \"training\", \"epoch\": 0, \"model\": 3}, \"Metrics\": {\"train_binary_classification_cross_entropy_objective\": {\"sum\": 0.4574558296897195, \"count\": 1, \"min\": 0.4574558296897195, \"max\": 0.4574558296897195}}}\u001b[0m\n",
      "\u001b[34m#metrics {\"StartTime\": 1642954999.7088597, \"EndTime\": 1642954999.7088733, \"Dimensions\": {\"Algorithm\": \"Linear Learner\", \"Host\": \"algo-1\", \"Operation\": \"training\", \"epoch\": 0, \"model\": 4}, \"Metrics\": {\"train_binary_classification_cross_entropy_objective\": {\"sum\": 0.11534343088323419, \"count\": 1, \"min\": 0.11534343088323419, \"max\": 0.11534343088323419}}}\u001b[0m\n",
      "\u001b[34m#metrics {\"StartTime\": 1642954999.7089033, \"EndTime\": 1642954999.708912, \"Dimensions\": {\"Algorithm\": \"Linear Learner\", \"Host\": \"algo-1\", \"Operation\": \"training\", \"epoch\": 0, \"model\": 5}, \"Metrics\": {\"train_binary_classification_cross_entropy_objective\": {\"sum\": 0.11444200224442916, \"count\": 1, \"min\": 0.11444200224442916, \"max\": 0.11444200224442916}}}\u001b[0m\n",
      "\u001b[34m#metrics {\"StartTime\": 1642954999.7089362, \"EndTime\": 1642954999.7089436, \"Dimensions\": {\"Algorithm\": \"Linear Learner\", \"Host\": \"algo-1\", \"Operation\": \"training\", \"epoch\": 0, \"model\": 6}, \"Metrics\": {\"train_binary_classification_cross_entropy_objective\": {\"sum\": 0.11844011407331986, \"count\": 1, \"min\": 0.11844011407331986, \"max\": 0.11844011407331986}}}\u001b[0m\n",
      "\u001b[34m#metrics {\"StartTime\": 1642954999.7089672, \"EndTime\": 1642954999.7089744, \"Dimensions\": {\"Algorithm\": \"Linear Learner\", \"Host\": \"algo-1\", \"Operation\": \"training\", \"epoch\": 0, \"model\": 7}, \"Metrics\": {\"train_binary_classification_cross_entropy_objective\": {\"sum\": 0.11628374307805842, \"count\": 1, \"min\": 0.11628374307805842, \"max\": 0.11628374307805842}}}\u001b[0m\n",
      "\u001b[34m#metrics {\"StartTime\": 1642954999.708999, \"EndTime\": 1642954999.7090118, \"Dimensions\": {\"Algorithm\": \"Linear Learner\", \"Host\": \"algo-1\", \"Operation\": \"training\", \"epoch\": 0, \"model\": 8}, \"Metrics\": {\"train_binary_classification_cross_entropy_objective\": {\"sum\": 0.4252656097412109, \"count\": 1, \"min\": 0.4252656097412109, \"max\": 0.4252656097412109}}}\u001b[0m\n",
      "\u001b[34m#metrics {\"StartTime\": 1642954999.7090516, \"EndTime\": 1642954999.7090614, \"Dimensions\": {\"Algorithm\": \"Linear Learner\", \"Host\": \"algo-1\", \"Operation\": \"training\", \"epoch\": 0, \"model\": 9}, \"Metrics\": {\"train_binary_classification_cross_entropy_objective\": {\"sum\": 0.42506983559348366, \"count\": 1, \"min\": 0.42506983559348366, \"max\": 0.42506983559348366}}}\u001b[0m\n",
      "\u001b[34m#metrics {\"StartTime\": 1642954999.7091038, \"EndTime\": 1642954999.7091136, \"Dimensions\": {\"Algorithm\": \"Linear Learner\", \"Host\": \"algo-1\", \"Operation\": \"training\", \"epoch\": 0, \"model\": 10}, \"Metrics\": {\"train_binary_classification_cross_entropy_objective\": {\"sum\": 0.4302829198663885, \"count\": 1, \"min\": 0.4302829198663885, \"max\": 0.4302829198663885}}}\u001b[0m\n",
      "\u001b[34m#metrics {\"StartTime\": 1642954999.7091393, \"EndTime\": 1642954999.709147, \"Dimensions\": {\"Algorithm\": \"Linear Learner\", \"Host\": \"algo-1\", \"Operation\": \"training\", \"epoch\": 0, \"model\": 11}, \"Metrics\": {\"train_binary_classification_cross_entropy_objective\": {\"sum\": 0.44004826909845524, \"count\": 1, \"min\": 0.44004826909845524, \"max\": 0.44004826909845524}}}\u001b[0m\n",
      "\u001b[34m#metrics {\"StartTime\": 1642954999.7091699, \"EndTime\": 1642954999.7091765, \"Dimensions\": {\"Algorithm\": \"Linear Learner\", \"Host\": \"algo-1\", \"Operation\": \"training\", \"epoch\": 0, \"model\": 12}, \"Metrics\": {\"train_binary_classification_cross_entropy_objective\": {\"sum\": 0.13282478873512962, \"count\": 1, \"min\": 0.13282478873512962, \"max\": 0.13282478873512962}}}\u001b[0m\n",
      "\u001b[34m#metrics {\"StartTime\": 1642954999.7092094, \"EndTime\": 1642954999.709216, \"Dimensions\": {\"Algorithm\": \"Linear Learner\", \"Host\": \"algo-1\", \"Operation\": \"training\", \"epoch\": 0, \"model\": 13}, \"Metrics\": {\"train_binary_classification_cross_entropy_objective\": {\"sum\": 0.13589875287142666, \"count\": 1, \"min\": 0.13589875287142666, \"max\": 0.13589875287142666}}}\u001b[0m\n",
      "\u001b[34m#metrics {\"StartTime\": 1642954999.709242, \"EndTime\": 1642954999.709254, \"Dimensions\": {\"Algorithm\": \"Linear Learner\", \"Host\": \"algo-1\", \"Operation\": \"training\", \"epoch\": 0, \"model\": 14}, \"Metrics\": {\"train_binary_classification_cross_entropy_objective\": {\"sum\": 0.1321926753651012, \"count\": 1, \"min\": 0.1321926753651012, \"max\": 0.1321926753651012}}}\u001b[0m\n",
      "\u001b[34m#metrics {\"StartTime\": 1642954999.7092862, \"EndTime\": 1642954999.7092943, \"Dimensions\": {\"Algorithm\": \"Linear Learner\", \"Host\": \"algo-1\", \"Operation\": \"training\", \"epoch\": 0, \"model\": 15}, \"Metrics\": {\"train_binary_classification_cross_entropy_objective\": {\"sum\": 0.13345689052234996, \"count\": 1, \"min\": 0.13345689052234996, \"max\": 0.13345689052234996}}}\u001b[0m\n",
      "\u001b[34m#metrics {\"StartTime\": 1642954999.7093172, \"EndTime\": 1642954999.7093241, \"Dimensions\": {\"Algorithm\": \"Linear Learner\", \"Host\": \"algo-1\", \"Operation\": \"training\", \"epoch\": 0, \"model\": 16}, \"Metrics\": {\"train_binary_classification_cross_entropy_objective\": {\"sum\": 0.46648359042080967, \"count\": 1, \"min\": 0.46648359042080967, \"max\": 0.46648359042080967}}}\u001b[0m\n",
      "\u001b[34m#metrics {\"StartTime\": 1642954999.7093458, \"EndTime\": 1642954999.7093525, \"Dimensions\": {\"Algorithm\": \"Linear Learner\", \"Host\": \"algo-1\", \"Operation\": \"training\", \"epoch\": 0, \"model\": 17}, \"Metrics\": {\"train_binary_classification_cross_entropy_objective\": {\"sum\": 0.48407643210671164, \"count\": 1, \"min\": 0.48407643210671164, \"max\": 0.48407643210671164}}}\u001b[0m\n",
      "\u001b[34m#metrics {\"StartTime\": 1642954999.7093737, \"EndTime\": 1642954999.709384, \"Dimensions\": {\"Algorithm\": \"Linear Learner\", \"Host\": \"algo-1\", \"Operation\": \"training\", \"epoch\": 0, \"model\": 18}, \"Metrics\": {\"train_binary_classification_cross_entropy_objective\": {\"sum\": 0.46681099964488637, \"count\": 1, \"min\": 0.46681099964488637, \"max\": 0.46681099964488637}}}\u001b[0m\n",
      "\u001b[34m#metrics {\"StartTime\": 1642954999.7094188, \"EndTime\": 1642954999.709427, \"Dimensions\": {\"Algorithm\": \"Linear Learner\", \"Host\": \"algo-1\", \"Operation\": \"training\", \"epoch\": 0, \"model\": 19}, \"Metrics\": {\"train_binary_classification_cross_entropy_objective\": {\"sum\": 0.4659624137184837, \"count\": 1, \"min\": 0.4659624137184837, \"max\": 0.4659624137184837}}}\u001b[0m\n",
      "\u001b[34m#metrics {\"StartTime\": 1642954999.7094507, \"EndTime\": 1642954999.7094576, \"Dimensions\": {\"Algorithm\": \"Linear Learner\", \"Host\": \"algo-1\", \"Operation\": \"training\", \"epoch\": 0, \"model\": 20}, \"Metrics\": {\"train_binary_classification_cross_entropy_objective\": {\"sum\": 0.44575092634721236, \"count\": 1, \"min\": 0.44575092634721236, \"max\": 0.44575092634721236}}}\u001b[0m\n",
      "\u001b[34m#metrics {\"StartTime\": 1642954999.7094796, \"EndTime\": 1642954999.7094862, \"Dimensions\": {\"Algorithm\": \"Linear Learner\", \"Host\": \"algo-1\", \"Operation\": \"training\", \"epoch\": 0, \"model\": 21}, \"Metrics\": {\"train_binary_classification_cross_entropy_objective\": {\"sum\": 0.44569873268821025, \"count\": 1, \"min\": 0.44569873268821025, \"max\": 0.44569873268821025}}}\u001b[0m\n",
      "\u001b[34m#metrics {\"StartTime\": 1642954999.709508, \"EndTime\": 1642954999.7095141, \"Dimensions\": {\"Algorithm\": \"Linear Learner\", \"Host\": \"algo-1\", \"Operation\": \"training\", \"epoch\": 0, \"model\": 22}, \"Metrics\": {\"train_binary_classification_cross_entropy_objective\": {\"sum\": 0.44524944568980823, \"count\": 1, \"min\": 0.44524944568980823, \"max\": 0.44524944568980823}}}\u001b[0m\n",
      "\u001b[34m#metrics {\"StartTime\": 1642954999.7095358, \"EndTime\": 1642954999.709542, \"Dimensions\": {\"Algorithm\": \"Linear Learner\", \"Host\": \"algo-1\", \"Operation\": \"training\", \"epoch\": 0, \"model\": 23}, \"Metrics\": {\"train_binary_classification_cross_entropy_objective\": {\"sum\": 0.4452717898282138, \"count\": 1, \"min\": 0.4452717898282138, \"max\": 0.4452717898282138}}}\u001b[0m\n",
      "\u001b[34m#metrics {\"StartTime\": 1642954999.7095816, \"EndTime\": 1642954999.7095912, \"Dimensions\": {\"Algorithm\": \"Linear Learner\", \"Host\": \"algo-1\", \"Operation\": \"training\", \"epoch\": 0, \"model\": 24}, \"Metrics\": {\"train_binary_classification_cross_entropy_objective\": {\"sum\": 0.551968691184304, \"count\": 1, \"min\": 0.551968691184304, \"max\": 0.551968691184304}}}\u001b[0m\n",
      "\u001b[34m#metrics {\"StartTime\": 1642954999.7096155, \"EndTime\": 1642954999.7096224, \"Dimensions\": {\"Algorithm\": \"Linear Learner\", \"Host\": \"algo-1\", \"Operation\": \"training\", \"epoch\": 0, \"model\": 25}, \"Metrics\": {\"train_binary_classification_cross_entropy_objective\": {\"sum\": 0.5526936018510298, \"count\": 1, \"min\": 0.5526936018510298, \"max\": 0.5526936018510298}}}\u001b[0m\n",
      "\u001b[34m#metrics {\"StartTime\": 1642954999.7096443, \"EndTime\": 1642954999.7096508, \"Dimensions\": {\"Algorithm\": \"Linear Learner\", \"Host\": \"algo-1\", \"Operation\": \"training\", \"epoch\": 0, \"model\": 26}, \"Metrics\": {\"train_binary_classification_cross_entropy_objective\": {\"sum\": 0.5538762950550427, \"count\": 1, \"min\": 0.5538762950550427, \"max\": 0.5538762950550427}}}\u001b[0m\n",
      "\u001b[34m#metrics {\"StartTime\": 1642954999.7096722, \"EndTime\": 1642954999.709679, \"Dimensions\": {\"Algorithm\": \"Linear Learner\", \"Host\": \"algo-1\", \"Operation\": \"training\", \"epoch\": 0, \"model\": 27}, \"Metrics\": {\"train_binary_classification_cross_entropy_objective\": {\"sum\": 0.5534313751220703, \"count\": 1, \"min\": 0.5534313751220703, \"max\": 0.5534313751220703}}}\u001b[0m\n",
      "\u001b[34m#metrics {\"StartTime\": 1642954999.7097003, \"EndTime\": 1642954999.7097068, \"Dimensions\": {\"Algorithm\": \"Linear Learner\", \"Host\": \"algo-1\", \"Operation\": \"training\", \"epoch\": 0, \"model\": 28}, \"Metrics\": {\"train_binary_classification_cross_entropy_objective\": {\"sum\": 0.5482442873868075, \"count\": 1, \"min\": 0.5482442873868075, \"max\": 0.5482442873868075}}}\u001b[0m\n",
      "\u001b[34m#metrics {\"StartTime\": 1642954999.7097416, \"EndTime\": 1642954999.7097523, \"Dimensions\": {\"Algorithm\": \"Linear Learner\", \"Host\": \"algo-1\", \"Operation\": \"training\", \"epoch\": 0, \"model\": 29}, \"Metrics\": {\"train_binary_classification_cross_entropy_objective\": {\"sum\": 0.5481842457164418, \"count\": 1, \"min\": 0.5481842457164418, \"max\": 0.5481842457164418}}}\u001b[0m\n",
      "\u001b[34m#metrics {\"StartTime\": 1642954999.7097785, \"EndTime\": 1642954999.7097857, \"Dimensions\": {\"Algorithm\": \"Linear Learner\", \"Host\": \"algo-1\", \"Operation\": \"training\", \"epoch\": 0, \"model\": 30}, \"Metrics\": {\"train_binary_classification_cross_entropy_objective\": {\"sum\": 0.5482454317959872, \"count\": 1, \"min\": 0.5482454317959872, \"max\": 0.5482454317959872}}}\u001b[0m\n",
      "\u001b[34m#metrics {\"StartTime\": 1642954999.7098074, \"EndTime\": 1642954999.709814, \"Dimensions\": {\"Algorithm\": \"Linear Learner\", \"Host\": \"algo-1\", \"Operation\": \"training\", \"epoch\": 0, \"model\": 31}, \"Metrics\": {\"train_binary_classification_cross_entropy_objective\": {\"sum\": 0.5481743713378906, \"count\": 1, \"min\": 0.5481743713378906, \"max\": 0.5481743713378906}}}\u001b[0m\n",
      "\u001b[34m[01/23/2022 16:23:19 INFO 140540794976064] #quality_metric: host=algo-1, epoch=0, train binary_classification_cross_entropy_objective <loss>=0.4506583437832919\u001b[0m\n",
      "\u001b[34m[01/23/2022 16:23:19 INFO 140540794976064] #early_stopping_criteria_metric: host=algo-1, epoch=0, criteria=binary_classification_cross_entropy_objective, value=0.11444200224442916\u001b[0m\n",
      "\u001b[34m[01/23/2022 16:23:19 INFO 140540794976064] Epoch 0: Loss improved. Updating best model\u001b[0m\n",
      "\u001b[34m[01/23/2022 16:23:19 INFO 140540794976064] Saving model for epoch: 0\u001b[0m\n",
      "\u001b[34m[01/23/2022 16:23:19 INFO 140540794976064] Saved checkpoint to \"/tmp/tmpg_tfll3z/mx-mod-0000.params\"\u001b[0m\n",
      "\u001b[34m[01/23/2022 16:23:19 INFO 140540794976064] #progress_metric: host=algo-1, completed 20.0 % of epochs\u001b[0m\n",
      "\u001b[34m#metrics {\"StartTime\": 1642954996.1670887, \"EndTime\": 1642954999.7239203, \"Dimensions\": {\"Algorithm\": \"Linear Learner\", \"Host\": \"algo-1\", \"Operation\": \"training\", \"epoch\": 0, \"Meta\": \"training_data_iter\"}, \"Metrics\": {\"Total Records Seen\": {\"sum\": 122140.0, \"count\": 1, \"min\": 122140, \"max\": 122140}, \"Total Batches Seen\": {\"sum\": 123.0, \"count\": 1, \"min\": 123, \"max\": 123}, \"Max Records Seen Between Resets\": {\"sum\": 110140.0, \"count\": 1, \"min\": 110140, \"max\": 110140}, \"Max Batches Seen Between Resets\": {\"sum\": 111.0, \"count\": 1, \"min\": 111, \"max\": 111}, \"Reset Count\": {\"sum\": 3.0, \"count\": 1, \"min\": 3, \"max\": 3}, \"Number of Records Since Last Reset\": {\"sum\": 110140.0, \"count\": 1, \"min\": 110140, \"max\": 110140}, \"Number of Batches Since Last Reset\": {\"sum\": 111.0, \"count\": 1, \"min\": 111, \"max\": 111}}}\u001b[0m\n",
      "\u001b[34m[01/23/2022 16:23:19 INFO 140540794976064] #throughput_metric: host=algo-1, train throughput=30964.54341907176 records/second\u001b[0m\n",
      "\u001b[34m[2022-01-23 16:23:23.932] [tensorio] [info] epoch_stats={\"data_pipeline\": \"/opt/ml/input/data/train\", \"epoch\": 5, \"duration\": 4207, \"num_examples\": 111, \"num_bytes\": 11014000}\u001b[0m\n",
      "\u001b[34m#metrics {\"StartTime\": 1642955003.932292, \"EndTime\": 1642955003.9324055, \"Dimensions\": {\"Algorithm\": \"Linear Learner\", \"Host\": \"algo-1\", \"Operation\": \"training\", \"epoch\": 1, \"model\": 0}, \"Metrics\": {\"train_binary_classification_cross_entropy_objective\": {\"sum\": 0.3200810557972301, \"count\": 1, \"min\": 0.3200810557972301, \"max\": 0.3200810557972301}}}\u001b[0m\n",
      "\u001b[34m#metrics {\"StartTime\": 1642955003.932488, \"EndTime\": 1642955003.932508, \"Dimensions\": {\"Algorithm\": \"Linear Learner\", \"Host\": \"algo-1\", \"Operation\": \"training\", \"epoch\": 1, \"model\": 1}, \"Metrics\": {\"train_binary_classification_cross_entropy_objective\": {\"sum\": 0.30358669738769534, \"count\": 1, \"min\": 0.30358669738769534, \"max\": 0.30358669738769534}}}\u001b[0m\n",
      "\u001b[34m#metrics {\"StartTime\": 1642955003.9325647, \"EndTime\": 1642955003.932582, \"Dimensions\": {\"Algorithm\": \"Linear Learner\", \"Host\": \"algo-1\", \"Operation\": \"training\", \"epoch\": 1, \"model\": 2}, \"Metrics\": {\"train_binary_classification_cross_entropy_objective\": {\"sum\": 0.3183053086714311, \"count\": 1, \"min\": 0.3183053086714311, \"max\": 0.3183053086714311}}}\u001b[0m\n",
      "\u001b[34m#metrics {\"StartTime\": 1642955003.9326355, \"EndTime\": 1642955003.9326525, \"Dimensions\": {\"Algorithm\": \"Linear Learner\", \"Host\": \"algo-1\", \"Operation\": \"training\", \"epoch\": 1, \"model\": 3}, \"Metrics\": {\"train_binary_classification_cross_entropy_objective\": {\"sum\": 0.31777872786088424, \"count\": 1, \"min\": 0.31777872786088424, \"max\": 0.31777872786088424}}}\u001b[0m\n",
      "\u001b[34m#metrics {\"StartTime\": 1642955003.9327075, \"EndTime\": 1642955003.9327245, \"Dimensions\": {\"Algorithm\": \"Linear Learner\", \"Host\": \"algo-1\", \"Operation\": \"training\", \"epoch\": 1, \"model\": 4}, \"Metrics\": {\"train_binary_classification_cross_entropy_objective\": {\"sum\": 0.02673182119889693, \"count\": 1, \"min\": 0.02673182119889693, \"max\": 0.02673182119889693}}}\u001b[0m\n",
      "\u001b[34m#metrics {\"StartTime\": 1642955003.9327786, \"EndTime\": 1642955003.9327953, \"Dimensions\": {\"Algorithm\": \"Linear Learner\", \"Host\": \"algo-1\", \"Operation\": \"training\", \"epoch\": 1, \"model\": 5}, \"Metrics\": {\"train_binary_classification_cross_entropy_objective\": {\"sum\": 0.025058043948086826, \"count\": 1, \"min\": 0.025058043948086826, \"max\": 0.025058043948086826}}}\u001b[0m\n",
      "\u001b[34m#metrics {\"StartTime\": 1642955003.9328475, \"EndTime\": 1642955003.9328644, \"Dimensions\": {\"Algorithm\": \"Linear Learner\", \"Host\": \"algo-1\", \"Operation\": \"training\", \"epoch\": 1, \"model\": 6}, \"Metrics\": {\"train_binary_classification_cross_entropy_objective\": {\"sum\": 0.02742282759926536, \"count\": 1, \"min\": 0.02742282759926536, \"max\": 0.02742282759926536}}}\u001b[0m\n",
      "\u001b[34m#metrics {\"StartTime\": 1642955003.9329154, \"EndTime\": 1642955003.932941, \"Dimensions\": {\"Algorithm\": \"Linear Learner\", \"Host\": \"algo-1\", \"Operation\": \"training\", \"epoch\": 1, \"model\": 7}, \"Metrics\": {\"train_binary_classification_cross_entropy_objective\": {\"sum\": 0.025402852751991965, \"count\": 1, \"min\": 0.025402852751991965, \"max\": 0.025402852751991965}}}\u001b[0m\n",
      "\u001b[34m#metrics {\"StartTime\": 1642955003.9329906, \"EndTime\": 1642955003.933007, \"Dimensions\": {\"Algorithm\": \"Linear Learner\", \"Host\": \"algo-1\", \"Operation\": \"training\", \"epoch\": 1, \"model\": 8}, \"Metrics\": {\"train_binary_classification_cross_entropy_objective\": {\"sum\": 0.3037286171653054, \"count\": 1, \"min\": 0.3037286171653054, \"max\": 0.3037286171653054}}}\u001b[0m\n",
      "\u001b[34m#metrics {\"StartTime\": 1642955003.9330611, \"EndTime\": 1642955003.9330764, \"Dimensions\": {\"Algorithm\": \"Linear Learner\", \"Host\": \"algo-1\", \"Operation\": \"training\", \"epoch\": 1, \"model\": 9}, \"Metrics\": {\"train_binary_classification_cross_entropy_objective\": {\"sum\": 0.29640668265602804, \"count\": 1, \"min\": 0.29640668265602804, \"max\": 0.29640668265602804}}}\u001b[0m\n",
      "\u001b[34m#metrics {\"StartTime\": 1642955003.93313, \"EndTime\": 1642955003.9331453, \"Dimensions\": {\"Algorithm\": \"Linear Learner\", \"Host\": \"algo-1\", \"Operation\": \"training\", \"epoch\": 1, \"model\": 10}, \"Metrics\": {\"train_binary_classification_cross_entropy_objective\": {\"sum\": 0.30648179265802555, \"count\": 1, \"min\": 0.30648179265802555, \"max\": 0.30648179265802555}}}\u001b[0m\n",
      "\u001b[34m#metrics {\"StartTime\": 1642955003.933193, \"EndTime\": 1642955003.9332075, \"Dimensions\": {\"Algorithm\": \"Linear Learner\", \"Host\": \"algo-1\", \"Operation\": \"training\", \"epoch\": 1, \"model\": 11}, \"Metrics\": {\"train_binary_classification_cross_entropy_objective\": {\"sum\": 0.3069557619961825, \"count\": 1, \"min\": 0.3069557619961825, \"max\": 0.3069557619961825}}}\u001b[0m\n",
      "\u001b[34m#metrics {\"StartTime\": 1642955003.9332554, \"EndTime\": 1642955003.9332716, \"Dimensions\": {\"Algorithm\": \"Linear Learner\", \"Host\": \"algo-1\", \"Operation\": \"training\", \"epoch\": 1, \"model\": 12}, \"Metrics\": {\"train_binary_classification_cross_entropy_objective\": {\"sum\": 0.07397019916881215, \"count\": 1, \"min\": 0.07397019916881215, \"max\": 0.07397019916881215}}}\u001b[0m\n",
      "\u001b[34m#metrics {\"StartTime\": 1642955003.9333255, \"EndTime\": 1642955003.9333422, \"Dimensions\": {\"Algorithm\": \"Linear Learner\", \"Host\": \"algo-1\", \"Operation\": \"training\", \"epoch\": 1, \"model\": 13}, \"Metrics\": {\"train_binary_classification_cross_entropy_objective\": {\"sum\": 0.07397781136252664, \"count\": 1, \"min\": 0.07397781136252664, \"max\": 0.07397781136252664}}}\u001b[0m\n",
      "\u001b[34m#metrics {\"StartTime\": 1642955003.933386, \"EndTime\": 1642955003.9334028, \"Dimensions\": {\"Algorithm\": \"Linear Learner\", \"Host\": \"algo-1\", \"Operation\": \"training\", \"epoch\": 1, \"model\": 14}, \"Metrics\": {\"train_binary_classification_cross_entropy_objective\": {\"sum\": 0.07396052155928179, \"count\": 1, \"min\": 0.07396052155928179, \"max\": 0.07396052155928179}}}\u001b[0m\n",
      "\u001b[34m#metrics {\"StartTime\": 1642955003.9334445, \"EndTime\": 1642955003.9334595, \"Dimensions\": {\"Algorithm\": \"Linear Learner\", \"Host\": \"algo-1\", \"Operation\": \"training\", \"epoch\": 1, \"model\": 15}, \"Metrics\": {\"train_binary_classification_cross_entropy_objective\": {\"sum\": 0.07395431775179777, \"count\": 1, \"min\": 0.07395431775179777, \"max\": 0.07395431775179777}}}\u001b[0m\n",
      "\u001b[34m#metrics {\"StartTime\": 1642955003.9335105, \"EndTime\": 1642955003.9335256, \"Dimensions\": {\"Algorithm\": \"Linear Learner\", \"Host\": \"algo-1\", \"Operation\": \"training\", \"epoch\": 1, \"model\": 16}, \"Metrics\": {\"train_binary_classification_cross_entropy_objective\": {\"sum\": 0.4380248945756392, \"count\": 1, \"min\": 0.4380248945756392, \"max\": 0.4380248945756392}}}\u001b[0m\n",
      "\u001b[34m#metrics {\"StartTime\": 1642955003.933573, \"EndTime\": 1642955003.9335868, \"Dimensions\": {\"Algorithm\": \"Linear Learner\", \"Host\": \"algo-1\", \"Operation\": \"training\", \"epoch\": 1, \"model\": 17}, \"Metrics\": {\"train_binary_classification_cross_entropy_objective\": {\"sum\": 0.438100048828125, \"count\": 1, \"min\": 0.438100048828125, \"max\": 0.438100048828125}}}\u001b[0m\n",
      "\u001b[34m#metrics {\"StartTime\": 1642955003.9336421, \"EndTime\": 1642955003.9336553, \"Dimensions\": {\"Algorithm\": \"Linear Learner\", \"Host\": \"algo-1\", \"Operation\": \"training\", \"epoch\": 1, \"model\": 18}, \"Metrics\": {\"train_binary_classification_cross_entropy_objective\": {\"sum\": 0.43801456215598367, \"count\": 1, \"min\": 0.43801456215598367, \"max\": 0.43801456215598367}}}\u001b[0m\n",
      "\u001b[34m#metrics {\"StartTime\": 1642955003.9337006, \"EndTime\": 1642955003.9337106, \"Dimensions\": {\"Algorithm\": \"Linear Learner\", \"Host\": \"algo-1\", \"Operation\": \"training\", \"epoch\": 1, \"model\": 19}, \"Metrics\": {\"train_binary_classification_cross_entropy_objective\": {\"sum\": 0.43804520235928623, \"count\": 1, \"min\": 0.43804520235928623, \"max\": 0.43804520235928623}}}\u001b[0m\n",
      "\u001b[34m#metrics {\"StartTime\": 1642955003.933743, \"EndTime\": 1642955003.9337516, \"Dimensions\": {\"Algorithm\": \"Linear Learner\", \"Host\": \"algo-1\", \"Operation\": \"training\", \"epoch\": 1, \"model\": 20}, \"Metrics\": {\"train_binary_classification_cross_entropy_objective\": {\"sum\": 0.4388696699662642, \"count\": 1, \"min\": 0.4388696699662642, \"max\": 0.4388696699662642}}}\u001b[0m\n",
      "\u001b[34m#metrics {\"StartTime\": 1642955003.9337804, \"EndTime\": 1642955003.9337888, \"Dimensions\": {\"Algorithm\": \"Linear Learner\", \"Host\": \"algo-1\", \"Operation\": \"training\", \"epoch\": 1, \"model\": 21}, \"Metrics\": {\"train_binary_classification_cross_entropy_objective\": {\"sum\": 0.4389909609707919, \"count\": 1, \"min\": 0.4389909609707919, \"max\": 0.4389909609707919}}}\u001b[0m\n",
      "\u001b[34m#metrics {\"StartTime\": 1642955003.9338374, \"EndTime\": 1642955003.933847, \"Dimensions\": {\"Algorithm\": \"Linear Learner\", \"Host\": \"algo-1\", \"Operation\": \"training\", \"epoch\": 1, \"model\": 22}, \"Metrics\": {\"train_binary_classification_cross_entropy_objective\": {\"sum\": 0.43886001614657316, \"count\": 1, \"min\": 0.43886001614657316, \"max\": 0.43886001614657316}}}\u001b[0m\n",
      "\u001b[34m#metrics {\"StartTime\": 1642955003.9338794, \"EndTime\": 1642955003.9338875, \"Dimensions\": {\"Algorithm\": \"Linear Learner\", \"Host\": \"algo-1\", \"Operation\": \"training\", \"epoch\": 1, \"model\": 23}, \"Metrics\": {\"train_binary_classification_cross_entropy_objective\": {\"sum\": 0.4390191913951527, \"count\": 1, \"min\": 0.4390191913951527, \"max\": 0.4390191913951527}}}\u001b[0m\n",
      "\u001b[34m#metrics {\"StartTime\": 1642955003.933916, \"EndTime\": 1642955003.9339237, \"Dimensions\": {\"Algorithm\": \"Linear Learner\", \"Host\": \"algo-1\", \"Operation\": \"training\", \"epoch\": 1, \"model\": 24}, \"Metrics\": {\"train_binary_classification_cross_entropy_objective\": {\"sum\": 0.5408622258966619, \"count\": 1, \"min\": 0.5408622258966619, \"max\": 0.5408622258966619}}}\u001b[0m\n",
      "\u001b[34m#metrics {\"StartTime\": 1642955003.933952, \"EndTime\": 1642955003.9339597, \"Dimensions\": {\"Algorithm\": \"Linear Learner\", \"Host\": \"algo-1\", \"Operation\": \"training\", \"epoch\": 1, \"model\": 25}, \"Metrics\": {\"train_binary_classification_cross_entropy_objective\": {\"sum\": 0.540869095958363, \"count\": 1, \"min\": 0.540869095958363, \"max\": 0.540869095958363}}}\u001b[0m\n",
      "\u001b[34m#metrics {\"StartTime\": 1642955003.933997, \"EndTime\": 1642955003.934011, \"Dimensions\": {\"Algorithm\": \"Linear Learner\", \"Host\": \"algo-1\", \"Operation\": \"training\", \"epoch\": 1, \"model\": 26}, \"Metrics\": {\"train_binary_classification_cross_entropy_objective\": {\"sum\": 0.5408656524658203, \"count\": 1, \"min\": 0.5408656524658203, \"max\": 0.5408656524658203}}}\u001b[0m\n",
      "\u001b[34m#metrics {\"StartTime\": 1642955003.9340456, \"EndTime\": 1642955003.934054, \"Dimensions\": {\"Algorithm\": \"Linear Learner\", \"Host\": \"algo-1\", \"Operation\": \"training\", \"epoch\": 1, \"model\": 27}, \"Metrics\": {\"train_binary_classification_cross_entropy_objective\": {\"sum\": 0.5408712241432884, \"count\": 1, \"min\": 0.5408712241432884, \"max\": 0.5408712241432884}}}\u001b[0m\n",
      "\u001b[34m#metrics {\"StartTime\": 1642955003.9340847, \"EndTime\": 1642955003.9340923, \"Dimensions\": {\"Algorithm\": \"Linear Learner\", \"Host\": \"algo-1\", \"Operation\": \"training\", \"epoch\": 1, \"model\": 28}, \"Metrics\": {\"train_binary_classification_cross_entropy_objective\": {\"sum\": 0.5414686348655007, \"count\": 1, \"min\": 0.5414686348655007, \"max\": 0.5414686348655007}}}\u001b[0m\n",
      "\u001b[34m#metrics {\"StartTime\": 1642955003.934121, \"EndTime\": 1642955003.9341285, \"Dimensions\": {\"Algorithm\": \"Linear Learner\", \"Host\": \"algo-1\", \"Operation\": \"training\", \"epoch\": 1, \"model\": 29}, \"Metrics\": {\"train_binary_classification_cross_entropy_objective\": {\"sum\": 0.5415803785844283, \"count\": 1, \"min\": 0.5415803785844283, \"max\": 0.5415803785844283}}}\u001b[0m\n",
      "\u001b[34m#metrics {\"StartTime\": 1642955003.934158, \"EndTime\": 1642955003.9341717, \"Dimensions\": {\"Algorithm\": \"Linear Learner\", \"Host\": \"algo-1\", \"Operation\": \"training\", \"epoch\": 1, \"model\": 30}, \"Metrics\": {\"train_binary_classification_cross_entropy_objective\": {\"sum\": 0.5414631980202415, \"count\": 1, \"min\": 0.5414631980202415, \"max\": 0.5414631980202415}}}\u001b[0m\n",
      "\u001b[34m#metrics {\"StartTime\": 1642955003.9342136, \"EndTime\": 1642955003.9342227, \"Dimensions\": {\"Algorithm\": \"Linear Learner\", \"Host\": \"algo-1\", \"Operation\": \"training\", \"epoch\": 1, \"model\": 31}, \"Metrics\": {\"train_binary_classification_cross_entropy_objective\": {\"sum\": 0.5415796830610795, \"count\": 1, \"min\": 0.5415796830610795, \"max\": 0.5415796830610795}}}\u001b[0m\n",
      "\u001b[34m[01/23/2022 16:23:23 INFO 140540794976064] #quality_metric: host=algo-1, epoch=1, train binary_classification_cross_entropy_objective <loss>=0.3200810557972301\u001b[0m\n",
      "\u001b[34m[01/23/2022 16:23:23 INFO 140540794976064] #early_stopping_criteria_metric: host=algo-1, epoch=1, criteria=binary_classification_cross_entropy_objective, value=0.025058043948086826\u001b[0m\n",
      "\u001b[34m[01/23/2022 16:23:23 INFO 140540794976064] Epoch 1: Loss improved. Updating best model\u001b[0m\n",
      "\u001b[34m[01/23/2022 16:23:23 INFO 140540794976064] Saving model for epoch: 1\u001b[0m\n",
      "\u001b[34m[01/23/2022 16:23:23 INFO 140540794976064] Saved checkpoint to \"/tmp/tmpgooq4vqg/mx-mod-0000.params\"\u001b[0m\n",
      "\u001b[34m[01/23/2022 16:23:23 INFO 140540794976064] #progress_metric: host=algo-1, completed 40.0 % of epochs\u001b[0m\n",
      "\u001b[34m#metrics {\"StartTime\": 1642954999.724635, \"EndTime\": 1642955003.9426205, \"Dimensions\": {\"Algorithm\": \"Linear Learner\", \"Host\": \"algo-1\", \"Operation\": \"training\", \"epoch\": 1, \"Meta\": \"training_data_iter\"}, \"Metrics\": {\"Total Records Seen\": {\"sum\": 232280.0, \"count\": 1, \"min\": 232280, \"max\": 232280}, \"Total Batches Seen\": {\"sum\": 234.0, \"count\": 1, \"min\": 234, \"max\": 234}, \"Max Records Seen Between Resets\": {\"sum\": 110140.0, \"count\": 1, \"min\": 110140, \"max\": 110140}, \"Max Batches Seen Between Resets\": {\"sum\": 111.0, \"count\": 1, \"min\": 111, \"max\": 111}, \"Reset Count\": {\"sum\": 4.0, \"count\": 1, \"min\": 4, \"max\": 4}, \"Number of Records Since Last Reset\": {\"sum\": 110140.0, \"count\": 1, \"min\": 110140, \"max\": 110140}, \"Number of Batches Since Last Reset\": {\"sum\": 111.0, \"count\": 1, \"min\": 111, \"max\": 111}}}\u001b[0m\n",
      "\u001b[34m[01/23/2022 16:23:23 INFO 140540794976064] #throughput_metric: host=algo-1, train throughput=26111.302554038608 records/second\u001b[0m\n",
      "\u001b[34m[2022-01-23 16:23:27.721] [tensorio] [info] epoch_stats={\"data_pipeline\": \"/opt/ml/input/data/train\", \"epoch\": 7, \"duration\": 3778, \"num_examples\": 111, \"num_bytes\": 11014000}\u001b[0m\n",
      "\u001b[34m#metrics {\"StartTime\": 1642955007.7217758, \"EndTime\": 1642955007.7218635, \"Dimensions\": {\"Algorithm\": \"Linear Learner\", \"Host\": \"algo-1\", \"Operation\": \"training\", \"epoch\": 2, \"model\": 0}, \"Metrics\": {\"train_binary_classification_cross_entropy_objective\": {\"sum\": 0.25852503273703836, \"count\": 1, \"min\": 0.25852503273703836, \"max\": 0.25852503273703836}}}\u001b[0m\n",
      "\u001b[34m#metrics {\"StartTime\": 1642955007.7219584, \"EndTime\": 1642955007.7219777, \"Dimensions\": {\"Algorithm\": \"Linear Learner\", \"Host\": \"algo-1\", \"Operation\": \"training\", \"epoch\": 2, \"model\": 1}, \"Metrics\": {\"train_binary_classification_cross_entropy_objective\": {\"sum\": 0.23759385334361682, \"count\": 1, \"min\": 0.23759385334361682, \"max\": 0.23759385334361682}}}\u001b[0m\n",
      "\u001b[34m#metrics {\"StartTime\": 1642955007.7220309, \"EndTime\": 1642955007.7220461, \"Dimensions\": {\"Algorithm\": \"Linear Learner\", \"Host\": \"algo-1\", \"Operation\": \"training\", \"epoch\": 2, \"model\": 2}, \"Metrics\": {\"train_binary_classification_cross_entropy_objective\": {\"sum\": 0.25722027213356713, \"count\": 1, \"min\": 0.25722027213356713, \"max\": 0.25722027213356713}}}\u001b[0m\n",
      "\u001b[34m#metrics {\"StartTime\": 1642955007.7220929, \"EndTime\": 1642955007.7221084, \"Dimensions\": {\"Algorithm\": \"Linear Learner\", \"Host\": \"algo-1\", \"Operation\": \"training\", \"epoch\": 2, \"model\": 3}, \"Metrics\": {\"train_binary_classification_cross_entropy_objective\": {\"sum\": 0.24792909296209162, \"count\": 1, \"min\": 0.24792909296209162, \"max\": 0.24792909296209162}}}\u001b[0m\n",
      "\u001b[34m#metrics {\"StartTime\": 1642955007.7221563, \"EndTime\": 1642955007.7221725, \"Dimensions\": {\"Algorithm\": \"Linear Learner\", \"Host\": \"algo-1\", \"Operation\": \"training\", \"epoch\": 2, \"model\": 4}, \"Metrics\": {\"train_binary_classification_cross_entropy_objective\": {\"sum\": 0.01576268613988703, \"count\": 1, \"min\": 0.01576268613988703, \"max\": 0.01576268613988703}}}\u001b[0m\n",
      "\u001b[34m#metrics {\"StartTime\": 1642955007.722212, \"EndTime\": 1642955007.7222269, \"Dimensions\": {\"Algorithm\": \"Linear Learner\", \"Host\": \"algo-1\", \"Operation\": \"training\", \"epoch\": 2, \"model\": 5}, \"Metrics\": {\"train_binary_classification_cross_entropy_objective\": {\"sum\": 0.014075965118408203, \"count\": 1, \"min\": 0.014075965118408203, \"max\": 0.014075965118408203}}}\u001b[0m\n",
      "\u001b[34m#metrics {\"StartTime\": 1642955007.7222793, \"EndTime\": 1642955007.7222955, \"Dimensions\": {\"Algorithm\": \"Linear Learner\", \"Host\": \"algo-1\", \"Operation\": \"training\", \"epoch\": 2, \"model\": 6}, \"Metrics\": {\"train_binary_classification_cross_entropy_objective\": {\"sum\": 0.01618095981424505, \"count\": 1, \"min\": 0.01618095981424505, \"max\": 0.01618095981424505}}}\u001b[0m\n",
      "\u001b[34m#metrics {\"StartTime\": 1642955007.722339, \"EndTime\": 1642955007.7223537, \"Dimensions\": {\"Algorithm\": \"Linear Learner\", \"Host\": \"algo-1\", \"Operation\": \"training\", \"epoch\": 2, \"model\": 7}, \"Metrics\": {\"train_binary_classification_cross_entropy_objective\": {\"sum\": 0.014271045858209784, \"count\": 1, \"min\": 0.014271045858209784, \"max\": 0.014271045858209784}}}\u001b[0m\n",
      "\u001b[34m#metrics {\"StartTime\": 1642955007.7223928, \"EndTime\": 1642955007.7224069, \"Dimensions\": {\"Algorithm\": \"Linear Learner\", \"Host\": \"algo-1\", \"Operation\": \"training\", \"epoch\": 2, \"model\": 8}, \"Metrics\": {\"train_binary_classification_cross_entropy_objective\": {\"sum\": 0.247451848116788, \"count\": 1, \"min\": 0.247451848116788, \"max\": 0.247451848116788}}}\u001b[0m\n",
      "\u001b[34m#metrics {\"StartTime\": 1642955007.7224586, \"EndTime\": 1642955007.7224736, \"Dimensions\": {\"Algorithm\": \"Linear Learner\", \"Host\": \"algo-1\", \"Operation\": \"training\", \"epoch\": 2, \"model\": 9}, \"Metrics\": {\"train_binary_classification_cross_entropy_objective\": {\"sum\": 0.23435991224809127, \"count\": 1, \"min\": 0.23435991224809127, \"max\": 0.23435991224809127}}}\u001b[0m\n",
      "\u001b[34m#metrics {\"StartTime\": 1642955007.7225173, \"EndTime\": 1642955007.7225318, \"Dimensions\": {\"Algorithm\": \"Linear Learner\", \"Host\": \"algo-1\", \"Operation\": \"training\", \"epoch\": 2, \"model\": 10}, \"Metrics\": {\"train_binary_classification_cross_entropy_objective\": {\"sum\": 0.24951326099742543, \"count\": 1, \"min\": 0.24951326099742543, \"max\": 0.24951326099742543}}}\u001b[0m\n",
      "\u001b[34m#metrics {\"StartTime\": 1642955007.7225692, \"EndTime\": 1642955007.7225833, \"Dimensions\": {\"Algorithm\": \"Linear Learner\", \"Host\": \"algo-1\", \"Operation\": \"training\", \"epoch\": 2, \"model\": 11}, \"Metrics\": {\"train_binary_classification_cross_entropy_objective\": {\"sum\": 0.24166594876376066, \"count\": 1, \"min\": 0.24166594876376066, \"max\": 0.24166594876376066}}}\u001b[0m\n",
      "\u001b[34m#metrics {\"StartTime\": 1642955007.7226229, \"EndTime\": 1642955007.7226367, \"Dimensions\": {\"Algorithm\": \"Linear Learner\", \"Host\": \"algo-1\", \"Operation\": \"training\", \"epoch\": 2, \"model\": 12}, \"Metrics\": {\"train_binary_classification_cross_entropy_objective\": {\"sum\": 0.07397626620205966, \"count\": 1, \"min\": 0.07397626620205966, \"max\": 0.07397626620205966}}}\u001b[0m\n",
      "\u001b[34m#metrics {\"StartTime\": 1642955007.722683, \"EndTime\": 1642955007.7226977, \"Dimensions\": {\"Algorithm\": \"Linear Learner\", \"Host\": \"algo-1\", \"Operation\": \"training\", \"epoch\": 2, \"model\": 13}, \"Metrics\": {\"train_binary_classification_cross_entropy_objective\": {\"sum\": 0.074006892117587, \"count\": 1, \"min\": 0.074006892117587, \"max\": 0.074006892117587}}}\u001b[0m\n",
      "\u001b[34m#metrics {\"StartTime\": 1642955007.7227347, \"EndTime\": 1642955007.7227488, \"Dimensions\": {\"Algorithm\": \"Linear Learner\", \"Host\": \"algo-1\", \"Operation\": \"training\", \"epoch\": 2, \"model\": 14}, \"Metrics\": {\"train_binary_classification_cross_entropy_objective\": {\"sum\": 0.07397966204556553, \"count\": 1, \"min\": 0.07397966204556553, \"max\": 0.07397966204556553}}}\u001b[0m\n",
      "\u001b[34m#metrics {\"StartTime\": 1642955007.7227857, \"EndTime\": 1642955007.7227988, \"Dimensions\": {\"Algorithm\": \"Linear Learner\", \"Host\": \"algo-1\", \"Operation\": \"training\", \"epoch\": 2, \"model\": 15}, \"Metrics\": {\"train_binary_classification_cross_entropy_objective\": {\"sum\": 0.07401397344415839, \"count\": 1, \"min\": 0.07401397344415839, \"max\": 0.07401397344415839}}}\u001b[0m\n",
      "\u001b[34m#metrics {\"StartTime\": 1642955007.7228467, \"EndTime\": 1642955007.7228613, \"Dimensions\": {\"Algorithm\": \"Linear Learner\", \"Host\": \"algo-1\", \"Operation\": \"training\", \"epoch\": 2, \"model\": 16}, \"Metrics\": {\"train_binary_classification_cross_entropy_objective\": {\"sum\": 0.4380567879416726, \"count\": 1, \"min\": 0.4380567879416726, \"max\": 0.4380567879416726}}}\u001b[0m\n",
      "\u001b[34m#metrics {\"StartTime\": 1642955007.722908, \"EndTime\": 1642955007.7229223, \"Dimensions\": {\"Algorithm\": \"Linear Learner\", \"Host\": \"algo-1\", \"Operation\": \"training\", \"epoch\": 2, \"model\": 17}, \"Metrics\": {\"train_binary_classification_cross_entropy_objective\": {\"sum\": 0.4380664417613636, \"count\": 1, \"min\": 0.4380664417613636, \"max\": 0.4380664417613636}}}\u001b[0m\n",
      "\u001b[34m#metrics {\"StartTime\": 1642955007.7229602, \"EndTime\": 1642955007.722973, \"Dimensions\": {\"Algorithm\": \"Linear Learner\", \"Host\": \"algo-1\", \"Operation\": \"training\", \"epoch\": 2, \"model\": 18}, \"Metrics\": {\"train_binary_classification_cross_entropy_objective\": {\"sum\": 0.43805341935591263, \"count\": 1, \"min\": 0.43805341935591263, \"max\": 0.43805341935591263}}}\u001b[0m\n",
      "\u001b[34m#metrics {\"StartTime\": 1642955007.7230191, \"EndTime\": 1642955007.7230337, \"Dimensions\": {\"Algorithm\": \"Linear Learner\", \"Host\": \"algo-1\", \"Operation\": \"training\", \"epoch\": 2, \"model\": 19}, \"Metrics\": {\"train_binary_classification_cross_entropy_objective\": {\"sum\": 0.4380714677290483, \"count\": 1, \"min\": 0.4380714677290483, \"max\": 0.4380714677290483}}}\u001b[0m\n",
      "\u001b[34m#metrics {\"StartTime\": 1642955007.7230723, \"EndTime\": 1642955007.7230859, \"Dimensions\": {\"Algorithm\": \"Linear Learner\", \"Host\": \"algo-1\", \"Operation\": \"training\", \"epoch\": 2, \"model\": 20}, \"Metrics\": {\"train_binary_classification_cross_entropy_objective\": {\"sum\": 0.43903688853870737, \"count\": 1, \"min\": 0.43903688853870737, \"max\": 0.43903688853870737}}}\u001b[0m\n",
      "\u001b[34m#metrics {\"StartTime\": 1642955007.723124, \"EndTime\": 1642955007.7231376, \"Dimensions\": {\"Algorithm\": \"Linear Learner\", \"Host\": \"algo-1\", \"Operation\": \"training\", \"epoch\": 2, \"model\": 21}, \"Metrics\": {\"train_binary_classification_cross_entropy_objective\": {\"sum\": 0.43924388316761365, \"count\": 1, \"min\": 0.43924388316761365, \"max\": 0.43924388316761365}}}\u001b[0m\n",
      "\u001b[34m#metrics {\"StartTime\": 1642955007.7231746, \"EndTime\": 1642955007.7231874, \"Dimensions\": {\"Algorithm\": \"Linear Learner\", \"Host\": \"algo-1\", \"Operation\": \"training\", \"epoch\": 2, \"model\": 22}, \"Metrics\": {\"train_binary_classification_cross_entropy_objective\": {\"sum\": 0.43904813926003194, \"count\": 1, \"min\": 0.43904813926003194, \"max\": 0.43904813926003194}}}\u001b[0m\n",
      "\u001b[34m#metrics {\"StartTime\": 1642955007.723235, \"EndTime\": 1642955007.7232497, \"Dimensions\": {\"Algorithm\": \"Linear Learner\", \"Host\": \"algo-1\", \"Operation\": \"training\", \"epoch\": 2, \"model\": 23}, \"Metrics\": {\"train_binary_classification_cross_entropy_objective\": {\"sum\": 0.43919344482421874, \"count\": 1, \"min\": 0.43919344482421874, \"max\": 0.43919344482421874}}}\u001b[0m\n",
      "\u001b[34m#metrics {\"StartTime\": 1642955007.7232852, \"EndTime\": 1642955007.7232943, \"Dimensions\": {\"Algorithm\": \"Linear Learner\", \"Host\": \"algo-1\", \"Operation\": \"training\", \"epoch\": 2, \"model\": 24}, \"Metrics\": {\"train_binary_classification_cross_entropy_objective\": {\"sum\": 0.5408717088179155, \"count\": 1, \"min\": 0.5408717088179155, \"max\": 0.5408717088179155}}}\u001b[0m\n",
      "\u001b[34m#metrics {\"StartTime\": 1642955007.7233233, \"EndTime\": 1642955007.723336, \"Dimensions\": {\"Algorithm\": \"Linear Learner\", \"Host\": \"algo-1\", \"Operation\": \"training\", \"epoch\": 2, \"model\": 25}, \"Metrics\": {\"train_binary_classification_cross_entropy_objective\": {\"sum\": 0.5408862632057884, \"count\": 1, \"min\": 0.5408862632057884, \"max\": 0.5408862632057884}}}\u001b[0m\n",
      "\u001b[34m#metrics {\"StartTime\": 1642955007.7233777, \"EndTime\": 1642955007.7233868, \"Dimensions\": {\"Algorithm\": \"Linear Learner\", \"Host\": \"algo-1\", \"Operation\": \"training\", \"epoch\": 2, \"model\": 26}, \"Metrics\": {\"train_binary_classification_cross_entropy_objective\": {\"sum\": 0.5408715742631393, \"count\": 1, \"min\": 0.5408715742631393, \"max\": 0.5408715742631393}}}\u001b[0m\n",
      "\u001b[34m#metrics {\"StartTime\": 1642955007.7234166, \"EndTime\": 1642955007.7234242, \"Dimensions\": {\"Algorithm\": \"Linear Learner\", \"Host\": \"algo-1\", \"Operation\": \"training\", \"epoch\": 2, \"model\": 27}, \"Metrics\": {\"train_binary_classification_cross_entropy_objective\": {\"sum\": 0.5408874181574042, \"count\": 1, \"min\": 0.5408874181574042, \"max\": 0.5408874181574042}}}\u001b[0m\n",
      "\u001b[34m#metrics {\"StartTime\": 1642955007.7234526, \"EndTime\": 1642955007.7234604, \"Dimensions\": {\"Algorithm\": \"Linear Learner\", \"Host\": \"algo-1\", \"Operation\": \"training\", \"epoch\": 2, \"model\": 28}, \"Metrics\": {\"train_binary_classification_cross_entropy_objective\": {\"sum\": 0.541604765181108, \"count\": 1, \"min\": 0.541604765181108, \"max\": 0.541604765181108}}}\u001b[0m\n",
      "\u001b[34m#metrics {\"StartTime\": 1642955007.7234886, \"EndTime\": 1642955007.7234986, \"Dimensions\": {\"Algorithm\": \"Linear Learner\", \"Host\": \"algo-1\", \"Operation\": \"training\", \"epoch\": 2, \"model\": 29}, \"Metrics\": {\"train_binary_classification_cross_entropy_objective\": {\"sum\": 0.5417639898126776, \"count\": 1, \"min\": 0.5417639898126776, \"max\": 0.5417639898126776}}}\u001b[0m\n",
      "\u001b[34m#metrics {\"StartTime\": 1642955007.7235446, \"EndTime\": 1642955007.7235541, \"Dimensions\": {\"Algorithm\": \"Linear Learner\", \"Host\": \"algo-1\", \"Operation\": \"training\", \"epoch\": 2, \"model\": 30}, \"Metrics\": {\"train_binary_classification_cross_entropy_objective\": {\"sum\": 0.5416032284823331, \"count\": 1, \"min\": 0.5416032284823331, \"max\": 0.5416032284823331}}}\u001b[0m\n",
      "\u001b[34m#metrics {\"StartTime\": 1642955007.723593, \"EndTime\": 1642955007.7236018, \"Dimensions\": {\"Algorithm\": \"Linear Learner\", \"Host\": \"algo-1\", \"Operation\": \"training\", \"epoch\": 2, \"model\": 31}, \"Metrics\": {\"train_binary_classification_cross_entropy_objective\": {\"sum\": 0.5417726235129616, \"count\": 1, \"min\": 0.5417726235129616, \"max\": 0.5417726235129616}}}\u001b[0m\n",
      "\u001b[34m[01/23/2022 16:23:27 INFO 140540794976064] #quality_metric: host=algo-1, epoch=2, train binary_classification_cross_entropy_objective <loss>=0.25852503273703836\u001b[0m\n",
      "\u001b[34m[01/23/2022 16:23:27 INFO 140540794976064] #early_stopping_criteria_metric: host=algo-1, epoch=2, criteria=binary_classification_cross_entropy_objective, value=0.014075965118408203\u001b[0m\n",
      "\u001b[34m[01/23/2022 16:23:27 INFO 140540794976064] Epoch 2: Loss improved. Updating best model\u001b[0m\n",
      "\u001b[34m[01/23/2022 16:23:27 INFO 140540794976064] Saving model for epoch: 2\u001b[0m\n",
      "\u001b[34m[01/23/2022 16:23:27 INFO 140540794976064] Saved checkpoint to \"/tmp/tmpc0eifbna/mx-mod-0000.params\"\u001b[0m\n",
      "\u001b[34m[01/23/2022 16:23:27 INFO 140540794976064] #progress_metric: host=algo-1, completed 60.0 % of epochs\u001b[0m\n",
      "\u001b[34m#metrics {\"StartTime\": 1642955003.943244, \"EndTime\": 1642955007.7331, \"Dimensions\": {\"Algorithm\": \"Linear Learner\", \"Host\": \"algo-1\", \"Operation\": \"training\", \"epoch\": 2, \"Meta\": \"training_data_iter\"}, \"Metrics\": {\"Total Records Seen\": {\"sum\": 342420.0, \"count\": 1, \"min\": 342420, \"max\": 342420}, \"Total Batches Seen\": {\"sum\": 345.0, \"count\": 1, \"min\": 345, \"max\": 345}, \"Max Records Seen Between Resets\": {\"sum\": 110140.0, \"count\": 1, \"min\": 110140, \"max\": 110140}, \"Max Batches Seen Between Resets\": {\"sum\": 111.0, \"count\": 1, \"min\": 111, \"max\": 111}, \"Reset Count\": {\"sum\": 5.0, \"count\": 1, \"min\": 5, \"max\": 5}, \"Number of Records Since Last Reset\": {\"sum\": 110140.0, \"count\": 1, \"min\": 110140, \"max\": 110140}, \"Number of Batches Since Last Reset\": {\"sum\": 111.0, \"count\": 1, \"min\": 111, \"max\": 111}}}\u001b[0m\n",
      "\u001b[34m[01/23/2022 16:23:27 INFO 140540794976064] #throughput_metric: host=algo-1, train throughput=29060.633292697403 records/second\u001b[0m\n",
      "\n",
      "2022-01-23 16:23:40 Uploading - Uploading generated training model\u001b[34m[2022-01-23 16:23:31.270] [tensorio] [info] epoch_stats={\"data_pipeline\": \"/opt/ml/input/data/train\", \"epoch\": 9, \"duration\": 3536, \"num_examples\": 111, \"num_bytes\": 11014000}\u001b[0m\n",
      "\u001b[34m#metrics {\"StartTime\": 1642955011.2701998, \"EndTime\": 1642955011.2702892, \"Dimensions\": {\"Algorithm\": \"Linear Learner\", \"Host\": \"algo-1\", \"Operation\": \"training\", \"epoch\": 3, \"model\": 0}, \"Metrics\": {\"train_binary_classification_cross_entropy_objective\": {\"sum\": 0.22008080694025214, \"count\": 1, \"min\": 0.22008080694025214, \"max\": 0.22008080694025214}}}\u001b[0m\n",
      "\u001b[34m#metrics {\"StartTime\": 1642955011.2703762, \"EndTime\": 1642955011.2704008, \"Dimensions\": {\"Algorithm\": \"Linear Learner\", \"Host\": \"algo-1\", \"Operation\": \"training\", \"epoch\": 3, \"model\": 1}, \"Metrics\": {\"train_binary_classification_cross_entropy_objective\": {\"sum\": 0.19527422402121805, \"count\": 1, \"min\": 0.19527422402121805, \"max\": 0.19527422402121805}}}\u001b[0m\n",
      "\u001b[34m#metrics {\"StartTime\": 1642955011.2704606, \"EndTime\": 1642955011.270479, \"Dimensions\": {\"Algorithm\": \"Linear Learner\", \"Host\": \"algo-1\", \"Operation\": \"training\", \"epoch\": 3, \"model\": 2}, \"Metrics\": {\"train_binary_classification_cross_entropy_objective\": {\"sum\": 0.21912090551202948, \"count\": 1, \"min\": 0.21912090551202948, \"max\": 0.21912090551202948}}}\u001b[0m\n",
      "\u001b[34m#metrics {\"StartTime\": 1642955011.2705345, \"EndTime\": 1642955011.2705522, \"Dimensions\": {\"Algorithm\": \"Linear Learner\", \"Host\": \"algo-1\", \"Operation\": \"training\", \"epoch\": 3, \"model\": 3}, \"Metrics\": {\"train_binary_classification_cross_entropy_objective\": {\"sum\": 0.203346296414462, \"count\": 1, \"min\": 0.203346296414462, \"max\": 0.203346296414462}}}\u001b[0m\n",
      "\u001b[34m#metrics {\"StartTime\": 1642955011.2706158, \"EndTime\": 1642955011.2706335, \"Dimensions\": {\"Algorithm\": \"Linear Learner\", \"Host\": \"algo-1\", \"Operation\": \"training\", \"epoch\": 3, \"model\": 4}, \"Metrics\": {\"train_binary_classification_cross_entropy_objective\": {\"sum\": 0.011202530054612593, \"count\": 1, \"min\": 0.011202530054612593, \"max\": 0.011202530054612593}}}\u001b[0m\n",
      "\u001b[34m#metrics {\"StartTime\": 1642955011.270691, \"EndTime\": 1642955011.2707083, \"Dimensions\": {\"Algorithm\": \"Linear Learner\", \"Host\": \"algo-1\", \"Operation\": \"training\", \"epoch\": 3, \"model\": 5}, \"Metrics\": {\"train_binary_classification_cross_entropy_objective\": {\"sum\": 0.00957091048414057, \"count\": 1, \"min\": 0.00957091048414057, \"max\": 0.00957091048414057}}}\u001b[0m\n",
      "\u001b[34m#metrics {\"StartTime\": 1642955011.270764, \"EndTime\": 1642955011.2707813, \"Dimensions\": {\"Algorithm\": \"Linear Learner\", \"Host\": \"algo-1\", \"Operation\": \"training\", \"epoch\": 3, \"model\": 6}, \"Metrics\": {\"train_binary_classification_cross_entropy_objective\": {\"sum\": 0.011498654833706943, \"count\": 1, \"min\": 0.011498654833706943, \"max\": 0.011498654833706943}}}\u001b[0m\n",
      "\u001b[34m#metrics {\"StartTime\": 1642955011.2708347, \"EndTime\": 1642955011.2708504, \"Dimensions\": {\"Algorithm\": \"Linear Learner\", \"Host\": \"algo-1\", \"Operation\": \"training\", \"epoch\": 3, \"model\": 7}, \"Metrics\": {\"train_binary_classification_cross_entropy_objective\": {\"sum\": 0.009700321275537663, \"count\": 1, \"min\": 0.009700321275537663, \"max\": 0.009700321275537663}}}\u001b[0m\n",
      "\u001b[34m#metrics {\"StartTime\": 1642955011.270906, \"EndTime\": 1642955011.2709227, \"Dimensions\": {\"Algorithm\": \"Linear Learner\", \"Host\": \"algo-1\", \"Operation\": \"training\", \"epoch\": 3, \"model\": 8}, \"Metrics\": {\"train_binary_classification_cross_entropy_objective\": {\"sum\": 0.21260151283957743, \"count\": 1, \"min\": 0.21260151283957743, \"max\": 0.21260151283957743}}}\u001b[0m\n",
      "\u001b[34m#metrics {\"StartTime\": 1642955011.270987, \"EndTime\": 1642955011.2710037, \"Dimensions\": {\"Algorithm\": \"Linear Learner\", \"Host\": \"algo-1\", \"Operation\": \"training\", \"epoch\": 3, \"model\": 9}, \"Metrics\": {\"train_binary_classification_cross_entropy_objective\": {\"sum\": 0.1952063681862571, \"count\": 1, \"min\": 0.1952063681862571, \"max\": 0.1952063681862571}}}\u001b[0m\n",
      "\u001b[34m#metrics {\"StartTime\": 1642955011.271056, \"EndTime\": 1642955011.271072, \"Dimensions\": {\"Algorithm\": \"Linear Learner\", \"Host\": \"algo-1\", \"Operation\": \"training\", \"epoch\": 3, \"model\": 10}, \"Metrics\": {\"train_binary_classification_cross_entropy_objective\": {\"sum\": 0.21435365780917082, \"count\": 1, \"min\": 0.21435365780917082, \"max\": 0.21435365780917082}}}\u001b[0m\n",
      "\u001b[34m#metrics {\"StartTime\": 1642955011.2711232, \"EndTime\": 1642955011.271139, \"Dimensions\": {\"Algorithm\": \"Linear Learner\", \"Host\": \"algo-1\", \"Operation\": \"training\", \"epoch\": 3, \"model\": 11}, \"Metrics\": {\"train_binary_classification_cross_entropy_objective\": {\"sum\": 0.20069820875688033, \"count\": 1, \"min\": 0.20069820875688033, \"max\": 0.20069820875688033}}}\u001b[0m\n",
      "\u001b[34m#metrics {\"StartTime\": 1642955011.271197, \"EndTime\": 1642955011.271214, \"Dimensions\": {\"Algorithm\": \"Linear Learner\", \"Host\": \"algo-1\", \"Operation\": \"training\", \"epoch\": 3, \"model\": 12}, \"Metrics\": {\"train_binary_classification_cross_entropy_objective\": {\"sum\": 0.07396889613758434, \"count\": 1, \"min\": 0.07396889613758434, \"max\": 0.07396889613758434}}}\u001b[0m\n",
      "\u001b[34m#metrics {\"StartTime\": 1642955011.271264, \"EndTime\": 1642955011.2712796, \"Dimensions\": {\"Algorithm\": \"Linear Learner\", \"Host\": \"algo-1\", \"Operation\": \"training\", \"epoch\": 3, \"model\": 13}, \"Metrics\": {\"train_binary_classification_cross_entropy_objective\": {\"sum\": 0.07404656458767978, \"count\": 1, \"min\": 0.07404656458767978, \"max\": 0.07404656458767978}}}\u001b[0m\n",
      "\u001b[34m#metrics {\"StartTime\": 1642955011.2713394, \"EndTime\": 1642955011.2713563, \"Dimensions\": {\"Algorithm\": \"Linear Learner\", \"Host\": \"algo-1\", \"Operation\": \"training\", \"epoch\": 3, \"model\": 14}, \"Metrics\": {\"train_binary_classification_cross_entropy_objective\": {\"sum\": 0.07397306268865413, \"count\": 1, \"min\": 0.07397306268865413, \"max\": 0.07397306268865413}}}\u001b[0m\n",
      "\u001b[34m#metrics {\"StartTime\": 1642955011.2714097, \"EndTime\": 1642955011.2714257, \"Dimensions\": {\"Algorithm\": \"Linear Learner\", \"Host\": \"algo-1\", \"Operation\": \"training\", \"epoch\": 3, \"model\": 15}, \"Metrics\": {\"train_binary_classification_cross_entropy_objective\": {\"sum\": 0.07405074005126953, \"count\": 1, \"min\": 0.07405074005126953, \"max\": 0.07405074005126953}}}\u001b[0m\n",
      "\u001b[34m#metrics {\"StartTime\": 1642955011.271478, \"EndTime\": 1642955011.2714953, \"Dimensions\": {\"Algorithm\": \"Linear Learner\", \"Host\": \"algo-1\", \"Operation\": \"training\", \"epoch\": 3, \"model\": 16}, \"Metrics\": {\"train_binary_classification_cross_entropy_objective\": {\"sum\": 0.4380665491277521, \"count\": 1, \"min\": 0.4380665491277521, \"max\": 0.4380665491277521}}}\u001b[0m\n",
      "\u001b[34m#metrics {\"StartTime\": 1642955011.2715561, \"EndTime\": 1642955011.271574, \"Dimensions\": {\"Algorithm\": \"Linear Learner\", \"Host\": \"algo-1\", \"Operation\": \"training\", \"epoch\": 3, \"model\": 17}, \"Metrics\": {\"train_binary_classification_cross_entropy_objective\": {\"sum\": 0.4380799255371094, \"count\": 1, \"min\": 0.4380799255371094, \"max\": 0.4380799255371094}}}\u001b[0m\n",
      "\u001b[34m#metrics {\"StartTime\": 1642955011.2716355, \"EndTime\": 1642955011.2716515, \"Dimensions\": {\"Algorithm\": \"Linear Learner\", \"Host\": \"algo-1\", \"Operation\": \"training\", \"epoch\": 3, \"model\": 18}, \"Metrics\": {\"train_binary_classification_cross_entropy_objective\": {\"sum\": 0.43806386940696024, \"count\": 1, \"min\": 0.43806386940696024, \"max\": 0.43806386940696024}}}\u001b[0m\n",
      "\u001b[34m#metrics {\"StartTime\": 1642955011.2717035, \"EndTime\": 1642955011.271719, \"Dimensions\": {\"Algorithm\": \"Linear Learner\", \"Host\": \"algo-1\", \"Operation\": \"training\", \"epoch\": 3, \"model\": 19}, \"Metrics\": {\"train_binary_classification_cross_entropy_objective\": {\"sum\": 0.43808853870738634, \"count\": 1, \"min\": 0.43808853870738634, \"max\": 0.43808853870738634}}}\u001b[0m\n",
      "\u001b[34m#metrics {\"StartTime\": 1642955011.2717712, \"EndTime\": 1642955011.2717862, \"Dimensions\": {\"Algorithm\": \"Linear Learner\", \"Host\": \"algo-1\", \"Operation\": \"training\", \"epoch\": 3, \"model\": 20}, \"Metrics\": {\"train_binary_classification_cross_entropy_objective\": {\"sum\": 0.4390140253240412, \"count\": 1, \"min\": 0.4390140253240412, \"max\": 0.4390140253240412}}}\u001b[0m\n",
      "\u001b[34m#metrics {\"StartTime\": 1642955011.2718365, \"EndTime\": 1642955011.2718506, \"Dimensions\": {\"Algorithm\": \"Linear Learner\", \"Host\": \"algo-1\", \"Operation\": \"training\", \"epoch\": 3, \"model\": 21}, \"Metrics\": {\"train_binary_classification_cross_entropy_objective\": {\"sum\": 0.4393878700949929, \"count\": 1, \"min\": 0.4393878700949929, \"max\": 0.4393878700949929}}}\u001b[0m\n",
      "\u001b[34m#metrics {\"StartTime\": 1642955011.2718983, \"EndTime\": 1642955011.2719142, \"Dimensions\": {\"Algorithm\": \"Linear Learner\", \"Host\": \"algo-1\", \"Operation\": \"training\", \"epoch\": 3, \"model\": 22}, \"Metrics\": {\"train_binary_classification_cross_entropy_objective\": {\"sum\": 0.4390181451970881, \"count\": 1, \"min\": 0.4390181451970881, \"max\": 0.4390181451970881}}}\u001b[0m\n",
      "\u001b[34m#metrics {\"StartTime\": 1642955011.2719674, \"EndTime\": 1642955011.271983, \"Dimensions\": {\"Algorithm\": \"Linear Learner\", \"Host\": \"algo-1\", \"Operation\": \"training\", \"epoch\": 3, \"model\": 23}, \"Metrics\": {\"train_binary_classification_cross_entropy_objective\": {\"sum\": 0.4393608476118608, \"count\": 1, \"min\": 0.4393608476118608, \"max\": 0.4393608476118608}}}\u001b[0m\n",
      "\u001b[34m#metrics {\"StartTime\": 1642955011.2720377, \"EndTime\": 1642955011.2720537, \"Dimensions\": {\"Algorithm\": \"Linear Learner\", \"Host\": \"algo-1\", \"Operation\": \"training\", \"epoch\": 3, \"model\": 24}, \"Metrics\": {\"train_binary_classification_cross_entropy_objective\": {\"sum\": 0.5408764803799716, \"count\": 1, \"min\": 0.5408764803799716, \"max\": 0.5408764803799716}}}\u001b[0m\n",
      "\u001b[34m#metrics {\"StartTime\": 1642955011.272105, \"EndTime\": 1642955011.27212, \"Dimensions\": {\"Algorithm\": \"Linear Learner\", \"Host\": \"algo-1\", \"Operation\": \"training\", \"epoch\": 3, \"model\": 25}, \"Metrics\": {\"train_binary_classification_cross_entropy_objective\": {\"sum\": 0.5409026156338779, \"count\": 1, \"min\": 0.5409026156338779, \"max\": 0.5409026156338779}}}\u001b[0m\n",
      "\u001b[34m#metrics {\"StartTime\": 1642955011.272172, \"EndTime\": 1642955011.2721853, \"Dimensions\": {\"Algorithm\": \"Linear Learner\", \"Host\": \"algo-1\", \"Operation\": \"training\", \"epoch\": 3, \"model\": 26}, \"Metrics\": {\"train_binary_classification_cross_entropy_objective\": {\"sum\": 0.5408763904918323, \"count\": 1, \"min\": 0.5408763904918323, \"max\": 0.5408763904918323}}}\u001b[0m\n",
      "\u001b[34m#metrics {\"StartTime\": 1642955011.2722342, \"EndTime\": 1642955011.2722495, \"Dimensions\": {\"Algorithm\": \"Linear Learner\", \"Host\": \"algo-1\", \"Operation\": \"training\", \"epoch\": 3, \"model\": 27}, \"Metrics\": {\"train_binary_classification_cross_entropy_objective\": {\"sum\": 0.540901748379794, \"count\": 1, \"min\": 0.540901748379794, \"max\": 0.540901748379794}}}\u001b[0m\n",
      "\u001b[34m#metrics {\"StartTime\": 1642955011.2723317, \"EndTime\": 1642955011.2723484, \"Dimensions\": {\"Algorithm\": \"Linear Learner\", \"Host\": \"algo-1\", \"Operation\": \"training\", \"epoch\": 3, \"model\": 28}, \"Metrics\": {\"train_binary_classification_cross_entropy_objective\": {\"sum\": 0.5415961597789417, \"count\": 1, \"min\": 0.5415961597789417, \"max\": 0.5415961597789417}}}\u001b[0m\n",
      "\u001b[34m#metrics {\"StartTime\": 1642955011.272408, \"EndTime\": 1642955011.2724254, \"Dimensions\": {\"Algorithm\": \"Linear Learner\", \"Host\": \"algo-1\", \"Operation\": \"training\", \"epoch\": 3, \"model\": 29}, \"Metrics\": {\"train_binary_classification_cross_entropy_objective\": {\"sum\": 0.5419134629683061, \"count\": 1, \"min\": 0.5419134629683061, \"max\": 0.5419134629683061}}}\u001b[0m\n",
      "\u001b[34m#metrics {\"StartTime\": 1642955011.2724764, \"EndTime\": 1642955011.2724926, \"Dimensions\": {\"Algorithm\": \"Linear Learner\", \"Host\": \"algo-1\", \"Operation\": \"training\", \"epoch\": 3, \"model\": 30}, \"Metrics\": {\"train_binary_classification_cross_entropy_objective\": {\"sum\": 0.5415950045498935, \"count\": 1, \"min\": 0.5415950045498935, \"max\": 0.5415950045498935}}}\u001b[0m\n",
      "\u001b[34m#metrics {\"StartTime\": 1642955011.2725446, \"EndTime\": 1642955011.2725606, \"Dimensions\": {\"Algorithm\": \"Linear Learner\", \"Host\": \"algo-1\", \"Operation\": \"training\", \"epoch\": 3, \"model\": 31}, \"Metrics\": {\"train_binary_classification_cross_entropy_objective\": {\"sum\": 0.5419180239590732, \"count\": 1, \"min\": 0.5419180239590732, \"max\": 0.5419180239590732}}}\u001b[0m\n",
      "\u001b[34m[01/23/2022 16:23:31 INFO 140540794976064] #quality_metric: host=algo-1, epoch=3, train binary_classification_cross_entropy_objective <loss>=0.22008080694025214\u001b[0m\n",
      "\u001b[34m[01/23/2022 16:23:31 INFO 140540794976064] #early_stopping_criteria_metric: host=algo-1, epoch=3, criteria=binary_classification_cross_entropy_objective, value=0.00957091048414057\u001b[0m\n",
      "\u001b[34m[01/23/2022 16:23:31 INFO 140540794976064] Epoch 3: Loss improved. Updating best model\u001b[0m\n",
      "\u001b[34m[01/23/2022 16:23:31 INFO 140540794976064] Saving model for epoch: 3\u001b[0m\n",
      "\u001b[34m[01/23/2022 16:23:31 INFO 140540794976064] Saved checkpoint to \"/tmp/tmp1vqszu9u/mx-mod-0000.params\"\u001b[0m\n",
      "\u001b[34m[01/23/2022 16:23:31 INFO 140540794976064] #progress_metric: host=algo-1, completed 80.0 % of epochs\u001b[0m\n",
      "\u001b[34m#metrics {\"StartTime\": 1642955007.733858, \"EndTime\": 1642955011.2802248, \"Dimensions\": {\"Algorithm\": \"Linear Learner\", \"Host\": \"algo-1\", \"Operation\": \"training\", \"epoch\": 3, \"Meta\": \"training_data_iter\"}, \"Metrics\": {\"Total Records Seen\": {\"sum\": 452560.0, \"count\": 1, \"min\": 452560, \"max\": 452560}, \"Total Batches Seen\": {\"sum\": 456.0, \"count\": 1, \"min\": 456, \"max\": 456}, \"Max Records Seen Between Resets\": {\"sum\": 110140.0, \"count\": 1, \"min\": 110140, \"max\": 110140}, \"Max Batches Seen Between Resets\": {\"sum\": 111.0, \"count\": 1, \"min\": 111, \"max\": 111}, \"Reset Count\": {\"sum\": 6.0, \"count\": 1, \"min\": 6, \"max\": 6}, \"Number of Records Since Last Reset\": {\"sum\": 110140.0, \"count\": 1, \"min\": 110140, \"max\": 110140}, \"Number of Batches Since Last Reset\": {\"sum\": 111.0, \"count\": 1, \"min\": 111, \"max\": 111}}}\u001b[0m\n",
      "\u001b[34m[01/23/2022 16:23:31 INFO 140540794976064] #throughput_metric: host=algo-1, train throughput=31055.772621183965 records/second\u001b[0m\n",
      "\u001b[34m[2022-01-23 16:23:34.774] [tensorio] [info] epoch_stats={\"data_pipeline\": \"/opt/ml/input/data/train\", \"epoch\": 11, \"duration\": 3493, \"num_examples\": 111, \"num_bytes\": 11014000}\u001b[0m\n",
      "\u001b[34m#metrics {\"StartTime\": 1642955014.7747476, \"EndTime\": 1642955014.7748046, \"Dimensions\": {\"Algorithm\": \"Linear Learner\", \"Host\": \"algo-1\", \"Operation\": \"training\", \"epoch\": 4, \"model\": 0}, \"Metrics\": {\"train_binary_classification_cross_entropy_objective\": {\"sum\": 0.19369017001065342, \"count\": 1, \"min\": 0.19369017001065342, \"max\": 0.19369017001065342}}}\u001b[0m\n",
      "\u001b[34m#metrics {\"StartTime\": 1642955014.774867, \"EndTime\": 1642955014.7748792, \"Dimensions\": {\"Algorithm\": \"Linear Learner\", \"Host\": \"algo-1\", \"Operation\": \"training\", \"epoch\": 4, \"model\": 1}, \"Metrics\": {\"train_binary_classification_cross_entropy_objective\": {\"sum\": 0.16553689797141335, \"count\": 1, \"min\": 0.16553689797141335, \"max\": 0.16553689797141335}}}\u001b[0m\n",
      "\u001b[34m#metrics {\"StartTime\": 1642955014.774909, \"EndTime\": 1642955014.774917, \"Dimensions\": {\"Algorithm\": \"Linear Learner\", \"Host\": \"algo-1\", \"Operation\": \"training\", \"epoch\": 4, \"model\": 2}, \"Metrics\": {\"train_binary_classification_cross_entropy_objective\": {\"sum\": 0.19294326893199573, \"count\": 1, \"min\": 0.19294326893199573, \"max\": 0.19294326893199573}}}\u001b[0m\n",
      "\u001b[34m#metrics {\"StartTime\": 1642955014.7749422, \"EndTime\": 1642955014.7749496, \"Dimensions\": {\"Algorithm\": \"Linear Learner\", \"Host\": \"algo-1\", \"Operation\": \"training\", \"epoch\": 4, \"model\": 3}, \"Metrics\": {\"train_binary_classification_cross_entropy_objective\": {\"sum\": 0.17218755964799362, \"count\": 1, \"min\": 0.17218755964799362, \"max\": 0.17218755964799362}}}\u001b[0m\n",
      "\u001b[34m#metrics {\"StartTime\": 1642955014.7749846, \"EndTime\": 1642955014.774997, \"Dimensions\": {\"Algorithm\": \"Linear Learner\", \"Host\": \"algo-1\", \"Operation\": \"training\", \"epoch\": 4, \"model\": 4}, \"Metrics\": {\"train_binary_classification_cross_entropy_objective\": {\"sum\": 0.008775191506472501, \"count\": 1, \"min\": 0.008775191506472501, \"max\": 0.008775191506472501}}}\u001b[0m\n",
      "\u001b[34m#metrics {\"StartTime\": 1642955014.7750385, \"EndTime\": 1642955014.7750523, \"Dimensions\": {\"Algorithm\": \"Linear Learner\", \"Host\": \"algo-1\", \"Operation\": \"training\", \"epoch\": 4, \"model\": 5}, \"Metrics\": {\"train_binary_classification_cross_entropy_objective\": {\"sum\": 0.007215692082318393, \"count\": 1, \"min\": 0.007215692082318393, \"max\": 0.007215692082318393}}}\u001b[0m\n",
      "\u001b[34m#metrics {\"StartTime\": 1642955014.7750952, \"EndTime\": 1642955014.775108, \"Dimensions\": {\"Algorithm\": \"Linear Learner\", \"Host\": \"algo-1\", \"Operation\": \"training\", \"epoch\": 4, \"model\": 6}, \"Metrics\": {\"train_binary_classification_cross_entropy_objective\": {\"sum\": 0.00900264590436762, \"count\": 1, \"min\": 0.00900264590436762, \"max\": 0.00900264590436762}}}\u001b[0m\n",
      "\u001b[34m#metrics {\"StartTime\": 1642955014.7751493, \"EndTime\": 1642955014.775164, \"Dimensions\": {\"Algorithm\": \"Linear Learner\", \"Host\": \"algo-1\", \"Operation\": \"training\", \"epoch\": 4, \"model\": 7}, \"Metrics\": {\"train_binary_classification_cross_entropy_objective\": {\"sum\": 0.007308515938845548, \"count\": 1, \"min\": 0.007308515938845548, \"max\": 0.007308515938845548}}}\u001b[0m\n",
      "\u001b[34m#metrics {\"StartTime\": 1642955014.775212, \"EndTime\": 1642955014.7752266, \"Dimensions\": {\"Algorithm\": \"Linear Learner\", \"Host\": \"algo-1\", \"Operation\": \"training\", \"epoch\": 4, \"model\": 8}, \"Metrics\": {\"train_binary_classification_cross_entropy_objective\": {\"sum\": 0.18898925600918856, \"count\": 1, \"min\": 0.18898925600918856, \"max\": 0.18898925600918856}}}\u001b[0m\n",
      "\u001b[34m#metrics {\"StartTime\": 1642955014.7752762, \"EndTime\": 1642955014.775291, \"Dimensions\": {\"Algorithm\": \"Linear Learner\", \"Host\": \"algo-1\", \"Operation\": \"training\", \"epoch\": 4, \"model\": 9}, \"Metrics\": {\"train_binary_classification_cross_entropy_objective\": {\"sum\": 0.1683136684070934, \"count\": 1, \"min\": 0.1683136684070934, \"max\": 0.1683136684070934}}}\u001b[0m\n",
      "\u001b[34m#metrics {\"StartTime\": 1642955014.77533, \"EndTime\": 1642955014.7753394, \"Dimensions\": {\"Algorithm\": \"Linear Learner\", \"Host\": \"algo-1\", \"Operation\": \"training\", \"epoch\": 4, \"model\": 10}, \"Metrics\": {\"train_binary_classification_cross_entropy_objective\": {\"sum\": 0.19054078202681107, \"count\": 1, \"min\": 0.19054078202681107, \"max\": 0.19054078202681107}}}\u001b[0m\n",
      "\u001b[34m#metrics {\"StartTime\": 1642955014.7753775, \"EndTime\": 1642955014.7753923, \"Dimensions\": {\"Algorithm\": \"Linear Learner\", \"Host\": \"algo-1\", \"Operation\": \"training\", \"epoch\": 4, \"model\": 11}, \"Metrics\": {\"train_binary_classification_cross_entropy_objective\": {\"sum\": 0.17268961681019177, \"count\": 1, \"min\": 0.17268961681019177, \"max\": 0.17268961681019177}}}\u001b[0m\n",
      "\u001b[34m#metrics {\"StartTime\": 1642955014.775441, \"EndTime\": 1642955014.7754564, \"Dimensions\": {\"Algorithm\": \"Linear Learner\", \"Host\": \"algo-1\", \"Operation\": \"training\", \"epoch\": 4, \"model\": 12}, \"Metrics\": {\"train_binary_classification_cross_entropy_objective\": {\"sum\": 0.0739590314691717, \"count\": 1, \"min\": 0.0739590314691717, \"max\": 0.0739590314691717}}}\u001b[0m\n",
      "\u001b[34m#metrics {\"StartTime\": 1642955014.775503, \"EndTime\": 1642955014.7755132, \"Dimensions\": {\"Algorithm\": \"Linear Learner\", \"Host\": \"algo-1\", \"Operation\": \"training\", \"epoch\": 4, \"model\": 13}, \"Metrics\": {\"train_binary_classification_cross_entropy_objective\": {\"sum\": 0.07409801954789595, \"count\": 1, \"min\": 0.07409801954789595, \"max\": 0.07409801954789595}}}\u001b[0m\n",
      "\u001b[34m#metrics {\"StartTime\": 1642955014.77555, \"EndTime\": 1642955014.7755573, \"Dimensions\": {\"Algorithm\": \"Linear Learner\", \"Host\": \"algo-1\", \"Operation\": \"training\", \"epoch\": 4, \"model\": 14}, \"Metrics\": {\"train_binary_classification_cross_entropy_objective\": {\"sum\": 0.07396272631558505, \"count\": 1, \"min\": 0.07396272631558505, \"max\": 0.07396272631558505}}}\u001b[0m\n",
      "\u001b[34m#metrics {\"StartTime\": 1642955014.7755795, \"EndTime\": 1642955014.7755876, \"Dimensions\": {\"Algorithm\": \"Linear Learner\", \"Host\": \"algo-1\", \"Operation\": \"training\", \"epoch\": 4, \"model\": 15}, \"Metrics\": {\"train_binary_classification_cross_entropy_objective\": {\"sum\": 0.07409980926513672, \"count\": 1, \"min\": 0.07409980926513672, \"max\": 0.07409980926513672}}}\u001b[0m\n",
      "\u001b[34m#metrics {\"StartTime\": 1642955014.7756321, \"EndTime\": 1642955014.7756467, \"Dimensions\": {\"Algorithm\": \"Linear Learner\", \"Host\": \"algo-1\", \"Operation\": \"training\", \"epoch\": 4, \"model\": 16}, \"Metrics\": {\"train_binary_classification_cross_entropy_objective\": {\"sum\": 0.43807117143110796, \"count\": 1, \"min\": 0.43807117143110796, \"max\": 0.43807117143110796}}}\u001b[0m\n",
      "\u001b[34m#metrics {\"StartTime\": 1642955014.7756948, \"EndTime\": 1642955014.7757099, \"Dimensions\": {\"Algorithm\": \"Linear Learner\", \"Host\": \"algo-1\", \"Operation\": \"training\", \"epoch\": 4, \"model\": 17}, \"Metrics\": {\"train_binary_classification_cross_entropy_objective\": {\"sum\": 0.43809195556640623, \"count\": 1, \"min\": 0.43809195556640623, \"max\": 0.43809195556640623}}}\u001b[0m\n",
      "\u001b[34m#metrics {\"StartTime\": 1642955014.7757506, \"EndTime\": 1642955014.77576, \"Dimensions\": {\"Algorithm\": \"Linear Learner\", \"Host\": \"algo-1\", \"Operation\": \"training\", \"epoch\": 4, \"model\": 18}, \"Metrics\": {\"train_binary_classification_cross_entropy_objective\": {\"sum\": 0.43806888927112925, \"count\": 1, \"min\": 0.43806888927112925, \"max\": 0.43806888927112925}}}\u001b[0m\n",
      "\u001b[34m#metrics {\"StartTime\": 1642955014.7758021, \"EndTime\": 1642955014.7758164, \"Dimensions\": {\"Algorithm\": \"Linear Learner\", \"Host\": \"algo-1\", \"Operation\": \"training\", \"epoch\": 4, \"model\": 19}, \"Metrics\": {\"train_binary_classification_cross_entropy_objective\": {\"sum\": 0.43810025634765626, \"count\": 1, \"min\": 0.43810025634765626, \"max\": 0.43810025634765626}}}\u001b[0m\n",
      "\u001b[34m#metrics {\"StartTime\": 1642955014.7758634, \"EndTime\": 1642955014.7758772, \"Dimensions\": {\"Algorithm\": \"Linear Learner\", \"Host\": \"algo-1\", \"Operation\": \"training\", \"epoch\": 4, \"model\": 20}, \"Metrics\": {\"train_binary_classification_cross_entropy_objective\": {\"sum\": 0.43895587629838423, \"count\": 1, \"min\": 0.43895587629838423, \"max\": 0.43895587629838423}}}\u001b[0m\n",
      "\u001b[34m#metrics {\"StartTime\": 1642955014.7759159, \"EndTime\": 1642955014.7759244, \"Dimensions\": {\"Algorithm\": \"Linear Learner\", \"Host\": \"algo-1\", \"Operation\": \"training\", \"epoch\": 4, \"model\": 21}, \"Metrics\": {\"train_binary_classification_cross_entropy_objective\": {\"sum\": 0.4393667178067294, \"count\": 1, \"min\": 0.4393667178067294, \"max\": 0.4393667178067294}}}\u001b[0m\n",
      "\u001b[34m#metrics {\"StartTime\": 1642955014.7759616, \"EndTime\": 1642955014.7759762, \"Dimensions\": {\"Algorithm\": \"Linear Learner\", \"Host\": \"algo-1\", \"Operation\": \"training\", \"epoch\": 4, \"model\": 22}, \"Metrics\": {\"train_binary_classification_cross_entropy_objective\": {\"sum\": 0.43895834794477984, \"count\": 1, \"min\": 0.43895834794477984, \"max\": 0.43895834794477984}}}\u001b[0m\n",
      "\u001b[34m#metrics {\"StartTime\": 1642955014.776024, \"EndTime\": 1642955014.7760386, \"Dimensions\": {\"Algorithm\": \"Linear Learner\", \"Host\": \"algo-1\", \"Operation\": \"training\", \"epoch\": 4, \"model\": 23}, \"Metrics\": {\"train_binary_classification_cross_entropy_objective\": {\"sum\": 0.43937046370072796, \"count\": 1, \"min\": 0.43937046370072796, \"max\": 0.43937046370072796}}}\u001b[0m\n",
      "\u001b[34m#metrics {\"StartTime\": 1642955014.7760756, \"EndTime\": 1642955014.7760894, \"Dimensions\": {\"Algorithm\": \"Linear Learner\", \"Host\": \"algo-1\", \"Operation\": \"training\", \"epoch\": 4, \"model\": 24}, \"Metrics\": {\"train_binary_classification_cross_entropy_objective\": {\"sum\": 0.540878486772017, \"count\": 1, \"min\": 0.540878486772017, \"max\": 0.540878486772017}}}\u001b[0m\n",
      "\u001b[34m#metrics {\"StartTime\": 1642955014.7761366, \"EndTime\": 1642955014.7761517, \"Dimensions\": {\"Algorithm\": \"Linear Learner\", \"Host\": \"algo-1\", \"Operation\": \"training\", \"epoch\": 4, \"model\": 25}, \"Metrics\": {\"train_binary_classification_cross_entropy_objective\": {\"sum\": 0.5409144966819069, \"count\": 1, \"min\": 0.5409144966819069, \"max\": 0.5409144966819069}}}\u001b[0m\n",
      "\u001b[34m#metrics {\"StartTime\": 1642955014.7762077, \"EndTime\": 1642955014.7762194, \"Dimensions\": {\"Algorithm\": \"Linear Learner\", \"Host\": \"algo-1\", \"Operation\": \"training\", \"epoch\": 4, \"model\": 26}, \"Metrics\": {\"train_binary_classification_cross_entropy_objective\": {\"sum\": 0.5408784901012074, \"count\": 1, \"min\": 0.5408784901012074, \"max\": 0.5408784901012074}}}\u001b[0m\n",
      "\u001b[34m#metrics {\"StartTime\": 1642955014.7762678, \"EndTime\": 1642955014.7762825, \"Dimensions\": {\"Algorithm\": \"Linear Learner\", \"Host\": \"algo-1\", \"Operation\": \"training\", \"epoch\": 4, \"model\": 27}, \"Metrics\": {\"train_binary_classification_cross_entropy_objective\": {\"sum\": 0.5409135140158914, \"count\": 1, \"min\": 0.5409135140158914, \"max\": 0.5409135140158914}}}\u001b[0m\n",
      "\u001b[34m#metrics {\"StartTime\": 1642955014.776369, \"EndTime\": 1642955014.7763848, \"Dimensions\": {\"Algorithm\": \"Linear Learner\", \"Host\": \"algo-1\", \"Operation\": \"training\", \"epoch\": 4, \"model\": 28}, \"Metrics\": {\"train_binary_classification_cross_entropy_objective\": {\"sum\": 0.5415978199351917, \"count\": 1, \"min\": 0.5415978199351917, \"max\": 0.5415978199351917}}}\u001b[0m\n",
      "\u001b[34m#metrics {\"StartTime\": 1642955014.7764351, \"EndTime\": 1642955014.7764516, \"Dimensions\": {\"Algorithm\": \"Linear Learner\", \"Host\": \"algo-1\", \"Operation\": \"training\", \"epoch\": 4, \"model\": 29}, \"Metrics\": {\"train_binary_classification_cross_entropy_objective\": {\"sum\": 0.5418417616410689, \"count\": 1, \"min\": 0.5418417616410689, \"max\": 0.5418417616410689}}}\u001b[0m\n",
      "\u001b[34m#metrics {\"StartTime\": 1642955014.776512, \"EndTime\": 1642955014.776528, \"Dimensions\": {\"Algorithm\": \"Linear Learner\", \"Host\": \"algo-1\", \"Operation\": \"training\", \"epoch\": 4, \"model\": 30}, \"Metrics\": {\"train_binary_classification_cross_entropy_objective\": {\"sum\": 0.5415972900390625, \"count\": 1, \"min\": 0.5415972900390625, \"max\": 0.5415972900390625}}}\u001b[0m\n",
      "\u001b[34m#metrics {\"StartTime\": 1642955014.776573, \"EndTime\": 1642955014.7765841, \"Dimensions\": {\"Algorithm\": \"Linear Learner\", \"Host\": \"algo-1\", \"Operation\": \"training\", \"epoch\": 4, \"model\": 31}, \"Metrics\": {\"train_binary_classification_cross_entropy_objective\": {\"sum\": 0.5418396961558949, \"count\": 1, \"min\": 0.5418396961558949, \"max\": 0.5418396961558949}}}\u001b[0m\n",
      "\u001b[34m[01/23/2022 16:23:34 INFO 140540794976064] #quality_metric: host=algo-1, epoch=4, train binary_classification_cross_entropy_objective <loss>=0.19369017001065342\u001b[0m\n",
      "\u001b[34m[01/23/2022 16:23:34 INFO 140540794976064] #early_stopping_criteria_metric: host=algo-1, epoch=4, criteria=binary_classification_cross_entropy_objective, value=0.007215692082318393\u001b[0m\n",
      "\u001b[34m[01/23/2022 16:23:34 INFO 140540794976064] Epoch 4: Loss improved. Updating best model\u001b[0m\n",
      "\u001b[34m[01/23/2022 16:23:34 INFO 140540794976064] Saving model for epoch: 4\u001b[0m\n",
      "\u001b[34m[01/23/2022 16:23:34 INFO 140540794976064] Saved checkpoint to \"/tmp/tmp9cs2s3ov/mx-mod-0000.params\"\u001b[0m\n",
      "\u001b[34m[01/23/2022 16:23:34 INFO 140540794976064] #progress_metric: host=algo-1, completed 100.0 % of epochs\u001b[0m\n",
      "\u001b[34m#metrics {\"StartTime\": 1642955011.2810175, \"EndTime\": 1642955014.7846138, \"Dimensions\": {\"Algorithm\": \"Linear Learner\", \"Host\": \"algo-1\", \"Operation\": \"training\", \"epoch\": 4, \"Meta\": \"training_data_iter\"}, \"Metrics\": {\"Total Records Seen\": {\"sum\": 562700.0, \"count\": 1, \"min\": 562700, \"max\": 562700}, \"Total Batches Seen\": {\"sum\": 567.0, \"count\": 1, \"min\": 567, \"max\": 567}, \"Max Records Seen Between Resets\": {\"sum\": 110140.0, \"count\": 1, \"min\": 110140, \"max\": 110140}, \"Max Batches Seen Between Resets\": {\"sum\": 111.0, \"count\": 1, \"min\": 111, \"max\": 111}, \"Reset Count\": {\"sum\": 7.0, \"count\": 1, \"min\": 7, \"max\": 7}, \"Number of Records Since Last Reset\": {\"sum\": 110140.0, \"count\": 1, \"min\": 110140, \"max\": 110140}, \"Number of Batches Since Last Reset\": {\"sum\": 111.0, \"count\": 1, \"min\": 111, \"max\": 111}}}\u001b[0m\n",
      "\u001b[34m[01/23/2022 16:23:34 INFO 140540794976064] #throughput_metric: host=algo-1, train throughput=31435.202720914567 records/second\u001b[0m\n",
      "\u001b[34m[01/23/2022 16:23:34 WARNING 140540794976064] wait_for_all_workers will not sync workers since the kv store is not running distributed\u001b[0m\n",
      "\u001b[34m[01/23/2022 16:23:34 WARNING 140540794976064] wait_for_all_workers will not sync workers since the kv store is not running distributed\u001b[0m\n",
      "\u001b[34m[2022-01-23 16:23:34.788] [tensorio] [info] epoch_stats={\"data_pipeline\": \"/opt/ml/input/data/train\", \"epoch\": 13, \"duration\": 3, \"num_examples\": 1, \"num_bytes\": 100000}\u001b[0m\n",
      "\u001b[34m[2022-01-23 16:23:35.101] [tensorio] [info] epoch_stats={\"data_pipeline\": \"/opt/ml/input/data/train\", \"epoch\": 16, \"duration\": 310, \"num_examples\": 111, \"num_bytes\": 11014000}\u001b[0m\n",
      "\u001b[34m[2022-01-23 16:23:35.537] [tensorio] [info] epoch_stats={\"data_pipeline\": \"/opt/ml/input/data/train\", \"epoch\": 18, \"duration\": 391, \"num_examples\": 111, \"num_bytes\": 11014000}\u001b[0m\n",
      "\u001b[34m[01/23/2022 16:23:35 INFO 140540794976064] #train_score (algo-1) : ('binary_classification_cross_entropy_objective', 0.006392241831762682)\u001b[0m\n",
      "\u001b[34m[01/23/2022 16:23:35 INFO 140540794976064] #train_score (algo-1) : ('binary_classification_accuracy', 0.9976393680769929)\u001b[0m\n",
      "\u001b[34m[01/23/2022 16:23:35 INFO 140540794976064] #train_score (algo-1) : ('binary_f_1.000', 0.9949475320637389)\u001b[0m\n",
      "\u001b[34m[01/23/2022 16:23:35 INFO 140540794976064] #train_score (algo-1) : ('precision', 0.9899458623356535)\u001b[0m\n",
      "\u001b[34m[01/23/2022 16:23:35 INFO 140540794976064] #train_score (algo-1) : ('recall', 1.0)\u001b[0m\n",
      "\u001b[34m[01/23/2022 16:23:35 INFO 140540794976064] #train_score (algo-1) : ('roc_auc_score', 0.9999999999999999)\u001b[0m\n",
      "\u001b[34m[01/23/2022 16:23:35 INFO 140540794976064] #train_score (algo-1) : ('binary_balanced_accuracy', 0.5)\u001b[0m\n",
      "\u001b[34m[01/23/2022 16:23:35 INFO 140540794976064] #train_score (algo-1) : ('binary_log_loss', 0.6072867594038655)\u001b[0m\n",
      "\u001b[34m[01/23/2022 16:23:35 INFO 140540794976064] #quality_metric: host=algo-1, train binary_classification_cross_entropy_objective <loss>=0.006392241831762682\u001b[0m\n",
      "\u001b[34m[01/23/2022 16:23:35 INFO 140540794976064] #quality_metric: host=algo-1, train binary_classification_accuracy <score>=0.9976393680769929\u001b[0m\n",
      "\u001b[34m[01/23/2022 16:23:35 INFO 140540794976064] #quality_metric: host=algo-1, train binary_f_1.000 <score>=0.9949475320637389\u001b[0m\n",
      "\u001b[34m[01/23/2022 16:23:35 INFO 140540794976064] #quality_metric: host=algo-1, train precision <score>=0.9899458623356535\u001b[0m\n",
      "\u001b[34m[01/23/2022 16:23:35 INFO 140540794976064] #quality_metric: host=algo-1, train recall <score>=1.0\u001b[0m\n",
      "\u001b[34m[01/23/2022 16:23:35 INFO 140540794976064] #quality_metric: host=algo-1, train roc_auc_score <score>=0.9999999999999999\u001b[0m\n",
      "\u001b[34m[01/23/2022 16:23:35 INFO 140540794976064] #quality_metric: host=algo-1, train binary_balanced_accuracy <score>=0.5\u001b[0m\n",
      "\u001b[34m[01/23/2022 16:23:35 INFO 140540794976064] #quality_metric: host=algo-1, train binary_log_loss <score>=0.6072867594038655\u001b[0m\n",
      "\u001b[34m[01/23/2022 16:23:35 INFO 140540794976064] Best model found for hyperparameters: {\"optimizer\": \"adam\", \"learning_rate\": 0.1, \"wd\": 0.0001, \"l1\": 0.0, \"lr_scheduler_step\": 100, \"lr_scheduler_factor\": 0.99, \"lr_scheduler_minimum_lr\": 1e-05}\u001b[0m\n",
      "\u001b[34m[01/23/2022 16:23:35 INFO 140540794976064] Saved checkpoint to \"/tmp/tmpnx74oewq/mx-mod-0000.params\"\u001b[0m\n",
      "\u001b[34m[01/23/2022 16:23:35 INFO 140540794976064] Test data is not provided.\u001b[0m\n",
      "\u001b[34m#metrics {\"StartTime\": 1642954995.9022403, \"EndTime\": 1642955015.726899, \"Dimensions\": {\"Algorithm\": \"Linear Learner\", \"Host\": \"algo-1\", \"Operation\": \"training\"}, \"Metrics\": {\"initialize.time\": {\"sum\": 261.8238925933838, \"count\": 1, \"min\": 261.8238925933838, \"max\": 261.8238925933838}, \"epochs\": {\"sum\": 5.0, \"count\": 1, \"min\": 5, \"max\": 5}, \"check_early_stopping.time\": {\"sum\": 4.52113151550293, \"count\": 5, \"min\": 0.7846355438232422, \"max\": 1.0313987731933594}, \"update.time\": {\"sum\": 18595.502138137817, \"count\": 5, \"min\": 3500.9734630584717, \"max\": 4215.065240859985}, \"finalize.time\": {\"sum\": 936.755895614624, \"count\": 1, \"min\": 936.755895614624, \"max\": 936.755895614624}, \"setuptime\": {\"sum\": 29.964923858642578, \"count\": 1, \"min\": 29.964923858642578, \"max\": 29.964923858642578}, \"totaltime\": {\"sum\": 20096.986055374146, \"count\": 1, \"min\": 20096.986055374146, \"max\": 20096.986055374146}}}\u001b[0m\n",
      "\n",
      "2022-01-23 16:23:54 Completed - Training job completed\n",
      "Training seconds: 75\n",
      "Billable seconds: 75\n",
      "CPU times: user 714 ms, sys: 43 ms, total: 757 ms\n",
      "Wall time: 5min 14s\n"
     ]
    }
   ],
   "source": [
    "%%time\n",
    "linear.fit(train_data, wait=True)"
   ]
  },
  {
   "cell_type": "code",
   "execution_count": 28,
   "id": "f555ce57",
   "metadata": {},
   "outputs": [
    {
     "name": "stderr",
     "output_type": "stream",
     "text": [
      "Defaulting to the only supported framework/algorithm version: 1. Ignoring framework/algorithm version: 1.\n"
     ]
    },
    {
     "name": "stdout",
     "output_type": "stream",
     "text": [
      "----------!CPU times: user 201 ms, sys: 4.87 ms, total: 206 ms\n",
      "Wall time: 5min 1s\n"
     ]
    }
   ],
   "source": [
    "%%time\n",
    "# deploy your model to create a predictor\n",
    "predictor = linear.deploy(initial_instance_count=1, instance_type='ml.t2.medium')"
   ]
  },
  {
   "cell_type": "code",
   "execution_count": 29,
   "id": "522d9829",
   "metadata": {},
   "outputs": [],
   "source": [
    "prediction = predictor.predict(X_test_scaled)"
   ]
  },
  {
   "cell_type": "code",
   "execution_count": 30,
   "id": "a9c9d86f",
   "metadata": {},
   "outputs": [
    {
     "data": {
      "text/plain": [
       "array([0., 0., 0., ..., 1., 0., 1.])"
      ]
     },
     "execution_count": 30,
     "metadata": {},
     "output_type": "execute_result"
    }
   ],
   "source": [
    "y_prediction = np.array([x.label['predicted_label'].float32_tensor.values[0] for x in prediction])\n",
    "y_prediction"
   ]
  },
  {
   "cell_type": "code",
   "execution_count": 31,
   "id": "3fb4ca3f",
   "metadata": {},
   "outputs": [
    {
     "name": "stdout",
     "output_type": "stream",
     "text": [
      "Test passed!\n"
     ]
    }
   ],
   "source": [
    "# test that your model generates the correct number of labels\n",
    "assert len(y_prediction)==len(y_test_np), 'Unexpected number of predictions.'\n",
    "print('Test passed!')"
   ]
  },
  {
   "cell_type": "code",
   "execution_count": 32,
   "id": "b5f7e143",
   "metadata": {},
   "outputs": [],
   "source": [
    "from sklearn.linear_model import LogisticRegression\n",
    "lr = LogisticRegression()\n",
    "lr.fit(X_train_scaled, y_train)\n",
    "lr_pred = lr.predict(X_test_scaled)"
   ]
  },
  {
   "cell_type": "code",
   "execution_count": 33,
   "id": "fe6eeb15",
   "metadata": {},
   "outputs": [
    {
     "data": {
      "text/plain": [
       "1.0"
      ]
     },
     "execution_count": 33,
     "metadata": {},
     "output_type": "execute_result"
    }
   ],
   "source": [
    "from sklearn.metrics import accuracy_score, confusion_matrix\n",
    "accuracy_score(y_test, lr_pred)"
   ]
  },
  {
   "cell_type": "code",
   "execution_count": 34,
   "id": "2a28aae6",
   "metadata": {},
   "outputs": [
    {
     "data": {
      "text/plain": [
       "array([[21066,     0],\n",
       "       [    0,  6470]])"
      ]
     },
     "execution_count": 34,
     "metadata": {},
     "output_type": "execute_result"
    }
   ],
   "source": [
    "confusion_matrix(y_test, lr_pred)"
   ]
  },
  {
   "cell_type": "markdown",
   "id": "3ea7a9dd",
   "metadata": {},
   "source": [
    "This shows the data was carefully handled and trained. The benchmark model evaluated with a metrics of 100%. Its time to evaluate the deployed endpoint using lambda function."
   ]
  },
  {
   "cell_type": "code",
   "execution_count": null,
   "id": "abc246b5",
   "metadata": {},
   "outputs": [],
   "source": []
  }
 ],
 "metadata": {
  "kernelspec": {
   "display_name": "conda_python3",
   "language": "python",
   "name": "conda_python3"
  },
  "language_info": {
   "codemirror_mode": {
    "name": "ipython",
    "version": 3
   },
   "file_extension": ".py",
   "mimetype": "text/x-python",
   "name": "python",
   "nbconvert_exporter": "python",
   "pygments_lexer": "ipython3",
   "version": "3.6.13"
  }
 },
 "nbformat": 4,
 "nbformat_minor": 5
}
